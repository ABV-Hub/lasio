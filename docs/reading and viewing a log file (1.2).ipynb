{
 "metadata": {
  "name": ""
 },
 "nbformat": 3,
 "nbformat_minor": 0,
 "worksheets": [
  {
   "cells": [
    {
     "cell_type": "heading",
     "level": 1,
     "metadata": {},
     "source": [
      "reading and viewing a log file (1.2)"
     ]
    },
    {
     "cell_type": "code",
     "collapsed": false,
     "input": [
      "import las_reader"
     ],
     "language": "python",
     "metadata": {},
     "outputs": [],
     "prompt_number": 1
    },
    {
     "cell_type": "markdown",
     "metadata": {},
     "source": [
      "Read in the log file by initializing a ``LASFile`` object with a filename, URL, file-like object, or string:"
     ]
    },
    {
     "cell_type": "code",
     "collapsed": false,
     "input": [
      "log = las_reader.LASFile('https://raw.github.com/kinverarity1/las-reader/master/standards/examples/1.2/sample_curve_api.las')"
     ],
     "language": "python",
     "metadata": {},
     "outputs": [],
     "prompt_number": 2
    },
    {
     "cell_type": "heading",
     "level": 3,
     "metadata": {},
     "source": [
      "Metadata"
     ]
    },
    {
     "cell_type": "markdown",
     "metadata": {},
     "source": [
      "The ``LASFile`` object will carry some of the originating information in its ``provenance`` attribute:"
     ]
    },
    {
     "cell_type": "code",
     "collapsed": false,
     "input": [
      "log.provenance"
     ],
     "language": "python",
     "metadata": {},
     "outputs": [
      {
       "metadata": {},
       "output_type": "pyout",
       "prompt_number": 3,
       "text": [
        "{'name': 'sample_curve_api.las',\n",
        " 'path': None,\n",
        " 'time_opened': datetime.datetime(2013, 12, 25, 17, 30, 47, 741000),\n",
        " 'url': 'https://raw.github.com/kinverarity1/las-reader/master/standards/examples/1.2/sample_curve_api.las'}"
       ]
      }
     ],
     "prompt_number": 3
    },
    {
     "cell_type": "markdown",
     "metadata": {},
     "source": [
      "Internally the sections of the LAS file are parsed by a ``LASFileReader`` instance and stored in their raw form under ``log.sections``:"
     ]
    },
    {
     "cell_type": "code",
     "collapsed": false,
     "input": [
      "from pprint import pprint\n",
      "pprint(log.sections)"
     ],
     "language": "python",
     "metadata": {},
     "outputs": [
      {
       "output_type": "stream",
       "stream": "stdout",
       "text": [
        "{'~A': array([[  1.67000000e+03,   1.23450000e+02,   2.55000000e+03,\n",
        "          4.50000000e-01,   1.23450000e+02,   1.23450000e+02,\n",
        "          1.10200000e+02,   1.05600000e+02],\n",
        "       [  1.66987500e+03,   1.23450000e+02,   2.55000000e+03,\n",
        "          4.50000000e-01,   1.23450000e+02,   1.23450000e+02,\n",
        "          1.10200000e+02,   1.05600000e+02],\n",
        "       [  1.66975000e+03,   1.23450000e+02,   2.55000000e+03,\n",
        "          4.50000000e-01,   1.23450000e+02,   1.23450000e+02,\n",
        "          1.10200000e+02,   1.05600000e+02]]),\n",
        " '~C': [{'data': '', 'descr': '1       DEPTH', 'name': 'DEPTH', 'unit': 'M'},\n",
        "        {'data': '7 350 02 00',\n",
        "         'descr': '2       BULK DENSITY',\n",
        "         'name': 'RHOB',\n",
        "         'unit': 'K/M3'},\n",
        "        {'data': '7 890 00 00',\n",
        "         'descr': '3       NEUTRON POROSITY - SANDSTONE',\n",
        "         'name': 'NPHI',\n",
        "         'unit': 'VOL/VOL'},\n",
        "        {'data': '7 220 01 00',\n",
        "         'descr': '4       Rxo RESISTIVITY',\n",
        "         'name': 'MSFL',\n",
        "         'unit': 'OHMM'},\n",
        "        {'data': '7 222 01 00',\n",
        "         'descr': '5       SHALLOW RESISTIVITY',\n",
        "         'name': 'SFLA',\n",
        "         'unit': 'OHMM'},\n",
        "        {'data': '7 120 44 00',\n",
        "         'descr': '6       MEDIUM RESISTIVITY',\n",
        "         'name': 'ILM',\n",
        "         'unit': 'OHMM'},\n",
        "        {'data': '7 120 46 00',\n",
        "         'descr': '7       DEEP RESISTIVITY',\n",
        "         'name': 'ILD',\n",
        "         'unit': 'OHMM'},\n",
        "        {'data': '7 010 01 00',\n",
        "         'descr': '8       SPONTANEOUS POTENTIAL',\n",
        "         'name': 'SP',\n",
        "         'unit': 'MV'}],\n",
        " '~O': ['Note: The logging tools became stuck at 625 meters causing the data',\n",
        "        'between 625 meters and 615 meters to be invalid.'],\n",
        " '~P': {'BHT': {'data': '35.5000',\n",
        "                'descr': 'BOTTOM HOLE TEMPERATURE',\n",
        "                'name': 'BHT',\n",
        "                'unit': 'DEGC'},\n",
        "        'BS': {'data': '200.0000',\n",
        "               'descr': 'BIT SIZE',\n",
        "               'name': 'BS',\n",
        "               'unit': 'MM'},\n",
        "        'DFD': {'data': '1525.0000',\n",
        "                'descr': 'DRILL FLUID DENSITY',\n",
        "                'name': 'DFD',\n",
        "                'unit': 'K/M3'},\n",
        "        'FD': {'data': '1000.0000',\n",
        "               'descr': 'FLUID DENSITY',\n",
        "               'name': 'FD',\n",
        "               'unit': 'K/M3'},\n",
        "        'MATR': {'data': '0.0000',\n",
        "                 'descr': 'NEUTRON MATRIX(0=LIME,1=SAND,2=DOLO)',\n",
        "                 'name': 'MATR',\n",
        "                 'unit': None},\n",
        "        'MDEN': {'data': '2710.0000',\n",
        "                 'descr': 'LOGGING MATRIX DENSITY',\n",
        "                 'name': 'MDEN',\n",
        "                 'unit': None},\n",
        "        'RMF': {'data': '0.2160',\n",
        "                'descr': 'MUD FILTRATE RESISTIVITY',\n",
        "                'name': 'RMF',\n",
        "                'unit': 'OHMM'}},\n",
        " '~V': {'DLM': {'data': 'SPACE'},\n",
        "        'VERS': {'data': '1.2',\n",
        "                 'descr': 'CWLS LOG ASCII STANDARD -VERSION 1.2',\n",
        "                 'name': 'VERS',\n",
        "                 'unit': None},\n",
        "        'WRAP': {'data': 'NO',\n",
        "                 'descr': 'ONE LINE PER DEPTH STEP',\n",
        "                 'name': 'WRAP',\n",
        "                 'unit': None}},\n",
        " '~W': {'COMP': {'data': 'COMPANY',\n",
        "                 'descr': 'ANY OIL COMPANY LTD.',\n",
        "                 'name': 'COMP',\n",
        "                 'unit': None},\n",
        "        'DATE': {'data': 'LOG DATE',\n",
        "                 'descr': '25-DEC-1988',\n",
        "                 'name': 'DATE',\n",
        "                 'unit': None},\n",
        "        'FLD': {'data': 'FIELD',\n",
        "                'descr': 'EDAM',\n",
        "                'name': 'FLD',\n",
        "                'unit': None},\n",
        "        'LOC': {'data': 'LOCATION',\n",
        "                'descr': 'A9-16-49-20W3M',\n",
        "                'name': 'LOC',\n",
        "                'unit': None},\n",
        "        'NULL': {'data': '-999.2500',\n",
        "                 'descr': '',\n",
        "                 'name': 'NULL',\n",
        "                 'unit': None},\n",
        "        'PROV': {'data': 'PROVINCE',\n",
        "                 'descr': 'SASKATCHEWAN',\n",
        "                 'name': 'PROV',\n",
        "                 'unit': None},\n",
        "        'SRVC': {'data': 'SERVICE COMPANY',\n",
        "                 'descr': 'ANY LOGGING COMPANY LTD.',\n",
        "                 'name': 'SRVC',\n",
        "                 'unit': None},\n",
        "        'STEP': {'data': '-0.1250', 'descr': '', 'name': 'STEP', 'unit': 'M'},\n",
        "        'STOP': {'data': '1660.000000',\n",
        "                 'descr': '',\n",
        "                 'name': 'STOP',\n",
        "                 'unit': 'M'},\n",
        "        'STRT': {'data': '1670.000000',\n",
        "                 'descr': '',\n",
        "                 'name': 'STRT',\n",
        "                 'unit': 'M'},\n",
        "        'UWI': {'data': 'UNIQUE WELL ID',\n",
        "                'descr': '100091604920W300',\n",
        "                'name': 'UWI',\n",
        "                'unit': None},\n",
        "        'WELL': {'data': 'WELL',\n",
        "                 'descr': 'ANY ET AL OIL WELL #12',\n",
        "                 'name': 'WELL',\n",
        "                 'unit': None}}}\n"
       ]
      }
     ],
     "prompt_number": 4
    },
    {
     "cell_type": "markdown",
     "metadata": {},
     "source": [
      "You can access these directly, but the ``LASFile`` object also provides mediated access through various attributes (like converting numbers to floats or integers, or parsing dates):"
     ]
    },
    {
     "cell_type": "code",
     "collapsed": false,
     "input": [
      "log.version"
     ],
     "language": "python",
     "metadata": {},
     "outputs": [
      {
       "metadata": {},
       "output_type": "pyout",
       "prompt_number": 5,
       "text": [
        "1.2"
       ]
      }
     ],
     "prompt_number": 5
    },
    {
     "cell_type": "code",
     "collapsed": false,
     "input": [
      "log.wrap"
     ],
     "language": "python",
     "metadata": {},
     "outputs": [
      {
       "metadata": {},
       "output_type": "pyout",
       "prompt_number": 6,
       "text": [
        "False"
       ]
      }
     ],
     "prompt_number": 6
    },
    {
     "cell_type": "code",
     "collapsed": false,
     "input": [
      "log.delimiter"
     ],
     "language": "python",
     "metadata": {},
     "outputs": [
      {
       "metadata": {},
       "output_type": "pyout",
       "prompt_number": 7,
       "text": [
        "' '"
       ]
      }
     ],
     "prompt_number": 7
    },
    {
     "cell_type": "heading",
     "level": 3,
     "metadata": {},
     "source": [
      "Data"
     ]
    },
    {
     "cell_type": "markdown",
     "metadata": {},
     "source": [
      "The actual data are stored in raw form as a 2D numpy ndarray in ``log.sections['~A']``:"
     ]
    },
    {
     "cell_type": "code",
     "collapsed": false,
     "input": [
      "log.sections['~A'].shape"
     ],
     "language": "python",
     "metadata": {},
     "outputs": [
      {
       "metadata": {},
       "output_type": "pyout",
       "prompt_number": 8,
       "text": [
        "(3, 8)"
       ]
      }
     ],
     "prompt_number": 8
    },
    {
     "cell_type": "markdown",
     "metadata": {},
     "source": [
      "But the data are also loaded into [pandas](http://pandas.pydata.org) ``Series`` objects and joined into one ``DataFrame`` object at ``log.data``. Each ``Series`` has the first column (usually depth, sometimes time) as its index."
     ]
    },
    {
     "cell_type": "code",
     "collapsed": false,
     "input": [
      "print type(log.data)"
     ],
     "language": "python",
     "metadata": {},
     "outputs": [
      {
       "output_type": "stream",
       "stream": "stdout",
       "text": [
        "<class 'pandas.core.frame.DataFrame'>\n"
       ]
      }
     ],
     "prompt_number": 9
    },
    {
     "cell_type": "code",
     "collapsed": false,
     "input": [
      "log.data"
     ],
     "language": "python",
     "metadata": {},
     "outputs": [
      {
       "html": [
        "<div style=\"max-height:1000px;max-width:1500px;overflow:auto;\">\n",
        "<table border=\"1\" class=\"dataframe\">\n",
        "  <thead>\n",
        "    <tr style=\"text-align: right;\">\n",
        "      <th></th>\n",
        "      <th>DEPTH</th>\n",
        "      <th>ILD</th>\n",
        "      <th>ILM</th>\n",
        "      <th>MSFL</th>\n",
        "      <th>NPHI</th>\n",
        "      <th>RHOB</th>\n",
        "      <th>SFLA</th>\n",
        "      <th>SP</th>\n",
        "    </tr>\n",
        "  </thead>\n",
        "  <tbody>\n",
        "    <tr>\n",
        "      <th>1670.000</th>\n",
        "      <td> 1670.000</td>\n",
        "      <td> 110.2</td>\n",
        "      <td> 123.45</td>\n",
        "      <td> 0.45</td>\n",
        "      <td> 2550</td>\n",
        "      <td> 123.45</td>\n",
        "      <td> 123.45</td>\n",
        "      <td> 105.6</td>\n",
        "    </tr>\n",
        "    <tr>\n",
        "      <th>1669.875</th>\n",
        "      <td> 1669.875</td>\n",
        "      <td> 110.2</td>\n",
        "      <td> 123.45</td>\n",
        "      <td> 0.45</td>\n",
        "      <td> 2550</td>\n",
        "      <td> 123.45</td>\n",
        "      <td> 123.45</td>\n",
        "      <td> 105.6</td>\n",
        "    </tr>\n",
        "    <tr>\n",
        "      <th>1669.750</th>\n",
        "      <td> 1669.750</td>\n",
        "      <td> 110.2</td>\n",
        "      <td> 123.45</td>\n",
        "      <td> 0.45</td>\n",
        "      <td> 2550</td>\n",
        "      <td> 123.45</td>\n",
        "      <td> 123.45</td>\n",
        "      <td> 105.6</td>\n",
        "    </tr>\n",
        "  </tbody>\n",
        "</table>\n",
        "</div>"
       ],
       "metadata": {},
       "output_type": "pyout",
       "prompt_number": 10,
       "text": [
        "             DEPTH    ILD     ILM  MSFL  NPHI    RHOB    SFLA     SP\n",
        "1670.000  1670.000  110.2  123.45  0.45  2550  123.45  123.45  105.6\n",
        "1669.875  1669.875  110.2  123.45  0.45  2550  123.45  123.45  105.6\n",
        "1669.750  1669.750  110.2  123.45  0.45  2550  123.45  123.45  105.6"
       ]
      }
     ],
     "prompt_number": 10
    },
    {
     "cell_type": "code",
     "collapsed": false,
     "input": [
      "%matplotlib inline\n",
      "log.data.plot()"
     ],
     "language": "python",
     "metadata": {},
     "outputs": [
      {
       "metadata": {},
       "output_type": "pyout",
       "prompt_number": 11,
       "text": [
        "<matplotlib.axes.AxesSubplot at 0x4d37f30>"
       ]
      },
      {
       "metadata": {},
       "output_type": "display_data",
       "png": "[encoded data removed]",
       "text": [
        "<matplotlib.figure.Figure at 0x4d37e50>"
       ]
      }
     ],
     "prompt_number": 11
    },
    {
     "cell_type": "code",
     "collapsed": false,
     "input": [],
     "language": "python",
     "metadata": {},
     "outputs": []
    }
   ],
   "metadata": {}
  }
 ]
}