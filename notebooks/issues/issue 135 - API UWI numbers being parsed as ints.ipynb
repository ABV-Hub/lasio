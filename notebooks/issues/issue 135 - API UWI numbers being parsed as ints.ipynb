{
 "cells": [
  {
   "cell_type": "code",
   "execution_count": 1,
   "metadata": {
    "collapsed": true
   },
   "outputs": [],
   "source": [
    "import lasio"
   ]
  },
  {
   "cell_type": "code",
   "execution_count": 2,
   "metadata": {
    "collapsed": true
   },
   "outputs": [],
   "source": [
    "l = lasio.read(r'D:\\personal\\code\\lasio\\tests\\examples\\UWI_API_leading_zero.las')"
   ]
  },
  {
   "cell_type": "code",
   "execution_count": 4,
   "metadata": {
    "collapsed": false
   },
   "outputs": [
    {
     "data": {
      "text/plain": [
       "[HeaderItem(mnemonic=STRT, unit=M, value=1670.0, descr=, original_mnemonic=STRT),\n",
       " HeaderItem(mnemonic=STOP, unit=M, value=1660.0, descr=, original_mnemonic=STOP),\n",
       " HeaderItem(mnemonic=STEP, unit=M, value=-0.125, descr=, original_mnemonic=STEP),\n",
       " HeaderItem(mnemonic=NULL, unit=, value=-999.25, descr=, original_mnemonic=NULL),\n",
       " HeaderItem(mnemonic=COMP, unit=, value=# ANY OIL COMPANY LTD., descr=COMPANY, original_mnemonic=COMP),\n",
       " HeaderItem(mnemonic=WELL, unit=, value=ANY ET AL OIL WELL #12, descr=WELL, original_mnemonic=WELL),\n",
       " HeaderItem(mnemonic=FLD, unit=, value=EDAM, descr=FIELD, original_mnemonic=FLD),\n",
       " HeaderItem(mnemonic=LOC, unit=, value=A9-16-49-20W3M, descr=LOCATION, original_mnemonic=LOC),\n",
       " HeaderItem(mnemonic=PROV, unit=, value=SASKATCHEWAN, descr=PROVINCE, original_mnemonic=PROV),\n",
       " HeaderItem(mnemonic=SRVC, unit=, value=ANY LOGGING COMPANY LTD., descr=SERVICE COMPANY, original_mnemonic=SRVC),\n",
       " HeaderItem(mnemonic=DATE, unit=, value=25-DEC-1988, descr=LOG DATE, original_mnemonic=DATE),\n",
       " HeaderItem(mnemonic=UWI, unit=, value=05123370660000, descr=UNIQUE WELL ID, original_mnemonic=UWI)]"
      ]
     },
     "execution_count": 4,
     "metadata": {},
     "output_type": "execute_result"
    }
   ],
   "source": [
    "l.well"
   ]
  },
  {
   "cell_type": "code",
   "execution_count": 5,
   "metadata": {
    "collapsed": true
   },
   "outputs": [],
   "source": [
    "from cStringIO import StringIO"
   ]
  },
  {
   "cell_type": "code",
   "execution_count": 6,
   "metadata": {
    "collapsed": true
   },
   "outputs": [],
   "source": [
    "f = StringIO()"
   ]
  },
  {
   "cell_type": "code",
   "execution_count": 7,
   "metadata": {
    "collapsed": true
   },
   "outputs": [],
   "source": [
    "l.write(f)"
   ]
  },
  {
   "cell_type": "code",
   "execution_count": 8,
   "metadata": {
    "collapsed": false
   },
   "outputs": [
    {
     "name": "stdout",
     "output_type": "stream",
     "text": [
      "~Version ---------------------------------------------------\n",
      "VERS. 1.2 : CWLS LOG ASCII STANDARD - VERSION 1.2\n",
      "WRAP.  NO : ONE LINE PER DEPTH STEP\n",
      "~Well ------------------------------------------------------\n",
      "STRT.M         1670.0 : \n",
      "STOP.M        1669.75 : \n",
      "STEP.M         -0.125 : \n",
      "NULL.         -999.25 : \n",
      "COMP.         COMPANY : # ANY OIL COMPANY LTD.\n",
      "WELL.            WELL : ANY ET AL OIL WELL #12\n",
      "FLD .           FIELD : EDAM\n",
      "LOC .        LOCATION : A9-16-49-20W3M\n",
      "PROV.        PROVINCE : SASKATCHEWAN\n",
      "SRVC. SERVICE COMPANY : ANY LOGGING COMPANY LTD.\n",
      "DATE.        LOG DATE : 25-DEC-1988\n",
      "UWI .  UNIQUE WELL ID : 05123370660000\n",
      "~Curves ----------------------------------------------------\n",
      "DEPT.M     : 1  DEPTH\n",
      "DT  .US/M  : 2  SONIC TRANSIT TIME\n",
      "RHOB.K/M3  : 3  BULK DENSITY\n",
      "NPHI.V/V   : 4   NEUTRON POROSITY\n",
      "SFLU.OHMM  : 5  RXO RESISTIVITY\n",
      "SFLA.OHMM  : 6  SHALLOW RESISTIVITY\n",
      "ILM .OHMM  : 7  MEDIUM RESISTIVITY\n",
      "ILD .OHMM  : 8  DEEP RESISTIVITY\n",
      "~Params ----------------------------------------------------\n",
      "BHT .DEGC   35.5 : BOTTOM HOLE TEMPERATURE\n",
      "BS  .MM    200.0 : BIT SIZE\n",
      "FD  .K/M3 1000.0 : FLUID DENSITY\n",
      "MATR.        0.0 : NEUTRON MATRIX(0=LIME,1=SAND,2=DOLO)\n",
      "MDEN.     2710.0 : LOGGING MATRIX DENSITY\n",
      "RMF .OHMM  0.216 : MUD FILTRATE RESISTIVITY\n",
      "DFD .K/M3 1525.0 : DRILL FLUID DENSITY\n",
      "~Other -----------------------------------------------------\n",
      "Note: The logging tools became stuck at 625 meters causing the data\n",
      "between 625 meters and 615 meters to be invalid.\n",
      "~ASCII -----------------------------------------------------\n",
      "       1670     123.45       2550       0.45     123.45     123.45      110.2      105.6\n",
      "     1669.9     123.45       2550       0.45     123.45     123.45      110.2      105.6\n",
      "     1669.8     123.45       2550       0.45     123.45     123.45      110.2      105.6\n",
      "\n"
     ]
    }
   ],
   "source": [
    "f.seek(0)\n",
    "print f.read()"
   ]
  },
  {
   "cell_type": "code",
   "execution_count": null,
   "metadata": {
    "collapsed": true
   },
   "outputs": [],
   "source": []
  }
 ],
 "metadata": {
  "kernelspec": {
   "display_name": "Python 2",
   "language": "python",
   "name": "python2"
  },
  "language_info": {
   "codemirror_mode": {
    "name": "ipython",
    "version": 2
   },
   "file_extension": ".py",
   "mimetype": "text/x-python",
   "name": "python",
   "nbconvert_exporter": "python",
   "pygments_lexer": "ipython2",
   "version": "2.7.11"
  }
 },
 "nbformat": 4,
 "nbformat_minor": 0
}
