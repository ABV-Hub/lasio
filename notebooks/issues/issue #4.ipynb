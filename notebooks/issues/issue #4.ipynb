{
 "cells": [
  {
   "cell_type": "code",
   "execution_count": 2,
   "metadata": {
    "collapsed": false
   },
   "outputs": [],
   "source": [
    "from lasio import test_write"
   ]
  },
  {
   "cell_type": "code",
   "execution_count": 3,
   "metadata": {
    "collapsed": false
   },
   "outputs": [
    {
     "name": "stdout",
     "output_type": "stream",
     "text": [
      "~Version ---------------------------------------------------\n",
      "VERS.     1.2 : CWLS LOG ASCII STANDARD - VERSION 1.2\n",
      "WRAP.      NO : ONE LINE PER DEPTH STEP\n",
      "~Well ------------------------------------------------------\n",
      "STRT   .M      1670.0 : \n",
      "STOP   .M     1669.75 : \n",
      "STEP   .M      -0.125 : \n",
      "NULL   .      -999.25 : \n",
      "COMPANY.      COMPANY : # ANY OIL COMPANY LTD.\n",
      "WELL   .         WELL : ANY ET AL OIL WELL #12\n",
      "FLD    .        FIELD : EDAM\n",
      "LOC    .     LOCATION : A9-16-49-20W3M\n",
      "PROV   .     PROVINCE : SASKATCHEWAN\n",
      "SRVC   .      SERVICE : The company that did this logging has a very very long name....\n",
      "DATE   .     LOG DATE : 25-DEC-1988\n",
      "UWI    .      WELL ID : 100091604920W300\n",
      "~Curves ----------------------------------------------------\n",
      "D.M         : 1  DEPTH\n",
      "A.US/M      : 2  SONIC TRANSIT TIME\n",
      "B.K/M3      : 3  BULK DENSITY\n",
      "C.V/V       : 4   NEUTRON POROSITY\n",
      "~Params ----------------------------------------------------\n",
      "BHT .DEGC       35.5 : BOTTOM HOLE TEMPERATURE\n",
      "BS  .MM        200.0 : BIT SIZE\n",
      "FD  .K/M3     1000.0 : FLUID DENSITY\n",
      "MATR.            0.0 : NEUTRON MATRIX(0=LIME,1=SAND,2=DOLO)\n",
      "MDEN.         2710.0 : LOGGING MATRIX DENSITY\n",
      "RMF .OHMM      0.216 : MUD FILTRATE RESISTIVITY\n",
      "DFD .K/M3     1525.0 : DRILL FLUID DENSITY\n",
      "~Other -----------------------------------------------------\n",
      "Note: The logging tools became stuck at 625 meters causing the data\n",
      "between 625 meters and 615 meters to be invalid.\n",
      "~ASCII -----------------------------------------------------\n",
      "       1670     123.45       2550       0.45\n",
      "     1669.9     123.45       2550       0.45\n",
      "     1669.8     123.45       2550       0.45\n",
      "\n"
     ]
    }
   ],
   "source": [
    "test_write.test_write_sect_widths_12()"
   ]
  },
  {
   "cell_type": "code",
   "execution_count": 4,
   "metadata": {
    "collapsed": false
   },
   "outputs": [
    {
     "name": "stdout",
     "output_type": "stream",
     "text": [
      "~Version ---------------------------------------------------\n",
      "VERS.     2.0 : CWLS log ASCII Standard -VERSION 2.0\n",
      "WRAP.      NO : ONE LINE PER DEPTH STEP\n",
      "~Well ------------------------------------------------------\n",
      "STRT.M       1670.0 : START DEPTH\n",
      "STOP.M      1669.75 : STOP DEPTH\n",
      "STEP.M       -0.125 : STEP\n",
      "NULL.       -999.25 : NULL VALUE\n",
      "COMP.           ANY : COMPANY\n",
      "WELL.       AAAAA_2 : WELL\n",
      "FLD .       WILDCAT : FIELD\n",
      "LOC .            12 : LOCATION\n",
      "PROV.       ALBERTA : PROVINCE\n",
      "SRVC.       LOGGING : SERVICE COMPANY ARE YOU KIDDING THIS IS A REALLY REALLY LONG STRING\n",
      "DATE.     13-DEC-86 : LOG DATE\n",
      "UWI .      10012340 : UNIQUE WELL ID\n",
      "~Curves ----------------------------------------------------\n",
      "DEPT.M                     : 1  DEPTH\n",
      "DT  .US/M     60 520 32 00 : 2  SONIC TRANSIT TIME\n",
      "RHOB.K/M3     45 350 01 00 : 3  BULK DENSITY\n",
      "NPHI.V/V      42 890 00 00 : 4  NEUTRON POROSITY\n",
      "SFLU.OHMM     07 220 04 00 : 5  SHALLOW RESISTIVITY\n",
      "SFLA.OHMM     07 222 01 00 : 6  SHALLOW RESISTIVITY\n",
      "ILM .OHMM     07 120 44 00 : 7  MEDIUM RESISTIVITY\n",
      "ILD .OHMM     07 120 46 00 : 8  DEEP RESISTIVITY\n",
      "~Params ----------------------------------------------------\n",
      "MUD .       GEL CHEM : MUD TYPE\n",
      "BHT .DEGC       35.5 : BOTTOM HOLE TEMPERATURE\n",
      "BS  .MM        200.0 : BIT SIZE\n",
      "FD  .K/M3     1000.0 : FLUID DENSITY\n",
      "MATR.           SAND : NEUTRON MATRIX\n",
      "MDEN.         2710.0 : LOGGING MATRIX DENSITY\n",
      "RMF .OHMM      0.216 : MUD FILTRATE RESISTIVITY\n",
      "DFD .K/M3     1525.0 : DRILL FLUID DENSITY\n",
      "~Other -----------------------------------------------------\n",
      "Note: The logging tools became stuck at 625 metres causing the data\n",
      "between 625 metres and 615 metres to be invalid.\n",
      "~ASCII -----------------------------------------------------\n",
      "       1670     123.45       2550       0.45     123.45     123.45      110.2      105.6\n",
      "     1669.9     123.45       2550       0.45     123.45     123.45      110.2      105.6\n",
      "     1669.8     123.45       2550       0.45     123.45     123.45      110.2      105.6\n",
      "\n"
     ]
    }
   ],
   "source": [
    "test_write.test_write_sect_widths_20_narrow()"
   ]
  },
  {
   "cell_type": "code",
   "execution_count": 5,
   "metadata": {
    "collapsed": false
   },
   "outputs": [
    {
     "name": "stdout",
     "output_type": "stream",
     "text": [
      "~Version ---------------------------------------------------\n",
      "VERS.     2.0 : CWLS log ASCII Standard -VERSION 2.0\n",
      "WRAP.      NO : ONE LINE PER DEPTH STEP\n",
      "~Well ------------------------------------------------------\n",
      "STRT.M                                                             1670.0 : START DEPTH\n",
      "STOP.M                                                            1669.75 : STOP DEPTH\n",
      "STEP.M                                                             -0.125 : STEP\n",
      "NULL.                                                             -999.25 : NULL VALUE\n",
      "COMP.                                                ANY OIL COMPANY INC. : COMPANY\n",
      "WELL.                                                             AAAAA_2 : WELL\n",
      "FLD .                                                             WILDCAT : FIELD\n",
      "LOC .                                                      12-34-12-34W5M : LOCATION\n",
      "PROV.                                                             ALBERTA : PROVINCE\n",
      "SRVC.     The company that did this logging has a very very long name.... : SERVICE COMPANY\n",
      "DATE.                                                           13-DEC-86 : LOG DATE\n",
      "UWI .                                                    100123401234W500 : UNIQUE WELL ID\n",
      "~Curves ----------------------------------------------------\n",
      "DEPT.M                     : 1  DEPTH\n",
      "DT  .US/M     60 520 32 00 : 2  SONIC TRANSIT TIME\n",
      "RHOB.K/M3     45 350 01 00 : 3  BULK DENSITY\n",
      "NPHI.V/V      42 890 00 00 : 4  NEUTRON POROSITY\n",
      "SFLU.OHMM     07 220 04 00 : 5  SHALLOW RESISTIVITY\n",
      "SFLA.OHMM     07 222 01 00 : 6  SHALLOW RESISTIVITY\n",
      "ILM .OHMM     07 120 44 00 : 7  MEDIUM RESISTIVITY\n",
      "ILD .OHMM     07 120 46 00 : 8  DEEP RESISTIVITY\n",
      "~Params ----------------------------------------------------\n",
      "MUD .       GEL CHEM : MUD TYPE\n",
      "BHT .DEGC       35.5 : BOTTOM HOLE TEMPERATURE\n",
      "BS  .MM        200.0 : BIT SIZE\n",
      "FD  .K/M3     1000.0 : FLUID DENSITY\n",
      "MATR.           SAND : NEUTRON MATRIX\n",
      "MDEN.         2710.0 : LOGGING MATRIX DENSITY\n",
      "RMF .OHMM      0.216 : MUD FILTRATE RESISTIVITY\n",
      "DFD .K/M3     1525.0 : DRILL FLUID DENSITY\n",
      "~Other -----------------------------------------------------\n",
      "Note: The logging tools became stuck at 625 metres causing the data\n",
      "between 625 metres and 615 metres to be invalid.\n",
      "~ASCII -----------------------------------------------------\n",
      "       1670     123.45       2550       0.45     123.45     123.45      110.2      105.6\n",
      "     1669.9     123.45       2550       0.45     123.45     123.45      110.2      105.6\n",
      "     1669.8     123.45       2550       0.45     123.45     123.45      110.2      105.6\n",
      "\n"
     ]
    }
   ],
   "source": [
    "test_write.test_write_sect_widths_20_wide()"
   ]
  },
  {
   "cell_type": "code",
   "execution_count": null,
   "metadata": {
    "collapsed": true
   },
   "outputs": [],
   "source": []
  },
  {
   "cell_type": "code",
   "execution_count": null,
   "metadata": {
    "collapsed": true
   },
   "outputs": [],
   "source": []
  }
 ],
 "metadata": {
  "kernelspec": {
   "display_name": "Python 2",
   "language": "python",
   "name": "python2"
  },
  "language_info": {
   "codemirror_mode": {
    "name": "ipython",
    "version": 2
   },
   "file_extension": ".py",
   "mimetype": "text/x-python",
   "name": "python",
   "nbconvert_exporter": "python",
   "pygments_lexer": "ipython2",
   "version": "2.7.10"
  }
 },
 "nbformat": 4,
 "nbformat_minor": 0
}
