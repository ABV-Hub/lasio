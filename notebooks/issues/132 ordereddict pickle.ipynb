{
 "cells": [
  {
   "cell_type": "code",
   "execution_count": 60,
   "metadata": {
    "collapsed": true
   },
   "outputs": [],
   "source": [
    "import traceback\n",
    "import pickle\n",
    "from collections import OrderedDict\n",
    "from lasio import HeaderItem, CurveItem"
   ]
  },
  {
   "cell_type": "code",
   "execution_count": 80,
   "metadata": {
    "collapsed": false
   },
   "outputs": [],
   "source": [
    "class TestHeaderItem(OrderedDict):\n",
    "    def __init__(self, mnemonic='', unit='', value='', descr='', **kwargs):\n",
    "        super(TestHeaderItem, self).__init__([\n",
    "                ('mnemonic', mnemonic),\n",
    "                ('unit', unit),\n",
    "                ('value', value),\n",
    "                ('descr', descr)\n",
    "            ])"
   ]
  },
  {
   "cell_type": "code",
   "execution_count": 84,
   "metadata": {
    "collapsed": false
   },
   "outputs": [],
   "source": [
    "odict = OrderedDict(mnemonic='TEST', unit='mV')\n",
    "t_hitem = TestHeaderItem(mnemonic='TEST', unit='mV')\n",
    "hitem = HeaderItem(mnemonic='TEST', unit='mV')\n",
    "citem = CurveItem(mnemonic='TEST', unit='mV')"
   ]
  },
  {
   "cell_type": "code",
   "execution_count": 85,
   "metadata": {
    "collapsed": false
   },
   "outputs": [
    {
     "name": "stdout",
     "output_type": "stream",
     "text": [
      "OrderedDict([('mnemonic', 'TEST'), ('unit', 'mV')])\n",
      "TestHeaderItem([('mnemonic', 'TEST'), ('unit', 'mV'), ('value', ''), ('descr', '')])\n",
      "HeaderItem(mnemonic=TEST, unit=mV, value=, descr=, original_mnemonic=TEST)\n",
      "CurveItem(mnemonic=TEST, unit=mV, value=, descr=, original_mnemonic=TEST, data.shape=())\n"
     ]
    }
   ],
   "source": [
    "print(str(odict))\n",
    "print(str(t_hitem))\n",
    "print(str(hitem))\n",
    "print(str(citem))"
   ]
  },
  {
   "cell_type": "code",
   "execution_count": 86,
   "metadata": {
    "collapsed": false
   },
   "outputs": [
    {
     "name": "stdout",
     "output_type": "stream",
     "text": [
      "-----------OrderedDict\n",
      "Success: OrderedDict([('mnemonic', 'TEST'), ('unit', 'mV')])\n",
      "-----------TestHeaderItem\n",
      "Success: TestHeaderItem([('mnemonic', [['mnemonic', 'TEST'], ['unit', 'mV'], ['value', ''], ['descr', '']]), ('unit', ''), ('value', ''), ('descr', '')])\n",
      "-----------HeaderItem\n",
      "Failure:\n",
      "Traceback (most recent call last):\n",
      "  File \"<ipython-input-86-9fff9cb3b462>\", line 12, in <module>\n",
      "    test = pickle.load(f)\n",
      "  File \"C:\\Users\\kent\\Anaconda2\\lib\\pickle.py\", line 1384, in load\n",
      "    return Unpickler(file).load()\n",
      "  File \"C:\\Users\\kent\\Anaconda2\\lib\\pickle.py\", line 864, in load\n",
      "    dispatch[key](self)\n",
      "  File \"C:\\Users\\kent\\Anaconda2\\lib\\pickle.py\", line 1139, in load_reduce\n",
      "    value = func(*args)\n",
      "  File \"d:\\personal\\code\\lasio\\lasio\\las_items.py\", line 32, in __init__\n",
      "    if mnemonic.strip() == '':\n",
      "AttributeError: 'list' object has no attribute 'strip'\n",
      "\n",
      "-----------CurveItem\n",
      "Failure:\n",
      "Traceback (most recent call last):\n",
      "  File \"<ipython-input-86-9fff9cb3b462>\", line 12, in <module>\n",
      "    test = pickle.load(f)\n",
      "  File \"C:\\Users\\kent\\Anaconda2\\lib\\pickle.py\", line 1384, in load\n",
      "    return Unpickler(file).load()\n",
      "  File \"C:\\Users\\kent\\Anaconda2\\lib\\pickle.py\", line 864, in load\n",
      "    dispatch[key](self)\n",
      "  File \"C:\\Users\\kent\\Anaconda2\\lib\\pickle.py\", line 1139, in load_reduce\n",
      "    value = func(*args)\n",
      "  File \"d:\\personal\\code\\lasio\\lasio\\las_items.py\", line 80, in __init__\n",
      "    super(CurveItem, self).__init__(*args, **kwargs)\n",
      "  File \"d:\\personal\\code\\lasio\\lasio\\las_items.py\", line 32, in __init__\n",
      "    if mnemonic.strip() == '':\n",
      "AttributeError: 'list' object has no attribute 'strip'\n",
      "\n"
     ]
    }
   ],
   "source": [
    "for label, obj in [\n",
    "        ('OrderedDict', odict),\n",
    "        ('TestHeaderItem', t_hitem),\n",
    "        ('HeaderItem', hitem),\n",
    "        ('CurveItem', citem)\n",
    "        ]:\n",
    "    print('-----------%s' % label)\n",
    "    with open('test', 'wb') as f:\n",
    "        pickle.dump(obj, f)\n",
    "    with open('test', 'rb') as f:\n",
    "        try:\n",
    "            test = pickle.load(f)\n",
    "        except:\n",
    "            print('Failure:\\n' + traceback.format_exc())\n",
    "        else: \n",
    "            print('Success: ' + str(test))"
   ]
  },
  {
   "cell_type": "code",
   "execution_count": null,
   "metadata": {
    "collapsed": true
   },
   "outputs": [],
   "source": []
  }
 ],
 "metadata": {
  "kernelspec": {
   "display_name": "Python 2",
   "language": "python",
   "name": "python2"
  },
  "language_info": {
   "codemirror_mode": {
    "name": "ipython",
    "version": 2
   },
   "file_extension": ".py",
   "mimetype": "text/x-python",
   "name": "python",
   "nbconvert_exporter": "python",
   "pygments_lexer": "ipython2",
   "version": "2.7.11"
  }
 },
 "nbformat": 4,
 "nbformat_minor": 0
}
