{
 "metadata": {
  "name": "",
  "signature": "sha256:3414e7e57d2bef873aa1c83a0916a350a10ee379ac69b6718a91082bd8cd2906"
 },
 "nbformat": 3,
 "nbformat_minor": 0,
 "worksheets": [
  {
   "cells": [
    {
     "cell_type": "markdown",
     "metadata": {},
     "source": [
      "# Building a LAS file from scratch\n",
      "\n",
      "This example shows:\n",
      "\n",
      "- Creating a pretend/synthetic data curve that we'll call \"SYNTH\", including some null values\n",
      "- Creating an empty LASFile object with a default header\n",
      "- Adding some information to the header\n",
      "- Adding the synthetic data to the LASFile object\n",
      "- Writing it to disk as both a LAS version 1.2 and 2.0 file\n",
      "- Re-loading the file and checking that the null values are interpreted correctly"
     ]
    },
    {
     "cell_type": "code",
     "collapsed": false,
     "input": [
      "import las_reader\n",
      "\n",
      "print(las_reader.__version__)\n",
      "\n",
      "import datetime\n",
      "import numpy\n",
      "import os\n",
      "import matplotlib.pyplot as plt\n",
      "%matplotlib inline"
     ],
     "language": "python",
     "metadata": {},
     "outputs": [
      {
       "output_type": "stream",
       "stream": "stdout",
       "text": [
        "0.5\n"
       ]
      }
     ],
     "prompt_number": 1
    },
    {
     "cell_type": "markdown",
     "metadata": {},
     "source": [
      "## Step 1\n",
      "\n",
      "Create some synthetic data, and make some of the values in the middle null values (``numpy.nan`` specifically). Note that of course every curve in a LAS file is recorded against an index, either depth or time, so we create that array too."
     ]
    },
    {
     "cell_type": "code",
     "collapsed": false,
     "input": [
      "depths = numpy.arange(10, 50, 0.5)\n",
      "synth = numpy.log10(depths) * 10 + numpy.random.random(len(depths))\n",
      "synth[15:25] = numpy.nan   # Add some null values in the middle"
     ],
     "language": "python",
     "metadata": {},
     "outputs": [],
     "prompt_number": 2
    },
    {
     "cell_type": "code",
     "collapsed": false,
     "input": [
      "plt.plot(depths, synth)"
     ],
     "language": "python",
     "metadata": {},
     "outputs": [
      {
       "metadata": {},
       "output_type": "pyout",
       "prompt_number": 3,
       "text": [
        "[<matplotlib.lines.Line2D at 0xa07b080>]"
       ]
      },
      {
       "metadata": {},
       "output_type": "display_data",
       "png": "[encoded data removed]",
       "text": [
        "<matplotlib.figure.Figure at 0x3ae09b0>"
       ]
      }
     ],
     "prompt_number": 3
    },
    {
     "cell_type": "markdown",
     "metadata": {},
     "source": [
      "## Step 2\n",
      "\n",
      "Create an empty LASFile object and review its header section"
     ]
    },
    {
     "cell_type": "code",
     "collapsed": false,
     "input": [
      "l = las_reader.LASFile()"
     ],
     "language": "python",
     "metadata": {},
     "outputs": [],
     "prompt_number": 4
    },
    {
     "cell_type": "code",
     "collapsed": false,
     "input": [
      "l.header"
     ],
     "language": "python",
     "metadata": {},
     "outputs": [
      {
       "metadata": {},
       "output_type": "pyout",
       "prompt_number": 5,
       "text": [
        "{'~V': {'VERS': HeaderItem(mnemonic='VERS', unit='', value=2.0, descr='CWLS log ASCII Standard -VERSION 2.0'),\n",
        " 'WRAP': HeaderItem(mnemonic='WRAP', unit='', value='NO', descr='One line per depth step'),\n",
        " 'DLM': HeaderItem(mnemonic='DLM', unit='', value='SPACE', descr='Column Data Section Delimiter')},\n",
        " '~W': {'STRT': HeaderItem(mnemonic='STRT', unit='m', value=nan, descr='START DEPTH'),\n",
        " 'STOP': HeaderItem(mnemonic='STOP', unit='m', value=nan, descr='STOP DEPTH'),\n",
        " 'STEP': HeaderItem(mnemonic='STEP', unit='m', value=nan, descr='STEP'),\n",
        " 'NULL': HeaderItem(mnemonic='NULL', unit='', value=-9999.25, descr='NULL VALUE'),\n",
        " 'COMP': HeaderItem(mnemonic='COMP', unit='', value='', descr='COMPANY'),\n",
        " 'WELL': HeaderItem(mnemonic='WELL', unit='', value='', descr='WELL'),\n",
        " 'FLD': HeaderItem(mnemonic='FLD', unit='', value='', descr='FIELD'),\n",
        " 'LOC': HeaderItem(mnemonic='LOC', unit='', value='', descr='LOCATION'),\n",
        " 'PROV': HeaderItem(mnemonic='PROV', unit='', value='', descr='PROVINCE'),\n",
        " 'CNTY': HeaderItem(mnemonic='CNTY', unit='', value='', descr='COUNTY'),\n",
        " 'STAT': HeaderItem(mnemonic='STAT', unit='', value='', descr='STATE'),\n",
        " 'CTRY': HeaderItem(mnemonic='CTRY', unit='', value='', descr='COUNTRY'),\n",
        " 'SRVC': HeaderItem(mnemonic='SRVC', unit='', value='', descr='SERVICE COMPANY'),\n",
        " 'DATE': HeaderItem(mnemonic='DATE', unit='', value='', descr='DATE'),\n",
        " 'UWI': HeaderItem(mnemonic='UWI', unit='', value='', descr='UNIQUE WELL ID'),\n",
        " 'API': HeaderItem(mnemonic='API', unit='', value='', descr='API NUMBER')},\n",
        " '~C': [],\n",
        " '~P': {},\n",
        " '~O': }"
       ]
      }
     ],
     "prompt_number": 5
    },
    {
     "cell_type": "markdown",
     "metadata": {},
     "source": [
      "Let's add some information to the header: \n",
      "\n",
      "- the date\n",
      "- the operator (in the ~P section)\n",
      "- a description of the file in the ~O (Other) section."
     ]
    },
    {
     "cell_type": "markdown",
     "metadata": {},
     "source": [
      "First, let's change the date.\n",
      "\n",
      "Note that when changing the value of a ``HeaderItem`` like the ``well[\"DATE\"]`` object above, you must be careful to change the ``value`` attribute rather than the ``HeaderItem`` itself. (This will be made easier in the future.)"
     ]
    },
    {
     "cell_type": "code",
     "collapsed": false,
     "input": [
      "l.well[\"DATE\"].value = str(datetime.datetime.today())"
     ],
     "language": "python",
     "metadata": {},
     "outputs": [],
     "prompt_number": 6
    },
    {
     "cell_type": "markdown",
     "metadata": {},
     "source": [
      "Next, let's make a new item in the ~Parameters section for the operator. To do this we need to make a new ``HeaderItem``:"
     ]
    },
    {
     "cell_type": "code",
     "collapsed": false,
     "input": [
      "# HeaderItem = namedlist(\"HeaderItem\", [\"mnemonic\", \"unit\", \"value\", \"descr\"])\n",
      "l.params[\"ENGI\"] = las_reader.HeaderItem(\"ENGI\", \"\", \"kinverarity@hotmail.com\", \"Creator of this file...\")"
     ],
     "language": "python",
     "metadata": {},
     "outputs": [],
     "prompt_number": 7
    },
    {
     "cell_type": "markdown",
     "metadata": {},
     "source": [
      "And finally, add some free text to the ~Other section:"
     ]
    },
    {
     "cell_type": "code",
     "collapsed": false,
     "input": [
      "l.other = \"Example of how to create a LAS file from scratch using las_reader\""
     ],
     "language": "python",
     "metadata": {},
     "outputs": [],
     "prompt_number": 8
    },
    {
     "cell_type": "markdown",
     "metadata": {},
     "source": [
      "## Step 3\n",
      "\n",
      "Add the curves to the LAS file using the ``add_curve`` method:"
     ]
    },
    {
     "cell_type": "code",
     "collapsed": false,
     "input": [
      "l.add_curve(\"DEPT\", depths, unit=\"m\")\n",
      "l.add_curve(\"SYNTH\", synth, descr=\"Synthetic data\")"
     ],
     "language": "python",
     "metadata": {},
     "outputs": [],
     "prompt_number": 9
    },
    {
     "cell_type": "markdown",
     "metadata": {},
     "source": [
      "## Step 4\n",
      "\n",
      "Now let's write out two files: one according to the LAS file specification version 1.2, and one according to 2.0. Note that by default an empty ``LASFile`` object is version 2.0."
     ]
    },
    {
     "cell_type": "code",
     "collapsed": false,
     "input": [
      "fn = \"scratch_example_v2.las\"\n",
      "if os.path.exists(fn):  # Remove file if it already exists\n",
      "    os.remove(fn)\n",
      "with open(fn, mode=\"w\") as f: # Write LAS file to disk\n",
      "    l.write(f)\n",
      "with open(fn, mode=\"r\") as f: # Show the result... \n",
      "    print(f.read())"
     ],
     "language": "python",
     "metadata": {},
     "outputs": [
      {
       "output_type": "stream",
       "stream": "stdout",
       "text": [
        "~Version ---------------------------------------------------\n",
        "VERS      .                                     2.0 : CWLS log ASCII Standard -VERSION 2.0\n",
        "WRAP      .                                      NO : One line per depth step\n",
        "DLM       .                                   SPACE : Column Data Section Delimiter\n",
        "~Well ------------------------------------------------------\n",
        "STRT      .m                                   10.0 : START DEPTH\n",
        "STOP      .m                                   49.5 : STOP DEPTH\n",
        "STEP      .m                                    0.5 : STEP\n",
        "NULL      .                                -9999.25 : NULL VALUE\n",
        "COMP      .                                         : COMPANY\n",
        "WELL      .                                         : WELL\n",
        "FLD       .                                         : FIELD\n",
        "LOC       .                                         : LOCATION\n",
        "PROV      .                                         : PROVINCE\n",
        "CNTY      .                                         : COUNTY\n",
        "STAT      .                                         : STATE\n",
        "CTRY      .                                         : COUNTRY\n",
        "SRVC      .                                         : SERVICE COMPANY\n",
        "DATE      .              2015-08-01 15:59:42.513000 : DATE\n",
        "UWI       .                                         : UNIQUE WELL ID\n",
        "API       .                                         : API NUMBER\n",
        "~Curves ----------------------------------------------------\n",
        "DEPT      .m                                        : \n",
        "SYNTH     .                                         : Synthetic data\n",
        "~Params ----------------------------------------------------\n",
        "ENGI      .                 kinverarity@hotmail.com : Creater of this file...\n",
        "~Other -----------------------------------------------------\n",
        "Example of how to create a LAS file from scratch using las_reader\n",
        "~ASCII -----------------------------------------------------\n",
        "         10     10.683\n",
        "       10.5     11.036\n",
        "         11     10.612\n",
        "       11.5     10.857\n",
        "         12     11.496\n",
        "       12.5     11.556\n",
        "         13     11.782\n",
        "       13.5     12.176\n",
        "         14     11.673\n",
        "       14.5     11.699\n",
        "         15     11.774\n",
        "       15.5     12.824\n",
        "         16     12.382\n",
        "       16.5     12.371\n",
        "         17     12.667\n",
        "       17.5   -9999.25\n",
        "         18   -9999.25\n",
        "       18.5   -9999.25\n",
        "         19   -9999.25\n",
        "       19.5   -9999.25\n",
        "         20   -9999.25\n",
        "       20.5   -9999.25\n",
        "         21   -9999.25\n",
        "       21.5   -9999.25\n",
        "         22   -9999.25\n",
        "       22.5     14.292\n",
        "         23     13.992\n",
        "       23.5     14.479\n",
        "         24     14.761\n",
        "       24.5     13.902\n",
        "         25     14.042\n",
        "       25.5     14.845\n",
        "         26     14.151\n",
        "       26.5     14.567\n",
        "         27     14.708\n",
        "       27.5     14.868\n",
        "         28     14.565\n",
        "       28.5     15.051\n",
        "         29     14.875\n",
        "       29.5     15.584\n",
        "         30     15.301\n",
        "       30.5     15.825\n",
        "         31     15.791\n",
        "       31.5     15.309\n",
        "         32     15.497\n",
        "       32.5     15.124\n",
        "         33      15.36\n",
        "       33.5     16.229\n",
        "         34     15.476\n",
        "       34.5     15.512\n",
        "         35      16.42\n",
        "       35.5     15.535\n",
        "         36     15.988\n",
        "       36.5     16.371\n",
        "         37     16.039\n",
        "       37.5     16.704\n",
        "         38     16.104\n",
        "       38.5     15.945\n",
        "         39     16.164\n",
        "       39.5      16.11\n",
        "         40     16.503\n",
        "       40.5     16.729\n",
        "         41     16.559\n",
        "       41.5     16.407\n",
        "         42     16.276\n",
        "       42.5     16.585\n",
        "         43       16.5\n",
        "       43.5      17.33\n",
        "         44     17.136\n",
        "       44.5     17.321\n",
        "         45     16.597\n",
        "       45.5     16.895\n",
        "         46      16.73\n",
        "       46.5     17.376\n",
        "         47     17.184\n",
        "       47.5       17.1\n",
        "         48     17.639\n",
        "       48.5     17.236\n",
        "         49     17.183\n",
        "       49.5     17.874\n",
        "\n"
       ]
      }
     ],
     "prompt_number": 10
    },
    {
     "cell_type": "code",
     "collapsed": false,
     "input": [
      "fn = \"scratch_example_v1.2.las\"\n",
      "if os.path.exists(fn):  # Remove file if it already exists\n",
      "    os.remove(fn)\n",
      "with open(fn, mode=\"w\") as f: # Write LAS file to disk\n",
      "    l.write(f, version=1.2)\n",
      "with open(fn, mode=\"r\") as f: # Show the result... \n",
      "    print(f.read())"
     ],
     "language": "python",
     "metadata": {},
     "outputs": [
      {
       "output_type": "stream",
       "stream": "stdout",
       "text": [
        "~Version ---------------------------------------------------\n",
        "VERS      .                                     1.2 : CWLS LOG ASCII STANDARD - VERSION 1.2\n",
        "WRAP      .                                      NO : One line per depth step\n",
        "DLM       .                                   SPACE : Column Data Section Delimiter\n",
        "~Well ------------------------------------------------------\n",
        "STRT      .m                                   10.0 : START DEPTH\n",
        "STOP      .m                                   49.5 : STOP DEPTH\n",
        "STEP      .m                                    0.5 : STEP\n",
        "NULL      .                                -9999.25 : NULL VALUE\n",
        "COMP      .                                 COMPANY : \n",
        "WELL      .                                    WELL : \n",
        "FLD       .                                   FIELD : \n",
        "LOC       .                                LOCATION : \n",
        "PROV      .                                PROVINCE : \n",
        "CNTY      .                                  COUNTY : \n",
        "STAT      .                                   STATE : \n",
        "CTRY      .                                 COUNTRY : \n",
        "SRVC      .                         SERVICE COMPANY : \n",
        "DATE      .                                    DATE : 2015-08-01 15:59:42.513000\n",
        "UWI       .                          UNIQUE WELL ID : \n",
        "API       .                              API NUMBER : \n",
        "~Curves ----------------------------------------------------\n",
        "DEPT      .m                                        : \n",
        "SYNTH     .                                         : Synthetic data\n",
        "~Params ----------------------------------------------------\n",
        "ENGI      .                 kinverarity@hotmail.com : Creater of this file...\n",
        "~Other -----------------------------------------------------\n",
        "Example of how to create a LAS file from scratch using las_reader\n",
        "~ASCII -----------------------------------------------------\n",
        "         10     10.683\n",
        "       10.5     11.036\n",
        "         11     10.612\n",
        "       11.5     10.857\n",
        "         12     11.496\n",
        "       12.5     11.556\n",
        "         13     11.782\n",
        "       13.5     12.176\n",
        "         14     11.673\n",
        "       14.5     11.699\n",
        "         15     11.774\n",
        "       15.5     12.824\n",
        "         16     12.382\n",
        "       16.5     12.371\n",
        "         17     12.667\n",
        "       17.5   -9999.25\n",
        "         18   -9999.25\n",
        "       18.5   -9999.25\n",
        "         19   -9999.25\n",
        "       19.5   -9999.25\n",
        "         20   -9999.25\n",
        "       20.5   -9999.25\n",
        "         21   -9999.25\n",
        "       21.5   -9999.25\n",
        "         22   -9999.25\n",
        "       22.5     14.292\n",
        "         23     13.992\n",
        "       23.5     14.479\n",
        "         24     14.761\n",
        "       24.5     13.902\n",
        "         25     14.042\n",
        "       25.5     14.845\n",
        "         26     14.151\n",
        "       26.5     14.567\n",
        "         27     14.708\n",
        "       27.5     14.868\n",
        "         28     14.565\n",
        "       28.5     15.051\n",
        "         29     14.875\n",
        "       29.5     15.584\n",
        "         30     15.301\n",
        "       30.5     15.825\n",
        "         31     15.791\n",
        "       31.5     15.309\n",
        "         32     15.497\n",
        "       32.5     15.124\n",
        "         33      15.36\n",
        "       33.5     16.229\n",
        "         34     15.476\n",
        "       34.5     15.512\n",
        "         35      16.42\n",
        "       35.5     15.535\n",
        "         36     15.988\n",
        "       36.5     16.371\n",
        "         37     16.039\n",
        "       37.5     16.704\n",
        "         38     16.104\n",
        "       38.5     15.945\n",
        "         39     16.164\n",
        "       39.5      16.11\n",
        "         40     16.503\n",
        "       40.5     16.729\n",
        "         41     16.559\n",
        "       41.5     16.407\n",
        "         42     16.276\n",
        "       42.5     16.585\n",
        "         43       16.5\n",
        "       43.5      17.33\n",
        "         44     17.136\n",
        "       44.5     17.321\n",
        "         45     16.597\n",
        "       45.5     16.895\n",
        "         46      16.73\n",
        "       46.5     17.376\n",
        "         47     17.184\n",
        "       47.5       17.1\n",
        "         48     17.639\n",
        "       48.5     17.236\n",
        "         49     17.183\n",
        "       49.5     17.874\n",
        "\n"
       ]
      }
     ],
     "prompt_number": 11
    },
    {
     "cell_type": "markdown",
     "metadata": {},
     "source": [
      "## Step 5\n",
      "\n",
      "And finally let's read in the resulting v1.2 file and see if the data is there correctly..."
     ]
    },
    {
     "cell_type": "code",
     "collapsed": false,
     "input": [
      "l_v12 = las_reader.read(fn)\n",
      "print(\"Reading in %s\" % fn)\n",
      "print(l_v12.keys())"
     ],
     "language": "python",
     "metadata": {},
     "outputs": [
      {
       "output_type": "stream",
       "stream": "stdout",
       "text": [
        "Reading in scratch_example_v1.2.las\n",
        "['DEPT', 'SYNTH']\n"
       ]
      }
     ],
     "prompt_number": 12
    },
    {
     "cell_type": "code",
     "collapsed": false,
     "input": [
      "plt.plot(l_v12[\"DEPT\"], l_v12[\"SYNTH\"])\n",
      "print(l_v12.well[\"DATE\"])"
     ],
     "language": "python",
     "metadata": {},
     "outputs": [
      {
       "output_type": "stream",
       "stream": "stdout",
       "text": [
        "HeaderItem(mnemonic='DATE', unit='', value='2015-08-01 15:59:42.513000', descr='DATE')\n"
       ]
      },
      {
       "metadata": {},
       "output_type": "display_data",
       "png": "[encoded data removed]",
       "text": [
        "<matplotlib.figure.Figure at 0xa126390>"
       ]
      }
     ],
     "prompt_number": 13
    },
    {
     "cell_type": "code",
     "collapsed": false,
     "input": [],
     "language": "python",
     "metadata": {},
     "outputs": [],
     "prompt_number": 13
    },
    {
     "cell_type": "code",
     "collapsed": false,
     "input": [],
     "language": "python",
     "metadata": {},
     "outputs": []
    }
   ],
   "metadata": {}
  }
 ]
}