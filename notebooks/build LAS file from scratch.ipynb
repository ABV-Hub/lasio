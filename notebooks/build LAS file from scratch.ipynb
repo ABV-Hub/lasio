{
 "cells": [
  {
   "cell_type": "markdown",
   "metadata": {},
   "source": [
    "# Building a LAS file from scratch\n",
    "\n",
    "This example shows:\n",
    "\n",
    "- Creating a pretend/synthetic data curve that we'll call \"SYNTH\", including some null values\n",
    "- Creating an empty LASFile object with a default header\n",
    "- Adding some information to the header\n",
    "- Adding the synthetic data to the LASFile object\n",
    "- Writing it to disk as both a LAS version 1.2 and 2.0 file\n",
    "- Re-loading the file and checking that the null values are interpreted correctly"
   ]
  },
  {
   "cell_type": "code",
   "execution_count": 1,
   "metadata": {
    "collapsed": false
   },
   "outputs": [],
   "source": [
    "import lasio\n",
    "\n",
    "import datetime\n",
    "import numpy\n",
    "import os\n",
    "import matplotlib.pyplot as plt\n",
    "%matplotlib inline"
   ]
  },
  {
   "cell_type": "markdown",
   "metadata": {},
   "source": [
    "## Step 1\n",
    "\n",
    "Create some synthetic data, and make some of the values in the middle null values (``numpy.nan`` specifically). Note that of course every curve in a LAS file is recorded against a reference/index, either depth or time, so we create that array too."
   ]
  },
  {
   "cell_type": "code",
   "execution_count": 2,
   "metadata": {
    "collapsed": false
   },
   "outputs": [],
   "source": [
    "depths = numpy.arange(10, 50, 0.5)\n",
    "synth = numpy.log10(depths) * 10 + numpy.random.random(len(depths))\n",
    "synth[15:25] = numpy.nan   # Add some null values in the middle"
   ]
  },
  {
   "cell_type": "code",
   "execution_count": 3,
   "metadata": {
    "collapsed": false
   },
   "outputs": [
    {
     "data": {
      "text/plain": [
       "[<matplotlib.lines.Line2D at 0xaf7c278>]"
      ]
     },
     "execution_count": 3,
     "metadata": {},
     "output_type": "execute_result"
    },
    {
     "data": {
      "image/png": "[encoded data removed]",
      "text/plain": [
       "<matplotlib.figure.Figure at 0xaeaa240>"
      ]
     },
     "metadata": {},
     "output_type": "display_data"
    }
   ],
   "source": [
    "plt.plot(depths, synth)"
   ]
  },
  {
   "cell_type": "markdown",
   "metadata": {},
   "source": [
    "## Step 2\n",
    "\n",
    "Create an empty LASFile object and review its header section"
   ]
  },
  {
   "cell_type": "code",
   "execution_count": 4,
   "metadata": {
    "collapsed": false,
    "scrolled": true
   },
   "outputs": [],
   "source": [
    "l = lasio.LASFile()"
   ]
  },
  {
   "cell_type": "code",
   "execution_count": 5,
   "metadata": {
    "collapsed": false,
    "scrolled": true
   },
   "outputs": [
    {
     "data": {
      "text/plain": [
       "{'Curves': [],\n",
       " 'Other': '',\n",
       " 'Parameter': [],\n",
       " 'Version': [HeaderItem(mnemonic=VERS, unit=, value=2.0, descr=CWLS log ASCII Standard -VERSION 2.0, original_mnemonic=VERS),\n",
       "  HeaderItem(mnemonic=WRAP, unit=, value=NO, descr=One line per depth step, original_mnemonic=WRAP),\n",
       "  HeaderItem(mnemonic=DLM, unit=, value=SPACE, descr=Column Data Section Delimiter, original_mnemonic=DLM)],\n",
       " 'Well': [HeaderItem(mnemonic=STRT, unit=m, value=nan, descr=START DEPTH, original_mnemonic=STRT),\n",
       "  HeaderItem(mnemonic=STOP, unit=m, value=nan, descr=STOP DEPTH, original_mnemonic=STOP),\n",
       "  HeaderItem(mnemonic=STEP, unit=m, value=nan, descr=STEP, original_mnemonic=STEP),\n",
       "  HeaderItem(mnemonic=NULL, unit=, value=-9999.25, descr=NULL VALUE, original_mnemonic=NULL),\n",
       "  HeaderItem(mnemonic=COMP, unit=, value=, descr=COMPANY, original_mnemonic=COMP),\n",
       "  HeaderItem(mnemonic=WELL, unit=, value=, descr=WELL, original_mnemonic=WELL),\n",
       "  HeaderItem(mnemonic=FLD, unit=, value=, descr=FIELD, original_mnemonic=FLD),\n",
       "  HeaderItem(mnemonic=LOC, unit=, value=, descr=LOCATION, original_mnemonic=LOC),\n",
       "  HeaderItem(mnemonic=PROV, unit=, value=, descr=PROVINCE, original_mnemonic=PROV),\n",
       "  HeaderItem(mnemonic=CNTY, unit=, value=, descr=COUNTY, original_mnemonic=CNTY),\n",
       "  HeaderItem(mnemonic=STAT, unit=, value=, descr=STATE, original_mnemonic=STAT),\n",
       "  HeaderItem(mnemonic=CTRY, unit=, value=, descr=COUNTRY, original_mnemonic=CTRY),\n",
       "  HeaderItem(mnemonic=SRVC, unit=, value=, descr=SERVICE COMPANY, original_mnemonic=SRVC),\n",
       "  HeaderItem(mnemonic=DATE, unit=, value=, descr=DATE, original_mnemonic=DATE),\n",
       "  HeaderItem(mnemonic=UWI, unit=, value=, descr=UNIQUE WELL ID, original_mnemonic=UWI),\n",
       "  HeaderItem(mnemonic=API, unit=, value=, descr=API NUMBER, original_mnemonic=API)]}"
      ]
     },
     "execution_count": 5,
     "metadata": {},
     "output_type": "execute_result"
    }
   ],
   "source": [
    "l.header"
   ]
  },
  {
   "cell_type": "markdown",
   "metadata": {},
   "source": [
    "Let's add some information to the header: \n",
    "\n",
    "- the date\n",
    "- the operator (in the Parameter section)\n",
    "- a description of the file in the Other section."
   ]
  },
  {
   "cell_type": "markdown",
   "metadata": {},
   "source": [
    "First, let's change the date."
   ]
  },
  {
   "cell_type": "code",
   "execution_count": 6,
   "metadata": {
    "collapsed": false
   },
   "outputs": [],
   "source": [
    "l.well.DATE = str(datetime.datetime.today())"
   ]
  },
  {
   "cell_type": "markdown",
   "metadata": {},
   "source": [
    "Next, let's make a new item in the ~Parameters section for the operator. To do this we need to make a new ``HeaderItem``:"
   ]
  },
  {
   "cell_type": "code",
   "execution_count": 7,
   "metadata": {
    "collapsed": false
   },
   "outputs": [],
   "source": [
    "l.params['ENGI'] = lasio.HeaderItem(\"ENGI\", \"\", \"kinverarity@hotmail.com\", \"Creator of this file...\")"
   ]
  },
  {
   "cell_type": "markdown",
   "metadata": {},
   "source": [
    "And finally, add some free text to the ~Other section:"
   ]
  },
  {
   "cell_type": "code",
   "execution_count": 8,
   "metadata": {
    "collapsed": false
   },
   "outputs": [],
   "source": [
    "l.other = \"Example of how to create a LAS file from scratch using las_reader\""
   ]
  },
  {
   "cell_type": "markdown",
   "metadata": {},
   "source": [
    "## Step 3\n",
    "\n",
    "Add the curves to the LAS file using the ``add_curve`` method:"
   ]
  },
  {
   "cell_type": "code",
   "execution_count": 9,
   "metadata": {
    "collapsed": false
   },
   "outputs": [],
   "source": [
    "l.add_curve(\"DEPT\", depths, unit=\"m\")\n",
    "l.add_curve(\"SYNTH\", synth, descr=\"Synthetic data\")"
   ]
  },
  {
   "cell_type": "markdown",
   "metadata": {},
   "source": [
    "## Step 4\n",
    "\n",
    "Now let's write out two files: one according to the LAS file specification version 1.2, and one according to 2.0. Note that by default an empty ``LASFile`` object is version 2.0."
   ]
  },
  {
   "cell_type": "code",
   "execution_count": 10,
   "metadata": {
    "collapsed": false,
    "scrolled": true
   },
   "outputs": [],
   "source": [
    "fn = \"scratch_example_v2.las\"\n",
    "with open(fn, mode=\"w\") as f: # Write LAS file to disk\n",
    "    l.write(f)"
   ]
  },
  {
   "cell_type": "markdown",
   "metadata": {},
   "source": [
    "and let's see if that worked"
   ]
  },
  {
   "cell_type": "code",
   "execution_count": 11,
   "metadata": {
    "collapsed": false,
    "scrolled": false
   },
   "outputs": [
    {
     "name": "stdout",
     "output_type": "stream",
     "text": [
      "~Version ---------------------------------------------------\n",
      "VERS.   2.0 : CWLS log ASCII Standard -VERSION 2.0\n",
      "WRAP.    NO : One line per depth step\n",
      "DLM . SPACE : Column Data Section Delimiter\n",
      "~Well ------------------------------------------------------\n",
      "STRT.m                      10.0 : START DEPTH\n",
      "STOP.m                      49.5 : STOP DEPTH\n",
      "STEP.m                       0.5 : STEP\n",
      "NULL.                   -9999.25 : NULL VALUE\n",
      "COMP.                            : COMPANY\n",
      "WELL.                            : WELL\n",
      "FLD .                            : FIELD\n",
      "LOC .                            : LOCATION\n",
      "PROV.                            : PROVINCE\n",
      "CNTY.                            : COUNTY\n",
      "STAT.                            : STATE\n",
      "CTRY.                            : COUNTRY\n",
      "SRVC.                            : SERVICE COMPANY\n",
      "DATE. 2016-02-05 15:25:41.138000 : DATE\n",
      "UWI .                            : UNIQUE WELL ID\n",
      "API .                            : API NUMBER\n",
      "~Curves ----------------------------------------------------\n",
      "DEPT .m  : \n",
      "SYNTH.   : Synthetic data\n",
      "~Params ----------------------------------------------------\n",
      "ENGI. kinverarity@hotmail.com : Creator of this file...\n",
      "~Other -----------------------------------------------------\n",
      "Example of how to create a LAS file from scratch using las_reader\n",
      "~ASCII -----------------------------------------------------\n",
      "         10     10.213\n",
      "       10.5     10.493\n",
      "         11     10.636\n",
      "       11.5     10.779\n",
      "         12      11.72\n",
      "       12.5     11.838\n",
      "         13     11.274\n",
      "       13.5     11.325\n",
      "         14     11.995\n",
      "       14.5      12.58\n",
      "         15     12.509\n",
      "       15.5     12.468\n",
      "         16     12.618\n",
      "       16.5     13.148\n",
      "         17     12.493\n",
      "       17.5   -9999.25\n",
      "         18   -9999.25\n",
      "       18.5   -9999.25\n",
      "         19   -9999.25\n",
      "       19.5   -9999.25\n",
      "         20   -9999.25\n",
      "       20.5   -9999.25\n",
      "         21   -9999.25\n",
      "       21.5   -9999.25\n",
      "         22   -9999.25\n",
      "       22.5     14.308\n",
      "         23     14.226\n",
      "       23.5     14.021\n",
      "         24     14.062\n",
      "       24.5     14.871\n",
      "         25     14.628\n",
      "       25.5     14.875\n",
      "         26     14.445\n",
      "       26.5     14.751\n",
      "         27     14.855\n",
      "       27.5     14.514\n",
      "         28     15.235\n",
      "       28.5     15.136\n",
      "         29     14.832\n",
      "       29.5     15.442\n",
      "         30     15.076\n",
      "       30.5     14.885\n",
      "         31     15.825\n",
      "       31.5     15.061\n",
      "         32     15.491\n",
      "       32.5     15.456\n",
      "         33     15.642\n",
      "       33.5     15.675\n",
      "         34     15.444\n",
      "       34.5     15.541\n",
      "         35     15.461\n",
      "       35.5     15.619\n",
      "         36     16.205\n",
      "       36.5      16.13\n",
      "         37     15.705\n",
      "       37.5     16.296\n",
      "         38     16.715\n",
      "       38.5     16.065\n",
      "         39     16.739\n",
      "       39.5     16.913\n",
      "         40     16.829\n",
      "       40.5     17.061\n",
      "         41     16.175\n",
      "       41.5     17.147\n",
      "         42     16.963\n",
      "       42.5     17.176\n",
      "         43     16.792\n",
      "       43.5     17.191\n",
      "         44     16.978\n",
      "       44.5     16.892\n",
      "         45     16.988\n",
      "       45.5      17.47\n",
      "         46     17.008\n",
      "       46.5     17.251\n",
      "         47     16.867\n",
      "       47.5     17.541\n",
      "         48     16.961\n",
      "       48.5     17.773\n",
      "         49     17.783\n",
      "       49.5     17.398\n",
      "\n"
     ]
    }
   ],
   "source": [
    "with open(fn, mode=\"r\") as f: # Show the result... \n",
    "    print(f.read())"
   ]
  },
  {
   "cell_type": "code",
   "execution_count": 14,
   "metadata": {
    "collapsed": false
   },
   "outputs": [
    {
     "data": {
      "text/plain": [
       "[<matplotlib.lines.Line2D at 0xdca1080>]"
      ]
     },
     "execution_count": 14,
     "metadata": {},
     "output_type": "execute_result"
    },
    {
     "data": {
      "image/png": "[encoded data removed]",
      "text/plain": [
       "<matplotlib.figure.Figure at 0xda44278>"
      ]
     },
     "metadata": {},
     "output_type": "display_data"
    }
   ],
   "source": [
    "plt.plot(l['DEPT'], l['SYNTH'])"
   ]
  },
  {
   "cell_type": "code",
   "execution_count": 15,
   "metadata": {
    "collapsed": false
   },
   "outputs": [],
   "source": [
    "os.remove(fn)"
   ]
  },
  {
   "cell_type": "code",
   "execution_count": null,
   "metadata": {
    "collapsed": true
   },
   "outputs": [],
   "source": []
  }
 ],
 "metadata": {
  "kernelspec": {
   "display_name": "Python 2",
   "language": "python",
   "name": "python2"
  },
  "language_info": {
   "codemirror_mode": {
    "name": "ipython",
    "version": 2
   },
   "file_extension": ".py",
   "mimetype": "text/x-python",
   "name": "python",
   "nbconvert_exporter": "python",
   "pygments_lexer": "ipython2",
   "version": "2.7.11"
  }
 },
 "nbformat": 4,
 "nbformat_minor": 0
}
