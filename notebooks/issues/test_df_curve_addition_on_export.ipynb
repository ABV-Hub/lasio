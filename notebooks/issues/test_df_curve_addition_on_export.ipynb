{
 "cells": [
  {
   "cell_type": "code",
   "execution_count": 1,
   "metadata": {
    "collapsed": false
   },
   "outputs": [
    {
     "name": "stderr",
     "output_type": "stream",
     "text": [
      "DEBUG:lasio.las:LASFile.read LAS content is type <type 'str'>\n",
      "DEBUG:lasio.las:SectionItems.append type=<class 'lasio.las.HeaderItem'> str=HeaderItem(mnemonic=VERS, unit=, value=1.2, descr=CWLS LOG ASCII STANDARD -VERSION 1.2, original_mnemonic=VERS)\n",
      "DEBUG:lasio.las:SectionItems.append type=<class 'lasio.las.HeaderItem'> str=HeaderItem(mnemonic=WRAP, unit=, value=NO, descr=ONE LINE PER DEPTH STEP, original_mnemonic=WRAP)\n",
      "DEBUG:lasio.las:SectionItems.append type=<class 'lasio.las.HeaderItem'> str=HeaderItem(mnemonic=STRT, unit=M, value=1670.0, descr=, original_mnemonic=STRT)\n",
      "DEBUG:lasio.las:SectionItems.append type=<class 'lasio.las.HeaderItem'> str=HeaderItem(mnemonic=STOP, unit=M, value=1660.0, descr=, original_mnemonic=STOP)\n",
      "DEBUG:lasio.las:SectionItems.append type=<class 'lasio.las.HeaderItem'> str=HeaderItem(mnemonic=STEP, unit=M, value=-0.125, descr=, original_mnemonic=STEP)\n",
      "DEBUG:lasio.las:SectionItems.append type=<class 'lasio.las.HeaderItem'> str=HeaderItem(mnemonic=NULL, unit=, value=-999.25, descr=, original_mnemonic=NULL)\n",
      "DEBUG:lasio.las:SectionItems.append type=<class 'lasio.las.HeaderItem'> str=HeaderItem(mnemonic=COMP, unit=, value=# ANY OIL COMPANY LTD., descr=COMPANY, original_mnemonic=COMP)\n",
      "DEBUG:lasio.las:SectionItems.append type=<class 'lasio.las.HeaderItem'> str=HeaderItem(mnemonic=WELL, unit=, value=ANY ET AL OIL WELL #12, descr=WELL, original_mnemonic=WELL)\n",
      "DEBUG:lasio.las:SectionItems.append type=<class 'lasio.las.HeaderItem'> str=HeaderItem(mnemonic=FLD, unit=, value=EDAM, descr=FIELD, original_mnemonic=FLD)\n",
      "DEBUG:lasio.las:SectionItems.append type=<class 'lasio.las.HeaderItem'> str=HeaderItem(mnemonic=LOC, unit=, value=A9-16-49-20W3M, descr=LOCATION, original_mnemonic=LOC)\n",
      "DEBUG:lasio.las:SectionItems.append type=<class 'lasio.las.HeaderItem'> str=HeaderItem(mnemonic=PROV, unit=, value=SASKATCHEWAN, descr=PROVINCE, original_mnemonic=PROV)\n",
      "DEBUG:lasio.las:SectionItems.append type=<class 'lasio.las.HeaderItem'> str=HeaderItem(mnemonic=SRVC, unit=, value=ANY LOGGING COMPANY LTD., descr=SERVICE COMPANY, original_mnemonic=SRVC)\n",
      "DEBUG:lasio.las:SectionItems.append type=<class 'lasio.las.HeaderItem'> str=HeaderItem(mnemonic=DATE, unit=, value=25-DEC-1988, descr=LOG DATE, original_mnemonic=DATE)\n",
      "DEBUG:lasio.las:SectionItems.append type=<class 'lasio.las.HeaderItem'> str=HeaderItem(mnemonic=UWI, unit=, value=100091604920W300, descr=UNIQUE WELL ID, original_mnemonic=UWI)\n",
      "DEBUG:lasio.las:SectionItems.append type=<class 'lasio.las.CurveItem'> str=CurveItem(mnemonic=DEPT, unit=M, value=, descr=1  DEPTH, original_mnemonic=DEPT, data.shape=())\n",
      "DEBUG:lasio.las:SectionItems.append type=<class 'lasio.las.CurveItem'> str=CurveItem(mnemonic=DT, unit=US/M, value=, descr=2  SONIC TRANSIT TIME, original_mnemonic=DT, data.shape=())\n",
      "DEBUG:lasio.las:SectionItems.append type=<class 'lasio.las.CurveItem'> str=CurveItem(mnemonic=RHOB, unit=K/M3, value=, descr=3  BULK DENSITY, original_mnemonic=RHOB, data.shape=())\n",
      "DEBUG:lasio.las:SectionItems.append type=<class 'lasio.las.CurveItem'> str=CurveItem(mnemonic=NPHI, unit=V/V, value=, descr=4   NEUTRON POROSITY, original_mnemonic=NPHI, data.shape=())\n",
      "DEBUG:lasio.las:SectionItems.append type=<class 'lasio.las.CurveItem'> str=CurveItem(mnemonic=SFLU, unit=OHMM, value=, descr=5  RXO RESISTIVITY, original_mnemonic=SFLU, data.shape=())\n",
      "DEBUG:lasio.las:SectionItems.append type=<class 'lasio.las.CurveItem'> str=CurveItem(mnemonic=SFLA, unit=OHMM, value=, descr=6  SHALLOW RESISTIVITY, original_mnemonic=SFLA, data.shape=())\n",
      "DEBUG:lasio.las:SectionItems.append type=<class 'lasio.las.CurveItem'> str=CurveItem(mnemonic=ILM, unit=OHMM, value=, descr=7  MEDIUM RESISTIVITY, original_mnemonic=ILM, data.shape=())\n",
      "DEBUG:lasio.las:SectionItems.append type=<class 'lasio.las.CurveItem'> str=CurveItem(mnemonic=ILD, unit=OHMM, value=, descr=8  DEEP RESISTIVITY, original_mnemonic=ILD, data.shape=())\n",
      "DEBUG:lasio.las:SectionItems.append type=<class 'lasio.las.HeaderItem'> str=HeaderItem(mnemonic=BHT, unit=DEGC, value=35.5, descr=BOTTOM HOLE TEMPERATURE, original_mnemonic=BHT)\n",
      "DEBUG:lasio.las:SectionItems.append type=<class 'lasio.las.HeaderItem'> str=HeaderItem(mnemonic=BS, unit=MM, value=200.0, descr=BIT SIZE, original_mnemonic=BS)\n",
      "DEBUG:lasio.las:SectionItems.append type=<class 'lasio.las.HeaderItem'> str=HeaderItem(mnemonic=FD, unit=K/M3, value=1000.0, descr=FLUID DENSITY, original_mnemonic=FD)\n",
      "DEBUG:lasio.las:SectionItems.append type=<class 'lasio.las.HeaderItem'> str=HeaderItem(mnemonic=MATR, unit=, value=0.0, descr=NEUTRON MATRIX(0=LIME,1=SAND,2=DOLO), original_mnemonic=MATR)\n",
      "DEBUG:lasio.las:SectionItems.append type=<class 'lasio.las.HeaderItem'> str=HeaderItem(mnemonic=MDEN, unit=, value=2710.0, descr=LOGGING MATRIX DENSITY, original_mnemonic=MDEN)\n",
      "DEBUG:lasio.las:SectionItems.append type=<class 'lasio.las.HeaderItem'> str=HeaderItem(mnemonic=RMF, unit=OHMM, value=0.216, descr=MUD FILTRATE RESISTIVITY, original_mnemonic=RMF)\n",
      "DEBUG:lasio.las:SectionItems.append type=<class 'lasio.las.HeaderItem'> str=HeaderItem(mnemonic=DFD, unit=K/M3, value=1525.0, descr=DRILL FLUID DENSITY, original_mnemonic=DFD)\n",
      "INFO:lasio.las:Reader.read_data LAS file shape = (3L, 8L)\n",
      "DEBUG:lasio.las:Reader.read_data checking for nulls (NULL = -999.25)\n"
     ]
    }
   ],
   "source": [
    "import logging\n",
    "logging.getLogger().setLevel(level=logging.DEBUG)\n",
    "import lasio\n",
    "import StringIO\n",
    "l = lasio.read(r'D:\\personal\\code\\lasio\\tests\\examples\\sample.las')"
   ]
  },
  {
   "cell_type": "code",
   "execution_count": 2,
   "metadata": {
    "collapsed": false
   },
   "outputs": [
    {
     "data": {
      "text/plain": [
       "(3L, 8L)"
      ]
     },
     "execution_count": 2,
     "metadata": {},
     "output_type": "execute_result"
    }
   ],
   "source": [
    "l.data.shape"
   ]
  },
  {
   "cell_type": "code",
   "execution_count": 3,
   "metadata": {
    "collapsed": false
   },
   "outputs": [
    {
     "data": {
      "text/plain": [
       "array([[  1.67000000e+03,   1.23450000e+02,   2.55000000e+03,\n",
       "          4.50000000e-01,   1.23450000e+02,   1.23450000e+02,\n",
       "          1.10200000e+02,   1.05600000e+02],\n",
       "       [  1.66987500e+03,   1.23450000e+02,   2.55000000e+03,\n",
       "          4.50000000e-01,   1.23450000e+02,   1.23450000e+02,\n",
       "          1.10200000e+02,   1.05600000e+02],\n",
       "       [  1.66975000e+03,   1.23450000e+02,   2.55000000e+03,\n",
       "          4.50000000e-01,   1.23450000e+02,   1.23450000e+02,\n",
       "          1.10200000e+02,   1.05600000e+02]])"
      ]
     },
     "execution_count": 3,
     "metadata": {},
     "output_type": "execute_result"
    }
   ],
   "source": [
    "l.data"
   ]
  },
  {
   "cell_type": "code",
   "execution_count": 4,
   "metadata": {
    "collapsed": false,
    "scrolled": false
   },
   "outputs": [
    {
     "name": "stderr",
     "output_type": "stream",
     "text": [
      "DEBUG:lasio.las:columns=['DEPT', 'DT', 'RHOB', 'NPHI', 'SFLU', 'SFLA', 'ILM', 'ILD', 'ILD_COND']\n",
      "DEBUG:lasio.las:SectionItems.append type=<class 'lasio.las.CurveItem'> str=CurveItem(mnemonic=ILD_COND, unit=, value=, descr=, original_mnemonic=ILD_COND, data.shape=())\n",
      "DEBUG:lasio.las:SectionItems.__setitem__ Replaced WRAP item\n",
      "DEBUG:lasio.las:SectionItems.__setitem__ Replaced VERS item\n",
      "DEBUG:lasio.las:LASFile.write Version section\n",
      "DEBUG:lasio.las:get_section_widths HeaderItem(mnemonic=VERS, unit=, value=2.0, descr=CWLS log ASCII Standard -VERSION 2.0, original_mnemonic=VERS)\n",
      "\torder=value:descr rhs_element=value\n",
      "DEBUG:lasio.las:get_section_widths HeaderItem(mnemonic=WRAP, unit=, value=NO, descr=One line per depth step, original_mnemonic=WRAP)\n",
      "\torder=value:descr rhs_element=value\n",
      "DEBUG:lasio.las:LASFile.write HeaderItem(mnemonic=VERS, unit=, value=2.0, descr=CWLS log ASCII Standard -VERSION 2.0, original_mnemonic=VERS)\n",
      "order=value:descr section_widths={'left_width': 4, 'middle_width': 4}\n",
      "DEBUG:lasio.las:LASFile.write HeaderItem(mnemonic=WRAP, unit=, value=NO, descr=One line per depth step, original_mnemonic=WRAP)\n",
      "order=value:descr section_widths={'left_width': 4, 'middle_width': 4}\n",
      "DEBUG:lasio.las:LASFile.write Well section\n",
      "DEBUG:lasio.las:get_section_widths HeaderItem(mnemonic=STRT, unit=M, value=1670.0, descr=, original_mnemonic=STRT)\n",
      "\torder=value:descr rhs_element=value\n",
      "DEBUG:lasio.las:get_section_widths HeaderItem(mnemonic=STOP, unit=M, value=1669.75, descr=, original_mnemonic=STOP)\n",
      "\torder=value:descr rhs_element=value\n",
      "DEBUG:lasio.las:get_section_widths HeaderItem(mnemonic=STEP, unit=M, value=-0.125, descr=, original_mnemonic=STEP)\n",
      "\torder=value:descr rhs_element=value\n",
      "DEBUG:lasio.las:get_section_widths HeaderItem(mnemonic=NULL, unit=, value=-999.25, descr=, original_mnemonic=NULL)\n",
      "\torder=value:descr rhs_element=value\n",
      "DEBUG:lasio.las:get_section_widths HeaderItem(mnemonic=COMP, unit=, value=# ANY OIL COMPANY LTD., descr=COMPANY, original_mnemonic=COMP)\n",
      "\torder=value:descr rhs_element=value\n",
      "DEBUG:lasio.las:get_section_widths HeaderItem(mnemonic=WELL, unit=, value=ANY ET AL OIL WELL #12, descr=WELL, original_mnemonic=WELL)\n",
      "\torder=value:descr rhs_element=value\n",
      "DEBUG:lasio.las:get_section_widths HeaderItem(mnemonic=FLD, unit=, value=EDAM, descr=FIELD, original_mnemonic=FLD)\n",
      "\torder=value:descr rhs_element=value\n",
      "DEBUG:lasio.las:get_section_widths HeaderItem(mnemonic=LOC, unit=, value=A9-16-49-20W3M, descr=LOCATION, original_mnemonic=LOC)\n",
      "\torder=value:descr rhs_element=value\n",
      "DEBUG:lasio.las:get_section_widths HeaderItem(mnemonic=PROV, unit=, value=SASKATCHEWAN, descr=PROVINCE, original_mnemonic=PROV)\n",
      "\torder=value:descr rhs_element=value\n",
      "DEBUG:lasio.las:get_section_widths HeaderItem(mnemonic=SRVC, unit=, value=ANY LOGGING COMPANY LTD., descr=SERVICE COMPANY, original_mnemonic=SRVC)\n",
      "\torder=value:descr rhs_element=value\n",
      "DEBUG:lasio.las:get_section_widths HeaderItem(mnemonic=DATE, unit=, value=25-DEC-1988, descr=LOG DATE, original_mnemonic=DATE)\n",
      "\torder=value:descr rhs_element=value\n",
      "DEBUG:lasio.las:get_section_widths HeaderItem(mnemonic=UWI, unit=, value=100091604920W300, descr=UNIQUE WELL ID, original_mnemonic=UWI)\n",
      "\torder=value:descr rhs_element=value\n",
      "DEBUG:lasio.las:LASFile.write HeaderItem(mnemonic=STRT, unit=M, value=1670.0, descr=, original_mnemonic=STRT)\n",
      "order=value:descr section_widths={'left_width': 4, 'middle_width': 25}\n",
      "DEBUG:lasio.las:LASFile.write HeaderItem(mnemonic=STOP, unit=M, value=1669.75, descr=, original_mnemonic=STOP)\n",
      "order=value:descr section_widths={'left_width': 4, 'middle_width': 25}\n",
      "DEBUG:lasio.las:LASFile.write HeaderItem(mnemonic=STEP, unit=M, value=-0.125, descr=, original_mnemonic=STEP)\n",
      "order=value:descr section_widths={'left_width': 4, 'middle_width': 25}\n",
      "DEBUG:lasio.las:LASFile.write HeaderItem(mnemonic=NULL, unit=, value=-999.25, descr=, original_mnemonic=NULL)\n",
      "order=value:descr section_widths={'left_width': 4, 'middle_width': 25}\n",
      "DEBUG:lasio.las:LASFile.write HeaderItem(mnemonic=COMP, unit=, value=# ANY OIL COMPANY LTD., descr=COMPANY, original_mnemonic=COMP)\n",
      "order=value:descr section_widths={'left_width': 4, 'middle_width': 25}\n",
      "DEBUG:lasio.las:LASFile.write HeaderItem(mnemonic=WELL, unit=, value=ANY ET AL OIL WELL #12, descr=WELL, original_mnemonic=WELL)\n",
      "order=value:descr section_widths={'left_width': 4, 'middle_width': 25}\n",
      "DEBUG:lasio.las:LASFile.write HeaderItem(mnemonic=FLD, unit=, value=EDAM, descr=FIELD, original_mnemonic=FLD)\n",
      "order=value:descr section_widths={'left_width': 4, 'middle_width': 25}\n",
      "DEBUG:lasio.las:LASFile.write HeaderItem(mnemonic=LOC, unit=, value=A9-16-49-20W3M, descr=LOCATION, original_mnemonic=LOC)\n",
      "order=value:descr section_widths={'left_width': 4, 'middle_width': 25}\n",
      "DEBUG:lasio.las:LASFile.write HeaderItem(mnemonic=PROV, unit=, value=SASKATCHEWAN, descr=PROVINCE, original_mnemonic=PROV)\n",
      "order=value:descr section_widths={'left_width': 4, 'middle_width': 25}\n",
      "DEBUG:lasio.las:LASFile.write HeaderItem(mnemonic=SRVC, unit=, value=ANY LOGGING COMPANY LTD., descr=SERVICE COMPANY, original_mnemonic=SRVC)\n",
      "order=value:descr section_widths={'left_width': 4, 'middle_width': 25}\n",
      "DEBUG:lasio.las:LASFile.write HeaderItem(mnemonic=DATE, unit=, value=25-DEC-1988, descr=LOG DATE, original_mnemonic=DATE)\n",
      "order=value:descr section_widths={'left_width': 4, 'middle_width': 25}\n",
      "DEBUG:lasio.las:LASFile.write HeaderItem(mnemonic=UWI, unit=, value=100091604920W300, descr=UNIQUE WELL ID, original_mnemonic=UWI)\n",
      "order=value:descr section_widths={'left_width': 4, 'middle_width': 25}\n",
      "DEBUG:lasio.las:LASFile.write Curves section\n",
      "DEBUG:lasio.las:get_section_widths CurveItem(mnemonic=DEPT, unit=M, value=, descr=1  DEPTH, original_mnemonic=DEPT, data.shape=(3L,))\n",
      "\torder=value:descr rhs_element=value\n",
      "DEBUG:lasio.las:get_section_widths CurveItem(mnemonic=DT, unit=US/M, value=, descr=2  SONIC TRANSIT TIME, original_mnemonic=DT, data.shape=(3L,))\n",
      "\torder=value:descr rhs_element=value\n",
      "DEBUG:lasio.las:get_section_widths CurveItem(mnemonic=RHOB, unit=K/M3, value=, descr=3  BULK DENSITY, original_mnemonic=RHOB, data.shape=(3L,))\n",
      "\torder=value:descr rhs_element=value\n",
      "DEBUG:lasio.las:get_section_widths CurveItem(mnemonic=NPHI, unit=V/V, value=, descr=4   NEUTRON POROSITY, original_mnemonic=NPHI, data.shape=(3L,))\n",
      "\torder=value:descr rhs_element=value\n",
      "DEBUG:lasio.las:get_section_widths CurveItem(mnemonic=SFLU, unit=OHMM, value=, descr=5  RXO RESISTIVITY, original_mnemonic=SFLU, data.shape=(3L,))\n",
      "\torder=value:descr rhs_element=value\n",
      "DEBUG:lasio.las:get_section_widths CurveItem(mnemonic=SFLA, unit=OHMM, value=, descr=6  SHALLOW RESISTIVITY, original_mnemonic=SFLA, data.shape=(3L,))\n",
      "\torder=value:descr rhs_element=value\n",
      "DEBUG:lasio.las:get_section_widths CurveItem(mnemonic=ILM, unit=OHMM, value=, descr=7  MEDIUM RESISTIVITY, original_mnemonic=ILM, data.shape=(3L,))\n",
      "\torder=value:descr rhs_element=value\n",
      "DEBUG:lasio.las:get_section_widths CurveItem(mnemonic=ILD, unit=OHMM, value=, descr=8  DEEP RESISTIVITY, original_mnemonic=ILD, data.shape=(3L,))\n",
      "\torder=value:descr rhs_element=value\n",
      "DEBUG:lasio.las:get_section_widths CurveItem(mnemonic=ILD_COND, unit=, value=, descr=, original_mnemonic=ILD_COND, data.shape=())\n",
      "\torder=value:descr rhs_element=value\n",
      "DEBUG:lasio.las:get_section_widths HeaderItem(mnemonic=BHT, unit=DEGC, value=35.5, descr=BOTTOM HOLE TEMPERATURE, original_mnemonic=BHT)\n",
      "\torder=value:descr rhs_element=value\n",
      "DEBUG:lasio.las:get_section_widths HeaderItem(mnemonic=BS, unit=MM, value=200.0, descr=BIT SIZE, original_mnemonic=BS)\n",
      "\torder=value:descr rhs_element=value\n",
      "DEBUG:lasio.las:get_section_widths HeaderItem(mnemonic=FD, unit=K/M3, value=1000.0, descr=FLUID DENSITY, original_mnemonic=FD)\n",
      "\torder=value:descr rhs_element=value\n",
      "DEBUG:lasio.las:get_section_widths HeaderItem(mnemonic=MATR, unit=, value=0.0, descr=NEUTRON MATRIX(0=LIME,1=SAND,2=DOLO), original_mnemonic=MATR)\n",
      "\torder=value:descr rhs_element=value\n",
      "DEBUG:lasio.las:get_section_widths HeaderItem(mnemonic=MDEN, unit=, value=2710.0, descr=LOGGING MATRIX DENSITY, original_mnemonic=MDEN)\n",
      "\torder=value:descr rhs_element=value\n",
      "DEBUG:lasio.las:get_section_widths HeaderItem(mnemonic=RMF, unit=OHMM, value=0.216, descr=MUD FILTRATE RESISTIVITY, original_mnemonic=RMF)\n",
      "\torder=value:descr rhs_element=value\n",
      "DEBUG:lasio.las:get_section_widths HeaderItem(mnemonic=DFD, unit=K/M3, value=1525.0, descr=DRILL FLUID DENSITY, original_mnemonic=DFD)\n",
      "\torder=value:descr rhs_element=value\n"
     ]
    },
    {
     "name": "stdout",
     "output_type": "stream",
     "text": [
      "~Version ---------------------------------------------------\n",
      "VERS. 2.0 : CWLS log ASCII Standard -VERSION 2.0\n",
      "WRAP.  NO : One line per depth step\n",
      "~Well ------------------------------------------------------\n",
      "STRT.M                  1670.0 : \n",
      "STOP.M                 1669.75 : \n",
      "STEP.M                  -0.125 : \n",
      "NULL.                  -999.25 : \n",
      "COMP.   # ANY OIL COMPANY LTD. : COMPANY\n",
      "WELL.   ANY ET AL OIL WELL #12 : WELL\n",
      "FLD .                     EDAM : FIELD\n",
      "LOC .           A9-16-49-20W3M : LOCATION\n",
      "PROV.             SASKATCHEWAN : PROVINCE\n",
      "SRVC. ANY LOGGING COMPANY LTD. : SERVICE COMPANY\n",
      "DATE.              25-DEC-1988 : LOG DATE\n",
      "UWI .         100091604920W300 : UNIQUE WELL ID\n",
      "~Curves ----------------------------------------------------\n",
      "DEPT    .M     : 1  DEPTH\n",
      "DT      .US/M  : 2  SONIC TRANSIT TIME\n",
      "RHOB    .K/M3  : 3  BULK DENSITY\n",
      "NPHI    .V/V   : 4   NEUTRON POROSITY\n",
      "SFLU    .OHMM  : 5  RXO RESISTIVITY\n",
      "SFLA    .OHMM  : 6  SHALLOW RESISTIVITY\n",
      "ILM     .OHMM  : 7  MEDIUM RESISTIVITY\n",
      "ILD     .OHMM  : 8  DEEP RESISTIVITY\n",
      "ILD_COND.      : \n",
      "~Params ----------------------------------------------------\n",
      "BHT .DEGC   35.5 : BOTTOM HOLE TEMPERATURE\n",
      "BS  .MM    200.0 : BIT SIZE\n",
      "FD  .K/M3 1000.0 : FLUID DENSITY\n",
      "MATR.        0.0 : NEUTRON MATRIX(0=LIME,1=SAND,2=DOLO)\n",
      "MDEN.     2710.0 : LOGGING MATRIX DENSITY\n",
      "RMF .OHMM  0.216 : MUD FILTRATE RESISTIVITY\n",
      "DFD .K/M3 1525.0 : DRILL FLUID DENSITY\n",
      "~Other -----------------------------------------------------\n",
      "Note: The logging tools became stuck at 625 meters causing the data\n",
      "between 625 meters and 615 meters to be invalid.\n",
      "~ASCII -----------------------------------------------------\n",
      " 1670.00000  123.45000 2550.00000    0.45000  123.45000  123.45000  110.20000  105.60000    9.46970\n",
      " 1669.87500  123.45000 2550.00000    0.45000  123.45000  123.45000  110.20000  105.60000    9.46970\n",
      " 1669.75000  123.45000 2550.00000    0.45000  123.45000  123.45000  110.20000  105.60000    9.46970\n",
      "\n"
     ]
    }
   ],
   "source": [
    "df = l.df()\n",
    "df[\"ILD_COND\"] = 1000 / df.ILD\n",
    "l.set_data_from_df(df, match_shape=False)\n",
    "s = StringIO.StringIO()\n",
    "l.write(s, version=2, wrap=False, fmt=\"%.5f\")\n",
    "s.seek(0); print s.read()"
   ]
  },
  {
   "cell_type": "code",
   "execution_count": 5,
   "metadata": {
    "collapsed": false
   },
   "outputs": [
    {
     "data": {
      "text/plain": [
       "[CurveItem(mnemonic=DEPT, unit=M, value=, descr=1  DEPTH, original_mnemonic=DEPT, data.shape=(3L,)),\n",
       " CurveItem(mnemonic=DT, unit=US/M, value=, descr=2  SONIC TRANSIT TIME, original_mnemonic=DT, data.shape=(3L,)),\n",
       " CurveItem(mnemonic=RHOB, unit=K/M3, value=, descr=3  BULK DENSITY, original_mnemonic=RHOB, data.shape=(3L,)),\n",
       " CurveItem(mnemonic=NPHI, unit=V/V, value=, descr=4   NEUTRON POROSITY, original_mnemonic=NPHI, data.shape=(3L,)),\n",
       " CurveItem(mnemonic=SFLU, unit=OHMM, value=, descr=5  RXO RESISTIVITY, original_mnemonic=SFLU, data.shape=(3L,)),\n",
       " CurveItem(mnemonic=SFLA, unit=OHMM, value=, descr=6  SHALLOW RESISTIVITY, original_mnemonic=SFLA, data.shape=(3L,)),\n",
       " CurveItem(mnemonic=ILM, unit=OHMM, value=, descr=7  MEDIUM RESISTIVITY, original_mnemonic=ILM, data.shape=(3L,)),\n",
       " CurveItem(mnemonic=ILD, unit=OHMM, value=, descr=8  DEEP RESISTIVITY, original_mnemonic=ILD, data.shape=(3L,)),\n",
       " CurveItem(mnemonic=ILD_COND, unit=, value=, descr=, original_mnemonic=ILD_COND, data.shape=())]"
      ]
     },
     "execution_count": 5,
     "metadata": {},
     "output_type": "execute_result"
    }
   ],
   "source": [
    "l.curves"
   ]
  },
  {
   "cell_type": "code",
   "execution_count": 6,
   "metadata": {
    "collapsed": false
   },
   "outputs": [
    {
     "data": {
      "text/plain": [
       "'DEPT'"
      ]
     },
     "execution_count": 6,
     "metadata": {},
     "output_type": "execute_result"
    }
   ],
   "source": [
    "df.index.name"
   ]
  },
  {
   "cell_type": "code",
   "execution_count": 7,
   "metadata": {
    "collapsed": false
   },
   "outputs": [
    {
     "data": {
      "text/plain": [
       "(3L, 9L)"
      ]
     },
     "execution_count": 7,
     "metadata": {},
     "output_type": "execute_result"
    }
   ],
   "source": [
    "l.data.shape"
   ]
  },
  {
   "cell_type": "code",
   "execution_count": 8,
   "metadata": {
    "collapsed": false
   },
   "outputs": [
    {
     "data": {
      "text/plain": [
       "(3L, 8L)"
      ]
     },
     "execution_count": 8,
     "metadata": {},
     "output_type": "execute_result"
    }
   ],
   "source": [
    "df.values.shape"
   ]
  },
  {
   "cell_type": "code",
   "execution_count": 9,
   "metadata": {
    "collapsed": false
   },
   "outputs": [
    {
     "data": {
      "text/plain": [
       "array([[  1.67000000e+03,   1.23450000e+02,   2.55000000e+03,\n",
       "          4.50000000e-01,   1.23450000e+02,   1.23450000e+02,\n",
       "          1.10200000e+02,   1.05600000e+02,   9.46969697e+00],\n",
       "       [  1.66987500e+03,   1.23450000e+02,   2.55000000e+03,\n",
       "          4.50000000e-01,   1.23450000e+02,   1.23450000e+02,\n",
       "          1.10200000e+02,   1.05600000e+02,   9.46969697e+00],\n",
       "       [  1.66975000e+03,   1.23450000e+02,   2.55000000e+03,\n",
       "          4.50000000e-01,   1.23450000e+02,   1.23450000e+02,\n",
       "          1.10200000e+02,   1.05600000e+02,   9.46969697e+00]])"
      ]
     },
     "execution_count": 9,
     "metadata": {},
     "output_type": "execute_result"
    }
   ],
   "source": [
    "l.data"
   ]
  },
  {
   "cell_type": "code",
   "execution_count": 10,
   "metadata": {
    "collapsed": false,
    "scrolled": true
   },
   "outputs": [
    {
     "data": {
      "text/plain": [
       "[HeaderItem(mnemonic=STRT, unit=M, value=1670.0, descr=, original_mnemonic=STRT),\n",
       " HeaderItem(mnemonic=STOP, unit=M, value=1669.75, descr=, original_mnemonic=STOP),\n",
       " HeaderItem(mnemonic=STEP, unit=M, value=-0.125, descr=, original_mnemonic=STEP),\n",
       " HeaderItem(mnemonic=NULL, unit=, value=-999.25, descr=, original_mnemonic=NULL),\n",
       " HeaderItem(mnemonic=COMP, unit=, value=# ANY OIL COMPANY LTD., descr=COMPANY, original_mnemonic=COMP),\n",
       " HeaderItem(mnemonic=WELL, unit=, value=ANY ET AL OIL WELL #12, descr=WELL, original_mnemonic=WELL),\n",
       " HeaderItem(mnemonic=FLD, unit=, value=EDAM, descr=FIELD, original_mnemonic=FLD),\n",
       " HeaderItem(mnemonic=LOC, unit=, value=A9-16-49-20W3M, descr=LOCATION, original_mnemonic=LOC),\n",
       " HeaderItem(mnemonic=PROV, unit=, value=SASKATCHEWAN, descr=PROVINCE, original_mnemonic=PROV),\n",
       " HeaderItem(mnemonic=SRVC, unit=, value=ANY LOGGING COMPANY LTD., descr=SERVICE COMPANY, original_mnemonic=SRVC),\n",
       " HeaderItem(mnemonic=DATE, unit=, value=25-DEC-1988, descr=LOG DATE, original_mnemonic=DATE),\n",
       " HeaderItem(mnemonic=UWI, unit=, value=100091604920W300, descr=UNIQUE WELL ID, original_mnemonic=UWI)]"
      ]
     },
     "execution_count": 10,
     "metadata": {},
     "output_type": "execute_result"
    }
   ],
   "source": [
    "l.well"
   ]
  },
  {
   "cell_type": "code",
   "execution_count": 11,
   "metadata": {
    "collapsed": false
   },
   "outputs": [
    {
     "data": {
      "text/plain": [
       "15"
      ]
     },
     "execution_count": 11,
     "metadata": {},
     "output_type": "execute_result"
    }
   ],
   "source": [
    "max([len(str(i.unit)) + len(str(i.descr)) for i in l.well])"
   ]
  },
  {
   "cell_type": "code",
   "execution_count": null,
   "metadata": {
    "collapsed": true
   },
   "outputs": [],
   "source": []
  }
 ],
 "metadata": {
  "kernelspec": {
   "display_name": "Python 2",
   "language": "python",
   "name": "python2"
  },
  "language_info": {
   "codemirror_mode": {
    "name": "ipython",
    "version": 2
   },
   "file_extension": ".py",
   "mimetype": "text/x-python",
   "name": "python",
   "nbconvert_exporter": "python",
   "pygments_lexer": "ipython2",
   "version": "2.7.11"
  }
 },
 "nbformat": 4,
 "nbformat_minor": 0
}
