{
 "cells": [
  {
   "cell_type": "code",
   "execution_count": 1,
   "metadata": {
    "collapsed": false
   },
   "outputs": [],
   "source": [
    "import logging\n",
    "logging.getLogger().setLevel(logging.DEBUG)"
   ]
  },
  {
   "cell_type": "code",
   "execution_count": 2,
   "metadata": {
    "collapsed": true
   },
   "outputs": [],
   "source": [
    "import lasio"
   ]
  },
  {
   "cell_type": "markdown",
   "metadata": {},
   "source": [
    "with pandas, creating string data causes all curves to have a string type"
   ]
  },
  {
   "cell_type": "code",
   "execution_count": 3,
   "metadata": {
    "collapsed": false
   },
   "outputs": [
    {
     "data": {
      "text/plain": [
       "True"
      ]
     },
     "execution_count": 3,
     "metadata": {},
     "output_type": "execute_result"
    }
   ],
   "source": [
    "l = lasio.LASFile(use_pandas=True)\n",
    "l._use_pandas"
   ]
  },
  {
   "cell_type": "code",
   "execution_count": 4,
   "metadata": {
    "collapsed": false
   },
   "outputs": [
    {
     "name": "stderr",
     "output_type": "stream",
     "text": [
      "DEBUG:lasio.las:SectionItems.append type=<class 'lasio.las.CurveItem'> str=CurveItem(mnemonic=DEPT, unit=, value=, descr=, original_mnemonic=DEPT, data.shape=(3L,))\n",
      "DEBUG:lasio.las:_use_pandas=True -> create self.df\n"
     ]
    },
    {
     "data": {
      "text/plain": [
       "array([1, 2, 3])"
      ]
     },
     "execution_count": 4,
     "metadata": {},
     "output_type": "execute_result"
    }
   ],
   "source": [
    "l.add_curve('DEPT', [1, 2, 3])\n",
    "l.index"
   ]
  },
  {
   "cell_type": "code",
   "execution_count": 5,
   "metadata": {
    "collapsed": false
   },
   "outputs": [
    {
     "name": "stderr",
     "output_type": "stream",
     "text": [
      "DEBUG:lasio.las:SectionItems.append type=<class 'lasio.las.CurveItem'> str=CurveItem(mnemonic=test1, unit=, value=, descr=, original_mnemonic=test1, data.shape=(3L,))\n",
      "DEBUG:lasio.las:_use_pandas=True -> create self.df\n"
     ]
    },
    {
     "data": {
      "text/plain": [
       "array([1, 2, 3])"
      ]
     },
     "execution_count": 5,
     "metadata": {},
     "output_type": "execute_result"
    }
   ],
   "source": [
    "l.add_curve('test1', [.17, .99, .35])\n",
    "l.index"
   ]
  },
  {
   "cell_type": "code",
   "execution_count": 6,
   "metadata": {
    "collapsed": false
   },
   "outputs": [
    {
     "name": "stderr",
     "output_type": "stream",
     "text": [
      "DEBUG:lasio.las:SectionItems.append type=<class 'lasio.las.CurveItem'> str=CurveItem(mnemonic=test2, unit=, value=, descr=, original_mnemonic=test2, data.shape=(3L,))\n",
      "DEBUG:lasio.las:_use_pandas=True -> create self.df\n"
     ]
    },
    {
     "data": {
      "text/plain": [
       "array([1, 2, 3])"
      ]
     },
     "execution_count": 6,
     "metadata": {},
     "output_type": "execute_result"
    }
   ],
   "source": [
    "l.add_curve('test2', ['a', 'b', 'c'])\n",
    "l.index"
   ]
  },
  {
   "cell_type": "code",
   "execution_count": 8,
   "metadata": {
    "collapsed": false
   },
   "outputs": [
    {
     "name": "stderr",
     "output_type": "stream",
     "text": [
      "DEBUG:lasio.las:SectionItems.__setitem__ Replaced VERS item\n",
      "DEBUG:lasio.las:LASFile.write Version section\n",
      "DEBUG:lasio.las:get_section_widths HeaderItem(mnemonic=VERS, unit=, value=2.0, descr=CWLS log ASCII Standard -VERSION 2.0, original_mnemonic=VERS)\n",
      "\torder=value:descr rhs_element=value\n",
      "DEBUG:lasio.las:get_section_widths HeaderItem(mnemonic=WRAP, unit=, value=NO, descr=One line per depth step, original_mnemonic=WRAP)\n",
      "\torder=value:descr rhs_element=value\n",
      "DEBUG:lasio.las:get_section_widths HeaderItem(mnemonic=DLM, unit=, value=SPACE, descr=Column Data Section Delimiter, original_mnemonic=DLM)\n",
      "\torder=value:descr rhs_element=value\n",
      "DEBUG:lasio.las:LASFile.write HeaderItem(mnemonic=VERS, unit=, value=2.0, descr=CWLS log ASCII Standard -VERSION 2.0, original_mnemonic=VERS)\n",
      "order=value:descr section_widths={'left_width': 4, 'middle_width': 6}\n",
      "DEBUG:lasio.las:LASFile.write HeaderItem(mnemonic=WRAP, unit=, value=NO, descr=One line per depth step, original_mnemonic=WRAP)\n",
      "order=value:descr section_widths={'left_width': 4, 'middle_width': 6}\n",
      "DEBUG:lasio.las:LASFile.write HeaderItem(mnemonic=DLM, unit=, value=SPACE, descr=Column Data Section Delimiter, original_mnemonic=DLM)\n",
      "order=value:descr section_widths={'left_width': 4, 'middle_width': 6}\n",
      "DEBUG:lasio.las:LASFile.write Well section\n",
      "DEBUG:lasio.las:get_section_widths HeaderItem(mnemonic=STRT, unit=m, value=1, descr=START DEPTH, original_mnemonic=STRT)\n",
      "\torder=value:descr rhs_element=value\n",
      "DEBUG:lasio.las:get_section_widths HeaderItem(mnemonic=STOP, unit=m, value=3, descr=STOP DEPTH, original_mnemonic=STOP)\n",
      "\torder=value:descr rhs_element=value\n",
      "DEBUG:lasio.las:get_section_widths HeaderItem(mnemonic=STEP, unit=m, value=1, descr=STEP, original_mnemonic=STEP)\n",
      "\torder=value:descr rhs_element=value\n",
      "DEBUG:lasio.las:get_section_widths HeaderItem(mnemonic=NULL, unit=, value=-9999.25, descr=NULL VALUE, original_mnemonic=NULL)\n",
      "\torder=value:descr rhs_element=value\n",
      "DEBUG:lasio.las:get_section_widths HeaderItem(mnemonic=COMP, unit=, value=, descr=COMPANY, original_mnemonic=COMP)\n",
      "\torder=value:descr rhs_element=value\n",
      "DEBUG:lasio.las:get_section_widths HeaderItem(mnemonic=WELL, unit=, value=, descr=WELL, original_mnemonic=WELL)\n",
      "\torder=value:descr rhs_element=value\n",
      "DEBUG:lasio.las:get_section_widths HeaderItem(mnemonic=FLD, unit=, value=, descr=FIELD, original_mnemonic=FLD)\n",
      "\torder=value:descr rhs_element=value\n",
      "DEBUG:lasio.las:get_section_widths HeaderItem(mnemonic=LOC, unit=, value=, descr=LOCATION, original_mnemonic=LOC)\n",
      "\torder=value:descr rhs_element=value\n",
      "DEBUG:lasio.las:get_section_widths HeaderItem(mnemonic=PROV, unit=, value=, descr=PROVINCE, original_mnemonic=PROV)\n",
      "\torder=value:descr rhs_element=value\n",
      "DEBUG:lasio.las:get_section_widths HeaderItem(mnemonic=CNTY, unit=, value=, descr=COUNTY, original_mnemonic=CNTY)\n",
      "\torder=value:descr rhs_element=value\n",
      "DEBUG:lasio.las:get_section_widths HeaderItem(mnemonic=STAT, unit=, value=, descr=STATE, original_mnemonic=STAT)\n",
      "\torder=value:descr rhs_element=value\n",
      "DEBUG:lasio.las:get_section_widths HeaderItem(mnemonic=CTRY, unit=, value=, descr=COUNTRY, original_mnemonic=CTRY)\n",
      "\torder=value:descr rhs_element=value\n",
      "DEBUG:lasio.las:get_section_widths HeaderItem(mnemonic=SRVC, unit=, value=, descr=SERVICE COMPANY, original_mnemonic=SRVC)\n",
      "\torder=value:descr rhs_element=value\n",
      "DEBUG:lasio.las:get_section_widths HeaderItem(mnemonic=DATE, unit=, value=, descr=DATE, original_mnemonic=DATE)\n",
      "\torder=value:descr rhs_element=value\n",
      "DEBUG:lasio.las:get_section_widths HeaderItem(mnemonic=UWI, unit=, value=, descr=UNIQUE WELL ID, original_mnemonic=UWI)\n",
      "\torder=value:descr rhs_element=value\n",
      "DEBUG:lasio.las:get_section_widths HeaderItem(mnemonic=API, unit=, value=, descr=API NUMBER, original_mnemonic=API)\n",
      "\torder=value:descr rhs_element=value\n",
      "DEBUG:lasio.las:LASFile.write HeaderItem(mnemonic=STRT, unit=m, value=1, descr=START DEPTH, original_mnemonic=STRT)\n",
      "order=value:descr section_widths={'left_width': 4, 'middle_width': 9}\n",
      "DEBUG:lasio.las:LASFile.write HeaderItem(mnemonic=STOP, unit=m, value=3, descr=STOP DEPTH, original_mnemonic=STOP)\n",
      "order=value:descr section_widths={'left_width': 4, 'middle_width': 9}\n",
      "DEBUG:lasio.las:LASFile.write HeaderItem(mnemonic=STEP, unit=m, value=1, descr=STEP, original_mnemonic=STEP)\n",
      "order=value:descr section_widths={'left_width': 4, 'middle_width': 9}\n",
      "DEBUG:lasio.las:LASFile.write HeaderItem(mnemonic=NULL, unit=, value=-9999.25, descr=NULL VALUE, original_mnemonic=NULL)\n",
      "order=value:descr section_widths={'left_width': 4, 'middle_width': 9}\n",
      "DEBUG:lasio.las:LASFile.write HeaderItem(mnemonic=COMP, unit=, value=, descr=COMPANY, original_mnemonic=COMP)\n",
      "order=value:descr section_widths={'left_width': 4, 'middle_width': 9}\n",
      "DEBUG:lasio.las:LASFile.write HeaderItem(mnemonic=WELL, unit=, value=, descr=WELL, original_mnemonic=WELL)\n",
      "order=value:descr section_widths={'left_width': 4, 'middle_width': 9}\n",
      "DEBUG:lasio.las:LASFile.write HeaderItem(mnemonic=FLD, unit=, value=, descr=FIELD, original_mnemonic=FLD)\n",
      "order=value:descr section_widths={'left_width': 4, 'middle_width': 9}\n",
      "DEBUG:lasio.las:LASFile.write HeaderItem(mnemonic=LOC, unit=, value=, descr=LOCATION, original_mnemonic=LOC)\n",
      "order=value:descr section_widths={'left_width': 4, 'middle_width': 9}\n",
      "DEBUG:lasio.las:LASFile.write HeaderItem(mnemonic=PROV, unit=, value=, descr=PROVINCE, original_mnemonic=PROV)\n",
      "order=value:descr section_widths={'left_width': 4, 'middle_width': 9}\n",
      "DEBUG:lasio.las:LASFile.write HeaderItem(mnemonic=CNTY, unit=, value=, descr=COUNTY, original_mnemonic=CNTY)\n",
      "order=value:descr section_widths={'left_width': 4, 'middle_width': 9}\n",
      "DEBUG:lasio.las:LASFile.write HeaderItem(mnemonic=STAT, unit=, value=, descr=STATE, original_mnemonic=STAT)\n",
      "order=value:descr section_widths={'left_width': 4, 'middle_width': 9}\n",
      "DEBUG:lasio.las:LASFile.write HeaderItem(mnemonic=CTRY, unit=, value=, descr=COUNTRY, original_mnemonic=CTRY)\n",
      "order=value:descr section_widths={'left_width': 4, 'middle_width': 9}\n",
      "DEBUG:lasio.las:LASFile.write HeaderItem(mnemonic=SRVC, unit=, value=, descr=SERVICE COMPANY, original_mnemonic=SRVC)\n",
      "order=value:descr section_widths={'left_width': 4, 'middle_width': 9}\n",
      "DEBUG:lasio.las:LASFile.write HeaderItem(mnemonic=DATE, unit=, value=, descr=DATE, original_mnemonic=DATE)\n",
      "order=value:descr section_widths={'left_width': 4, 'middle_width': 9}\n",
      "DEBUG:lasio.las:LASFile.write HeaderItem(mnemonic=UWI, unit=, value=, descr=UNIQUE WELL ID, original_mnemonic=UWI)\n",
      "order=value:descr section_widths={'left_width': 4, 'middle_width': 9}\n",
      "DEBUG:lasio.las:LASFile.write HeaderItem(mnemonic=API, unit=, value=, descr=API NUMBER, original_mnemonic=API)\n",
      "order=value:descr section_widths={'left_width': 4, 'middle_width': 9}\n",
      "DEBUG:lasio.las:LASFile.write Curves section\n",
      "DEBUG:lasio.las:get_section_widths CurveItem(mnemonic=DEPT, unit=, value=, descr=, original_mnemonic=DEPT, data.shape=(3L,))\n",
      "\torder=value:descr rhs_element=value\n",
      "DEBUG:lasio.las:get_section_widths CurveItem(mnemonic=test1, unit=, value=, descr=, original_mnemonic=test1, data.shape=(3L,))\n",
      "\torder=value:descr rhs_element=value\n",
      "DEBUG:lasio.las:get_section_widths CurveItem(mnemonic=test2, unit=, value=, descr=, original_mnemonic=test2, data.shape=(3L,))\n",
      "\torder=value:descr rhs_element=value\n"
     ]
    },
    {
     "name": "stdout",
     "output_type": "stream",
     "text": [
      "~Version ---------------------------------------------------\n",
      "VERS.   2.0 : CWLS log ASCII Standard -VERSION 2.0\n",
      "WRAP.    NO : One line per depth step\n",
      "DLM . SPACE : Column Data Section Delimiter\n",
      "~Well ------------------------------------------------------\n",
      "STRT.m       1 : START DEPTH\n",
      "STOP.m       3 : STOP DEPTH\n",
      "STEP.m       1 : STEP\n",
      "NULL. -9999.25 : NULL VALUE\n",
      "COMP.          : COMPANY\n",
      "WELL.          : WELL\n",
      "FLD .          : FIELD\n",
      "LOC .          : LOCATION\n",
      "PROV.          : PROVINCE\n",
      "CNTY.          : COUNTY\n",
      "STAT.          : STATE\n",
      "CTRY.          : COUNTRY\n",
      "SRVC.          : SERVICE COMPANY\n",
      "DATE.          : DATE\n",
      "UWI .          : UNIQUE WELL ID\n",
      "API .          : API NUMBER\n",
      "~Curves ----------------------------------------------------\n",
      "DEPT .  : \n",
      "test1.  : \n",
      "test2.  : \n",
      "~Params ----------------------------------------------------\n",
      "~Other -----------------------------------------------------\n",
      "~ASCII -----------------------------------------------------\n",
      "          1       0.17          a\n",
      "          2       0.99          b\n",
      "          3       0.35          c\n",
      "\n"
     ]
    }
   ],
   "source": [
    "from StringIO import StringIO\n",
    "s = StringIO()\n",
    "l.write(s)\n",
    "s.seek(0)\n",
    "print s.read()"
   ]
  },
  {
   "cell_type": "markdown",
   "metadata": {},
   "source": [
    "what about without pandas?"
   ]
  },
  {
   "cell_type": "code",
   "execution_count": 9,
   "metadata": {
    "collapsed": true
   },
   "outputs": [],
   "source": [
    "import lasio"
   ]
  },
  {
   "cell_type": "code",
   "execution_count": 10,
   "metadata": {
    "collapsed": false
   },
   "outputs": [
    {
     "data": {
      "text/plain": [
       "False"
      ]
     },
     "execution_count": 10,
     "metadata": {},
     "output_type": "execute_result"
    }
   ],
   "source": [
    "l2 = lasio.LASFile(use_pandas=False)\n",
    "l2._use_pandas"
   ]
  },
  {
   "cell_type": "code",
   "execution_count": 11,
   "metadata": {
    "collapsed": false
   },
   "outputs": [
    {
     "name": "stderr",
     "output_type": "stream",
     "text": [
      "DEBUG:lasio.las:SectionItems.__setitem__ Replaced DEPT item\n"
     ]
    },
    {
     "data": {
      "text/plain": [
       "array([1, 2, 3])"
      ]
     },
     "execution_count": 11,
     "metadata": {},
     "output_type": "execute_result"
    }
   ],
   "source": [
    "l2.add_curve('DEPT', [1, 2, 3])\n",
    "l2.index"
   ]
  },
  {
   "cell_type": "code",
   "execution_count": 12,
   "metadata": {
    "collapsed": false
   },
   "outputs": [
    {
     "name": "stderr",
     "output_type": "stream",
     "text": [
      "DEBUG:lasio.las:SectionItems.__setitem__ Replaced test1 item\n"
     ]
    },
    {
     "data": {
      "text/plain": [
       "array([1, 2, 3])"
      ]
     },
     "execution_count": 12,
     "metadata": {},
     "output_type": "execute_result"
    }
   ],
   "source": [
    "l2.add_curve('test1', [.17, .99, .35])\n",
    "l2.index"
   ]
  },
  {
   "cell_type": "code",
   "execution_count": 13,
   "metadata": {
    "collapsed": false
   },
   "outputs": [
    {
     "name": "stderr",
     "output_type": "stream",
     "text": [
      "DEBUG:lasio.las:SectionItems.__setitem__ Replaced test2 item\n"
     ]
    },
    {
     "data": {
      "text/plain": [
       "array([1, 2, 3])"
      ]
     },
     "execution_count": 13,
     "metadata": {},
     "output_type": "execute_result"
    }
   ],
   "source": [
    "l2.add_curve('test2', ['a', 'b', 'c'])\n",
    "l2.index"
   ]
  },
  {
   "cell_type": "code",
   "execution_count": 14,
   "metadata": {
    "collapsed": false
   },
   "outputs": [
    {
     "name": "stderr",
     "output_type": "stream",
     "text": [
      "DEBUG:lasio.las:SectionItems.__setitem__ Replaced VERS item\n",
      "DEBUG:lasio.las:LASFile.write Version section\n",
      "DEBUG:lasio.las:get_section_widths HeaderItem(mnemonic=VERS, unit=, value=2.0, descr=CWLS log ASCII Standard -VERSION 2.0, original_mnemonic=VERS)\n",
      "\torder=value:descr rhs_element=value\n",
      "DEBUG:lasio.las:get_section_widths HeaderItem(mnemonic=WRAP, unit=, value=NO, descr=One line per depth step, original_mnemonic=WRAP)\n",
      "\torder=value:descr rhs_element=value\n",
      "DEBUG:lasio.las:get_section_widths HeaderItem(mnemonic=DLM, unit=, value=SPACE, descr=Column Data Section Delimiter, original_mnemonic=DLM)\n",
      "\torder=value:descr rhs_element=value\n",
      "DEBUG:lasio.las:LASFile.write HeaderItem(mnemonic=VERS, unit=, value=2.0, descr=CWLS log ASCII Standard -VERSION 2.0, original_mnemonic=VERS)\n",
      "order=value:descr section_widths={'left_width': 4, 'middle_width': 6}\n",
      "DEBUG:lasio.las:LASFile.write HeaderItem(mnemonic=WRAP, unit=, value=NO, descr=One line per depth step, original_mnemonic=WRAP)\n",
      "order=value:descr section_widths={'left_width': 4, 'middle_width': 6}\n",
      "DEBUG:lasio.las:LASFile.write HeaderItem(mnemonic=DLM, unit=, value=SPACE, descr=Column Data Section Delimiter, original_mnemonic=DLM)\n",
      "order=value:descr section_widths={'left_width': 4, 'middle_width': 6}\n",
      "DEBUG:lasio.las:LASFile.write Well section\n",
      "DEBUG:lasio.las:get_section_widths HeaderItem(mnemonic=STRT, unit=m, value=1, descr=START DEPTH, original_mnemonic=STRT)\n",
      "\torder=value:descr rhs_element=value\n",
      "DEBUG:lasio.las:get_section_widths HeaderItem(mnemonic=STOP, unit=m, value=3, descr=STOP DEPTH, original_mnemonic=STOP)\n",
      "\torder=value:descr rhs_element=value\n",
      "DEBUG:lasio.las:get_section_widths HeaderItem(mnemonic=STEP, unit=m, value=1, descr=STEP, original_mnemonic=STEP)\n",
      "\torder=value:descr rhs_element=value\n",
      "DEBUG:lasio.las:get_section_widths HeaderItem(mnemonic=NULL, unit=, value=-9999.25, descr=NULL VALUE, original_mnemonic=NULL)\n",
      "\torder=value:descr rhs_element=value\n",
      "DEBUG:lasio.las:get_section_widths HeaderItem(mnemonic=COMP, unit=, value=, descr=COMPANY, original_mnemonic=COMP)\n",
      "\torder=value:descr rhs_element=value\n",
      "DEBUG:lasio.las:get_section_widths HeaderItem(mnemonic=WELL, unit=, value=, descr=WELL, original_mnemonic=WELL)\n",
      "\torder=value:descr rhs_element=value\n",
      "DEBUG:lasio.las:get_section_widths HeaderItem(mnemonic=FLD, unit=, value=, descr=FIELD, original_mnemonic=FLD)\n",
      "\torder=value:descr rhs_element=value\n",
      "DEBUG:lasio.las:get_section_widths HeaderItem(mnemonic=LOC, unit=, value=, descr=LOCATION, original_mnemonic=LOC)\n",
      "\torder=value:descr rhs_element=value\n",
      "DEBUG:lasio.las:get_section_widths HeaderItem(mnemonic=PROV, unit=, value=, descr=PROVINCE, original_mnemonic=PROV)\n",
      "\torder=value:descr rhs_element=value\n",
      "DEBUG:lasio.las:get_section_widths HeaderItem(mnemonic=CNTY, unit=, value=, descr=COUNTY, original_mnemonic=CNTY)\n",
      "\torder=value:descr rhs_element=value\n",
      "DEBUG:lasio.las:get_section_widths HeaderItem(mnemonic=STAT, unit=, value=, descr=STATE, original_mnemonic=STAT)\n",
      "\torder=value:descr rhs_element=value\n",
      "DEBUG:lasio.las:get_section_widths HeaderItem(mnemonic=CTRY, unit=, value=, descr=COUNTRY, original_mnemonic=CTRY)\n",
      "\torder=value:descr rhs_element=value\n",
      "DEBUG:lasio.las:get_section_widths HeaderItem(mnemonic=SRVC, unit=, value=, descr=SERVICE COMPANY, original_mnemonic=SRVC)\n",
      "\torder=value:descr rhs_element=value\n",
      "DEBUG:lasio.las:get_section_widths HeaderItem(mnemonic=DATE, unit=, value=, descr=DATE, original_mnemonic=DATE)\n",
      "\torder=value:descr rhs_element=value\n",
      "DEBUG:lasio.las:get_section_widths HeaderItem(mnemonic=UWI, unit=, value=, descr=UNIQUE WELL ID, original_mnemonic=UWI)\n",
      "\torder=value:descr rhs_element=value\n",
      "DEBUG:lasio.las:get_section_widths HeaderItem(mnemonic=API, unit=, value=, descr=API NUMBER, original_mnemonic=API)\n",
      "\torder=value:descr rhs_element=value\n",
      "DEBUG:lasio.las:LASFile.write HeaderItem(mnemonic=STRT, unit=m, value=1, descr=START DEPTH, original_mnemonic=STRT)\n",
      "order=value:descr section_widths={'left_width': 4, 'middle_width': 9}\n",
      "DEBUG:lasio.las:LASFile.write HeaderItem(mnemonic=STOP, unit=m, value=3, descr=STOP DEPTH, original_mnemonic=STOP)\n",
      "order=value:descr section_widths={'left_width': 4, 'middle_width': 9}\n",
      "DEBUG:lasio.las:LASFile.write HeaderItem(mnemonic=STEP, unit=m, value=1, descr=STEP, original_mnemonic=STEP)\n",
      "order=value:descr section_widths={'left_width': 4, 'middle_width': 9}\n",
      "DEBUG:lasio.las:LASFile.write HeaderItem(mnemonic=NULL, unit=, value=-9999.25, descr=NULL VALUE, original_mnemonic=NULL)\n",
      "order=value:descr section_widths={'left_width': 4, 'middle_width': 9}\n",
      "DEBUG:lasio.las:LASFile.write HeaderItem(mnemonic=COMP, unit=, value=, descr=COMPANY, original_mnemonic=COMP)\n",
      "order=value:descr section_widths={'left_width': 4, 'middle_width': 9}\n",
      "DEBUG:lasio.las:LASFile.write HeaderItem(mnemonic=WELL, unit=, value=, descr=WELL, original_mnemonic=WELL)\n",
      "order=value:descr section_widths={'left_width': 4, 'middle_width': 9}\n",
      "DEBUG:lasio.las:LASFile.write HeaderItem(mnemonic=FLD, unit=, value=, descr=FIELD, original_mnemonic=FLD)\n",
      "order=value:descr section_widths={'left_width': 4, 'middle_width': 9}\n",
      "DEBUG:lasio.las:LASFile.write HeaderItem(mnemonic=LOC, unit=, value=, descr=LOCATION, original_mnemonic=LOC)\n",
      "order=value:descr section_widths={'left_width': 4, 'middle_width': 9}\n",
      "DEBUG:lasio.las:LASFile.write HeaderItem(mnemonic=PROV, unit=, value=, descr=PROVINCE, original_mnemonic=PROV)\n",
      "order=value:descr section_widths={'left_width': 4, 'middle_width': 9}\n",
      "DEBUG:lasio.las:LASFile.write HeaderItem(mnemonic=CNTY, unit=, value=, descr=COUNTY, original_mnemonic=CNTY)\n",
      "order=value:descr section_widths={'left_width': 4, 'middle_width': 9}\n",
      "DEBUG:lasio.las:LASFile.write HeaderItem(mnemonic=STAT, unit=, value=, descr=STATE, original_mnemonic=STAT)\n",
      "order=value:descr section_widths={'left_width': 4, 'middle_width': 9}\n",
      "DEBUG:lasio.las:LASFile.write HeaderItem(mnemonic=CTRY, unit=, value=, descr=COUNTRY, original_mnemonic=CTRY)\n",
      "order=value:descr section_widths={'left_width': 4, 'middle_width': 9}\n",
      "DEBUG:lasio.las:LASFile.write HeaderItem(mnemonic=SRVC, unit=, value=, descr=SERVICE COMPANY, original_mnemonic=SRVC)\n",
      "order=value:descr section_widths={'left_width': 4, 'middle_width': 9}\n",
      "DEBUG:lasio.las:LASFile.write HeaderItem(mnemonic=DATE, unit=, value=, descr=DATE, original_mnemonic=DATE)\n",
      "order=value:descr section_widths={'left_width': 4, 'middle_width': 9}\n",
      "DEBUG:lasio.las:LASFile.write HeaderItem(mnemonic=UWI, unit=, value=, descr=UNIQUE WELL ID, original_mnemonic=UWI)\n",
      "order=value:descr section_widths={'left_width': 4, 'middle_width': 9}\n",
      "DEBUG:lasio.las:LASFile.write HeaderItem(mnemonic=API, unit=, value=, descr=API NUMBER, original_mnemonic=API)\n",
      "order=value:descr section_widths={'left_width': 4, 'middle_width': 9}\n",
      "DEBUG:lasio.las:LASFile.write Curves section\n",
      "DEBUG:lasio.las:get_section_widths CurveItem(mnemonic=DEPT, unit=, value=, descr=, original_mnemonic=DEPT, data.shape=(3L,))\n",
      "\torder=value:descr rhs_element=value\n",
      "DEBUG:lasio.las:get_section_widths CurveItem(mnemonic=test1, unit=, value=, descr=, original_mnemonic=test1, data.shape=(3L,))\n",
      "\torder=value:descr rhs_element=value\n",
      "DEBUG:lasio.las:get_section_widths CurveItem(mnemonic=test2, unit=, value=, descr=, original_mnemonic=test2, data.shape=(3L,))\n",
      "\torder=value:descr rhs_element=value\n"
     ]
    },
    {
     "name": "stdout",
     "output_type": "stream",
     "text": [
      "~Version ---------------------------------------------------\n",
      "VERS.   2.0 : CWLS log ASCII Standard -VERSION 2.0\n",
      "WRAP.    NO : One line per depth step\n",
      "DLM . SPACE : Column Data Section Delimiter\n",
      "~Well ------------------------------------------------------\n",
      "STRT.m       1 : START DEPTH\n",
      "STOP.m       3 : STOP DEPTH\n",
      "STEP.m       1 : STEP\n",
      "NULL. -9999.25 : NULL VALUE\n",
      "COMP.          : COMPANY\n",
      "WELL.          : WELL\n",
      "FLD .          : FIELD\n",
      "LOC .          : LOCATION\n",
      "PROV.          : PROVINCE\n",
      "CNTY.          : COUNTY\n",
      "STAT.          : STATE\n",
      "CTRY.          : COUNTRY\n",
      "SRVC.          : SERVICE COMPANY\n",
      "DATE.          : DATE\n",
      "UWI .          : UNIQUE WELL ID\n",
      "API .          : API NUMBER\n",
      "~Curves ----------------------------------------------------\n",
      "DEPT .  : \n",
      "test1.  : \n",
      "test2.  : \n",
      "~Params ----------------------------------------------------\n",
      "~Other -----------------------------------------------------\n",
      "~ASCII -----------------------------------------------------\n",
      "          1       0.17          a\n",
      "          2       0.99          b\n",
      "          3       0.35          c\n",
      "\n"
     ]
    }
   ],
   "source": [
    "from StringIO import StringIO\n",
    "s = StringIO()\n",
    "l2.write(s)\n",
    "s.seek(0)\n",
    "print s.read()"
   ]
  },
  {
   "cell_type": "code",
   "execution_count": null,
   "metadata": {
    "collapsed": true
   },
   "outputs": [],
   "source": []
  }
 ],
 "metadata": {
  "kernelspec": {
   "display_name": "Python 2",
   "language": "python",
   "name": "python2"
  },
  "language_info": {
   "codemirror_mode": {
    "name": "ipython",
    "version": 2
   },
   "file_extension": ".py",
   "mimetype": "text/x-python",
   "name": "python",
   "nbconvert_exporter": "python",
   "pygments_lexer": "ipython2",
   "version": "2.7.11"
  }
 },
 "nbformat": 4,
 "nbformat_minor": 0
}
