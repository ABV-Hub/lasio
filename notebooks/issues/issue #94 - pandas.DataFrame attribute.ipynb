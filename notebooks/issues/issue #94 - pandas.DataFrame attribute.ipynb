{
 "cells": [
  {
   "cell_type": "code",
   "execution_count": 1,
   "metadata": {
    "collapsed": false
   },
   "outputs": [],
   "source": [
    "import logging; logging.getLogger().setLevel(logging.DEBUG)\n",
    "import os\n",
    "\n",
    "import numpy\n",
    "import matplotlib.pyplot as plt\n",
    "%matplotlib inline\n",
    "import pandas\n",
    "\n",
    "from lasio import read"
   ]
  },
  {
   "cell_type": "code",
   "execution_count": 2,
   "metadata": {
    "collapsed": false
   },
   "outputs": [
    {
     "name": "stderr",
     "output_type": "stream",
     "text": [
      "DEBUG:lasio.las:LAS content is type <type 'str'>\n",
      "INFO:lasio.las:LAS file shape = (2732, 9)\n",
      "DEBUG:lasio.las:checking for nulls (NULL = -99999)\n",
      "DEBUG:lasio.las:DEPT index_type=<class 'pandas.core.index.Float64Index'>\n",
      "DEBUG:lasio.las:CALI index_type=<class 'pandas.core.index.Float64Index'>\n",
      "DEBUG:lasio.las:DFAR index_type=<class 'pandas.core.index.Float64Index'>\n",
      "DEBUG:lasio.las:DNEAR index_type=<class 'pandas.core.index.Float64Index'>\n",
      "DEBUG:lasio.las:GAMN index_type=<class 'pandas.core.index.Float64Index'>\n",
      "DEBUG:lasio.las:NEUT index_type=<class 'pandas.core.index.Float64Index'>\n",
      "DEBUG:lasio.las:PR index_type=<class 'pandas.core.index.Float64Index'>\n",
      "DEBUG:lasio.las:SP index_type=<class 'pandas.core.index.Float64Index'>\n",
      "DEBUG:lasio.las:COND index_type=<class 'pandas.core.index.Float64Index'>\n"
     ]
    }
   ],
   "source": [
    "l = read(\"/home/kent/code/lasio/tests/examples/6038187_v1.2.las\")"
   ]
  },
  {
   "cell_type": "code",
   "execution_count": 3,
   "metadata": {
    "collapsed": false
   },
   "outputs": [
    {
     "data": {
      "text/plain": [
       "0.05      49.765\n",
       "0.10      49.765\n",
       "0.15      49.765\n",
       "0.20      49.765\n",
       "0.25      49.765\n",
       "0.30      49.765\n",
       "0.35      49.765\n",
       "0.40      49.765\n",
       "0.45      49.765\n",
       "0.50      49.765\n",
       "0.55      49.765\n",
       "0.60      49.765\n",
       "0.65      49.765\n",
       "0.70      49.765\n",
       "0.75      49.765\n",
       "0.80      49.765\n",
       "0.85      49.765\n",
       "0.90      49.765\n",
       "0.95      49.765\n",
       "1.00      49.765\n",
       "1.05      49.765\n",
       "1.10      49.765\n",
       "1.15      49.765\n",
       "1.20      49.765\n",
       "1.25      49.765\n",
       "1.30      49.765\n",
       "1.35      49.765\n",
       "1.40      49.765\n",
       "1.45      49.765\n",
       "1.50      49.765\n",
       "           ...  \n",
       "135.15    49.024\n",
       "135.20    49.005\n",
       "135.25    48.999\n",
       "135.30    48.987\n",
       "135.35    48.980\n",
       "135.40    48.962\n",
       "135.45    48.962\n",
       "135.50    48.925\n",
       "135.55    48.931\n",
       "135.60    48.919\n",
       "135.65    48.900\n",
       "135.70    48.882\n",
       "135.75    48.863\n",
       "135.80    48.857\n",
       "135.85    48.839\n",
       "135.90    48.808\n",
       "135.95    48.802\n",
       "136.00    48.789\n",
       "136.05    48.771\n",
       "136.10    48.765\n",
       "136.15    48.752\n",
       "136.20    48.734\n",
       "136.25    48.684\n",
       "136.30    48.666\n",
       "136.35    48.647\n",
       "136.40    48.604\n",
       "136.45    48.555\n",
       "136.50    48.555\n",
       "136.55    48.438\n",
       "136.60   -56.275\n",
       "Name: CALI, dtype: float64"
      ]
     },
     "execution_count": 3,
     "metadata": {},
     "output_type": "execute_result"
    }
   ],
   "source": [
    "l.df.CALI"
   ]
  },
  {
   "cell_type": "code",
   "execution_count": 4,
   "metadata": {
    "collapsed": false
   },
   "outputs": [
    {
     "data": {
      "text/html": [
       "<div>\n",
       "<table border=\"1\" class=\"dataframe\">\n",
       "  <thead>\n",
       "    <tr style=\"text-align: right;\">\n",
       "      <th></th>\n",
       "      <th>DEPT</th>\n",
       "      <th>CALI</th>\n",
       "      <th>DFAR</th>\n",
       "      <th>DNEAR</th>\n",
       "      <th>GAMN</th>\n",
       "      <th>NEUT</th>\n",
       "      <th>PR</th>\n",
       "      <th>SP</th>\n",
       "      <th>COND</th>\n",
       "    </tr>\n",
       "  </thead>\n",
       "  <tbody>\n",
       "    <tr>\n",
       "      <th>count</th>\n",
       "      <td>2732.00000</td>\n",
       "      <td>2732.000000</td>\n",
       "      <td>2701.000000</td>\n",
       "      <td>2701.000000</td>\n",
       "      <td>2691.000000</td>\n",
       "      <td>2492.000000</td>\n",
       "      <td>2692.000000</td>\n",
       "      <td>2692.000000</td>\n",
       "      <td>2697.000000</td>\n",
       "    </tr>\n",
       "    <tr>\n",
       "      <th>mean</th>\n",
       "      <td>68.32500</td>\n",
       "      <td>97.432002</td>\n",
       "      <td>1.767922</td>\n",
       "      <td>1.729209</td>\n",
       "      <td>-102.330033</td>\n",
       "      <td>441.600013</td>\n",
       "      <td>17940.522307</td>\n",
       "      <td>90.393464</td>\n",
       "      <td>478.670791</td>\n",
       "    </tr>\n",
       "    <tr>\n",
       "      <th>std</th>\n",
       "      <td>39.44024</td>\n",
       "      <td>13.939547</td>\n",
       "      <td>0.480333</td>\n",
       "      <td>0.372412</td>\n",
       "      <td>630.106420</td>\n",
       "      <td>370.138208</td>\n",
       "      <td>22089.297212</td>\n",
       "      <td>26.725547</td>\n",
       "      <td>753.869866</td>\n",
       "    </tr>\n",
       "    <tr>\n",
       "      <th>min</th>\n",
       "      <td>0.05000</td>\n",
       "      <td>-56.275000</td>\n",
       "      <td>0.725000</td>\n",
       "      <td>0.657001</td>\n",
       "      <td>-2324.280000</td>\n",
       "      <td>81.001800</td>\n",
       "      <td>115.508000</td>\n",
       "      <td>-3.049000</td>\n",
       "      <td>-116.998000</td>\n",
       "    </tr>\n",
       "    <tr>\n",
       "      <th>25%</th>\n",
       "      <td>34.18750</td>\n",
       "      <td>101.077500</td>\n",
       "      <td>1.526000</td>\n",
       "      <td>1.535000</td>\n",
       "      <td>55.783000</td>\n",
       "      <td>158.002000</td>\n",
       "      <td>2652.470000</td>\n",
       "      <td>93.495500</td>\n",
       "      <td>200.981000</td>\n",
       "    </tr>\n",
       "    <tr>\n",
       "      <th>50%</th>\n",
       "      <td>68.32500</td>\n",
       "      <td>101.426000</td>\n",
       "      <td>1.758000</td>\n",
       "      <td>1.785000</td>\n",
       "      <td>74.376900</td>\n",
       "      <td>256.501500</td>\n",
       "      <td>2709.345000</td>\n",
       "      <td>99.994000</td>\n",
       "      <td>266.435000</td>\n",
       "    </tr>\n",
       "    <tr>\n",
       "      <th>75%</th>\n",
       "      <td>102.46250</td>\n",
       "      <td>101.582000</td>\n",
       "      <td>1.993000</td>\n",
       "      <td>1.948000</td>\n",
       "      <td>88.326900</td>\n",
       "      <td>680.500250</td>\n",
       "      <td>50499.900000</td>\n",
       "      <td>100.623000</td>\n",
       "      <td>505.530000</td>\n",
       "    </tr>\n",
       "    <tr>\n",
       "      <th>max</th>\n",
       "      <td>136.60000</td>\n",
       "      <td>103.380000</td>\n",
       "      <td>5.989000</td>\n",
       "      <td>3.382000</td>\n",
       "      <td>169.672000</td>\n",
       "      <td>1665.990000</td>\n",
       "      <td>50499.900000</td>\n",
       "      <td>102.902000</td>\n",
       "      <td>4978.160000</td>\n",
       "    </tr>\n",
       "  </tbody>\n",
       "</table>\n",
       "</div>"
      ],
      "text/plain": [
       "             DEPT         CALI         DFAR        DNEAR         GAMN  \\\n",
       "count  2732.00000  2732.000000  2701.000000  2701.000000  2691.000000   \n",
       "mean     68.32500    97.432002     1.767922     1.729209  -102.330033   \n",
       "std      39.44024    13.939547     0.480333     0.372412   630.106420   \n",
       "min       0.05000   -56.275000     0.725000     0.657001 -2324.280000   \n",
       "25%      34.18750   101.077500     1.526000     1.535000    55.783000   \n",
       "50%      68.32500   101.426000     1.758000     1.785000    74.376900   \n",
       "75%     102.46250   101.582000     1.993000     1.948000    88.326900   \n",
       "max     136.60000   103.380000     5.989000     3.382000   169.672000   \n",
       "\n",
       "              NEUT            PR           SP         COND  \n",
       "count  2492.000000   2692.000000  2692.000000  2697.000000  \n",
       "mean    441.600013  17940.522307    90.393464   478.670791  \n",
       "std     370.138208  22089.297212    26.725547   753.869866  \n",
       "min      81.001800    115.508000    -3.049000  -116.998000  \n",
       "25%     158.002000   2652.470000    93.495500   200.981000  \n",
       "50%     256.501500   2709.345000    99.994000   266.435000  \n",
       "75%     680.500250  50499.900000   100.623000   505.530000  \n",
       "max    1665.990000  50499.900000   102.902000  4978.160000  "
      ]
     },
     "execution_count": 4,
     "metadata": {},
     "output_type": "execute_result"
    }
   ],
   "source": [
    "l.df.describe()"
   ]
  },
  {
   "cell_type": "code",
   "execution_count": 5,
   "metadata": {
    "collapsed": false
   },
   "outputs": [
    {
     "data": {
      "text/plain": [
       "<matplotlib.axes.AxesSubplot at 0x7f412e5cadd0>"
      ]
     },
     "execution_count": 5,
     "metadata": {},
     "output_type": "execute_result"
    },
    {
     "data": {
      "image/png": "[encoded data removed]",
      "text/plain": [
       "<matplotlib.figure.Figure at 0x7f412e5dead0>"
      ]
     },
     "metadata": {},
     "output_type": "display_data"
    }
   ],
   "source": [
    "l.df.plot()"
   ]
  },
  {
   "cell_type": "code",
   "execution_count": 6,
   "metadata": {
    "collapsed": false
   },
   "outputs": [
    {
     "data": {
      "text/plain": [
       "0.05          NaN\n",
       "0.10     -2324.28\n",
       "0.15     -2324.28\n",
       "0.20     -2324.28\n",
       "0.25     -2324.28\n",
       "0.30     -2324.28\n",
       "0.35     -2324.28\n",
       "0.40     -2324.28\n",
       "0.45     -2324.28\n",
       "0.50     -2324.28\n",
       "0.55     -2324.28\n",
       "0.60     -2324.28\n",
       "0.65     -2324.28\n",
       "0.70     -2324.28\n",
       "0.75     -2324.28\n",
       "0.80     -2324.28\n",
       "0.85     -2324.28\n",
       "0.90     -2324.28\n",
       "0.95     -2324.28\n",
       "1.00     -2324.28\n",
       "1.05     -2324.28\n",
       "1.10     -2324.28\n",
       "1.15     -2324.28\n",
       "1.20     -2324.28\n",
       "1.25     -2324.28\n",
       "1.30     -2324.28\n",
       "1.35     -2324.28\n",
       "1.40     -2324.28\n",
       "1.45     -2324.28\n",
       "1.50     -2324.28\n",
       "           ...   \n",
       "135.15        NaN\n",
       "135.20        NaN\n",
       "135.25        NaN\n",
       "135.30        NaN\n",
       "135.35        NaN\n",
       "135.40        NaN\n",
       "135.45        NaN\n",
       "135.50        NaN\n",
       "135.55        NaN\n",
       "135.60        NaN\n",
       "135.65        NaN\n",
       "135.70        NaN\n",
       "135.75        NaN\n",
       "135.80        NaN\n",
       "135.85        NaN\n",
       "135.90        NaN\n",
       "135.95        NaN\n",
       "136.00        NaN\n",
       "136.05        NaN\n",
       "136.10        NaN\n",
       "136.15        NaN\n",
       "136.20        NaN\n",
       "136.25        NaN\n",
       "136.30        NaN\n",
       "136.35        NaN\n",
       "136.40        NaN\n",
       "136.45        NaN\n",
       "136.50        NaN\n",
       "136.55        NaN\n",
       "136.60        NaN\n",
       "Name: GAMN, dtype: float64"
      ]
     },
     "execution_count": 6,
     "metadata": {},
     "output_type": "execute_result"
    }
   ],
   "source": [
    "l.df.GAMN"
   ]
  },
  {
   "cell_type": "code",
   "execution_count": 7,
   "metadata": {
    "collapsed": false
   },
   "outputs": [
    {
     "data": {
      "text/plain": [
       "count    2691.000000\n",
       "mean     -102.330033\n",
       "std       630.106420\n",
       "min     -2324.280000\n",
       "25%        55.783000\n",
       "50%        74.376900\n",
       "75%        88.326900\n",
       "max       169.672000\n",
       "Name: GAMN, dtype: float64"
      ]
     },
     "execution_count": 7,
     "metadata": {},
     "output_type": "execute_result"
    }
   ],
   "source": [
    "l.df.GAMN.describe()"
   ]
  },
  {
   "cell_type": "code",
   "execution_count": 8,
   "metadata": {
    "collapsed": false
   },
   "outputs": [],
   "source": [
    "l.df.GAMN = l.df.GAMN.replace(-2324.28, numpy.nan)"
   ]
  },
  {
   "cell_type": "code",
   "execution_count": 9,
   "metadata": {
    "collapsed": false
   },
   "outputs": [
    {
     "data": {
      "text/plain": [
       "(0, 150)"
      ]
     },
     "execution_count": 9,
     "metadata": {},
     "output_type": "execute_result"
    },
    {
     "data": {
      "image/png": "[encoded data removed]",
      "text/plain": [
       "<matplotlib.figure.Figure at 0x7f410c9aa890>"
      ]
     },
     "metadata": {},
     "output_type": "display_data"
    }
   ],
   "source": [
    "# plt.plot(l.df.GAMN, color=\"k\")\n",
    "plt.plot(l.index, l[\"GAMN\"], alpha=0.2)\n",
    "plt.ylim(0, 150)"
   ]
  },
  {
   "cell_type": "code",
   "execution_count": 10,
   "metadata": {
    "collapsed": false,
    "scrolled": true
   },
   "outputs": [
    {
     "name": "stdout",
     "output_type": "stream",
     "text": [
      "0.05          NaN\n",
      "0.10          NaN\n",
      "0.15          NaN\n",
      "0.20          NaN\n",
      "0.25          NaN\n",
      "0.30          NaN\n",
      "0.35          NaN\n",
      "0.40          NaN\n",
      "0.45          NaN\n",
      "0.50          NaN\n",
      "0.55          NaN\n",
      "0.60          NaN\n",
      "0.65          NaN\n",
      "0.70          NaN\n",
      "0.75          NaN\n",
      "0.80          NaN\n",
      "0.85          NaN\n",
      "0.90          NaN\n",
      "0.95          NaN\n",
      "1.00          NaN\n",
      "1.05          NaN\n",
      "1.10          NaN\n",
      "1.15          NaN\n",
      "1.20          NaN\n",
      "1.25          NaN\n",
      "1.30          NaN\n",
      "1.35          NaN\n",
      "1.40          NaN\n",
      "1.45          NaN\n",
      "1.50          NaN\n",
      "           ...   \n",
      "18.55    104.5910\n",
      "18.60    106.9180\n",
      "18.65    116.2140\n",
      "18.70     95.3008\n",
      "18.75     97.6207\n",
      "18.80     74.3798\n",
      "18.85    123.1790\n",
      "18.90    139.4560\n",
      "18.95     92.9826\n",
      "19.00    146.4230\n",
      "19.05     88.3274\n",
      "19.10    102.2660\n",
      "19.15     92.9731\n",
      "19.20    132.4760\n",
      "19.25    120.8660\n",
      "19.30    123.1880\n",
      "19.35    139.4550\n",
      "19.40    151.0790\n",
      "19.45    109.2520\n",
      "19.50    113.8900\n",
      "19.55    151.0770\n",
      "19.60    109.2500\n",
      "19.65     92.9739\n",
      "19.70    125.5050\n",
      "19.75    118.5400\n",
      "19.80     95.2978\n",
      "19.85     76.7056\n",
      "19.90     85.9979\n",
      "19.95    111.5600\n",
      "20.00    106.9190\n",
      "Name: GAMN, dtype: float64\n",
      "[       nan -2324.28   -2324.28   -2324.28   -2324.28   -2324.28   -2324.28\n",
      " -2324.28   -2324.28   -2324.28   -2324.28   -2324.28   -2324.28   -2324.28\n",
      " -2324.28   -2324.28   -2324.28   -2324.28   -2324.28   -2324.28   -2324.28\n",
      " -2324.28   -2324.28   -2324.28   -2324.28   -2324.28   -2324.28   -2324.28\n",
      " -2324.28   -2324.28   -2324.28   -2324.28   -2324.28   -2324.28   -2324.28\n",
      " -2324.28   -2324.28   -2324.28   -2324.28   -2324.28   -2324.28   -2324.28\n",
      " -2324.28   -2324.28   -2324.28   -2324.28   -2324.28   -2324.28   -2324.28\n",
      " -2324.28   -2324.28   -2324.28   -2324.28   -2324.28   -2324.28   -2324.28\n",
      " -2324.28   -2324.28   -2324.28   -2324.28   -2324.28   -2324.28   -2324.28\n",
      " -2324.28   -2324.28   -2324.28   -2324.28   -2324.28   -2324.28   -2324.28\n",
      " -2324.28   -2324.28   -2324.28   -2324.28   -2324.28   -2324.28   -2324.28\n",
      " -2324.28   -2324.28   -2324.28   -2324.28   -2324.28   -2324.28   -2324.28\n",
      " -2324.28   -2324.28   -2324.28   -2324.28   -2324.28   -2324.28   -2324.28\n",
      " -2324.28   -2324.28   -2324.28   -2324.28   -2324.28   -2324.28   -2324.28\n",
      " -2324.28   -2324.28   -2324.28   -2324.28   -2324.28   -2324.28   -2324.28\n",
      " -2324.28   -2324.28   -2324.28   -2324.28   -2324.28   -2324.28   -2324.28\n",
      " -2324.28   -2324.28   -2324.28   -2324.28   -2324.28   -2324.28   -2324.28\n",
      " -2324.28   -2324.28   -2324.28   -2324.28   -2324.28   -2324.28   -2324.28\n",
      " -2324.28   -2324.28   -2324.28   -2324.28   -2324.28   -2324.28   -2324.28\n",
      " -2324.28   -2324.28   -2324.28   -2324.28   -2324.28   -2324.28   -2324.28\n",
      " -2324.28   -2324.28   -2324.28   -2324.28   -2324.28   -2324.28   -2324.28\n",
      " -2324.28   -2324.28   -2324.28   -2324.28   -2324.28   -2324.28   -2324.28\n",
      " -2324.28   -2324.28   -2324.28   -2324.28   -2324.28   -2324.28   -2324.28\n",
      " -2324.28   -2324.28   -2324.28   -2324.28      76.4729    39.5236\n",
      "    58.1049    44.1644    41.8374    74.3749    34.8756    51.1331\n",
      "    51.1355    53.4586    53.459     83.6613    41.8418    79.0167\n",
      "    72.0541]\n",
      "0.05\n"
     ]
    }
   ],
   "source": [
    "print l.df.GAMN.loc[:20]\n",
    "print l[\"GAMN\"][:9*20]\n",
    "print l.well[\"STEP\"].value"
   ]
  },
  {
   "cell_type": "code",
   "execution_count": 11,
   "metadata": {
    "collapsed": false
   },
   "outputs": [
    {
     "name": "stdout",
     "output_type": "stream",
     "text": [
      "180.0\n",
      "[ 72.0541  69.7292  83.6657]\n",
      "69.7292\n"
     ]
    }
   ],
   "source": [
    "metres = 9.05\n",
    "spacing = l.well[\"STEP\"].value\n",
    "calc_i = (metres / spacing) - (l.well[\"STRT\"].value / spacing)\n",
    "print calc_i\n",
    "print l[\"GAMN\"][calc_i -1:calc_i+2]\n",
    "print l.df.GAMN[metres]"
   ]
  },
  {
   "cell_type": "code",
   "execution_count": 12,
   "metadata": {
    "collapsed": false
   },
   "outputs": [
    {
     "data": {
      "text/plain": [
       "<matplotlib.axes.AxesSubplot at 0x7f410c95bf90>"
      ]
     },
     "execution_count": 12,
     "metadata": {},
     "output_type": "execute_result"
    },
    {
     "data": {
      "image/png": "[encoded data removed]",
      "text/plain": [
       "<matplotlib.figure.Figure at 0x7f410c9a7e10>"
      ]
     },
     "metadata": {},
     "output_type": "display_data"
    }
   ],
   "source": [
    "l.df.GAMN[80:100].plot()"
   ]
  },
  {
   "cell_type": "code",
   "execution_count": null,
   "metadata": {
    "collapsed": true
   },
   "outputs": [],
   "source": []
  },
  {
   "cell_type": "code",
   "execution_count": 13,
   "metadata": {
    "collapsed": false
   },
   "outputs": [
    {
     "name": "stderr",
     "output_type": "stream",
     "text": [
      "DEBUG:lasio.las:LAS content is type <type 'str'>\n",
      "INFO:lasio.las:LAS file shape = (2732, 9)\n",
      "DEBUG:lasio.las:checking for nulls (NULL = -99999)\n",
      "WARNING:lasio.las:pandas is not installed or use_pandas was set to False\n"
     ]
    },
    {
     "name": "stdout",
     "output_type": "stream",
     "text": [
      "None\n",
      "Still running YES\n"
     ]
    }
   ],
   "source": [
    "l = read(\"/home/kent/code/lasio/tests/examples/6038187_v1.2.las\", use_pandas=False)\n",
    "print l.df\n",
    "print \"Still running YES\""
   ]
  },
  {
   "cell_type": "code",
   "execution_count": null,
   "metadata": {
    "collapsed": true
   },
   "outputs": [],
   "source": []
  }
 ],
 "metadata": {
  "kernelspec": {
   "display_name": "Python 2",
   "language": "python",
   "name": "python2"
  },
  "language_info": {
   "codemirror_mode": {
    "name": "ipython",
    "version": 2
   },
   "file_extension": ".py",
   "mimetype": "text/x-python",
   "name": "python",
   "nbconvert_exporter": "python",
   "pygments_lexer": "ipython2",
   "version": "2.7.6"
  }
 },
 "nbformat": 4,
 "nbformat_minor": 0
}
