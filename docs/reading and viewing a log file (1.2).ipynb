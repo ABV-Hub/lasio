{
 "metadata": {
  "name": ""
 },
 "nbformat": 3,
 "nbformat_minor": 0,
 "worksheets": [
  {
   "cells": [
    {
     "cell_type": "heading",
     "level": 1,
     "metadata": {},
     "source": [
      "reading and viewing a log file (1.2)"
     ]
    },
    {
     "cell_type": "code",
     "collapsed": false,
     "input": [
      "import las_reader"
     ],
     "language": "python",
     "metadata": {},
     "outputs": [],
     "prompt_number": 2
    },
    {
     "cell_type": "markdown",
     "metadata": {},
     "source": [
      "Read in an example LAS 1.2 file:"
     ]
    },
    {
     "cell_type": "code",
     "collapsed": false,
     "input": [
      "log = las_reader.read('https://raw.github.com/kinverarity1/las-reader/master/standards/examples/1.2/sample_curve_api.las')\n",
      "print type(log)"
     ],
     "language": "python",
     "metadata": {},
     "outputs": [
      {
       "output_type": "stream",
       "stream": "stdout",
       "text": [
        "<class 'las_reader.LASFile'>\n"
       ]
      }
     ],
     "prompt_number": 3
    },
    {
     "cell_type": "markdown",
     "metadata": {},
     "source": [
      "The LASFile object has some provenance information depending on what was read. You can pass the read() function a filename, URL, file-like object, or string."
     ]
    },
    {
     "cell_type": "code",
     "collapsed": false,
     "input": [
      "pprint(log.provenance)"
     ],
     "language": "python",
     "metadata": {},
     "outputs": [
      {
       "output_type": "stream",
       "stream": "stdout",
       "text": [
        "{'url': 'https://raw.github.com/kinverarity1/las-reader/master/standards/examples/1.2/sample_curve_api.las', 'path': None, 'time_opened': datetime.datetime(2013, 12, 25, 13, 22, 35, 89000), 'name': 'sample_curve_api.las'}\n"
       ]
      }
     ],
     "prompt_number": 7
    },
    {
     "cell_type": "markdown",
     "metadata": {},
     "source": [
      "The version and well sections are present as dictionaries:"
     ]
    },
    {
     "cell_type": "code",
     "collapsed": false,
     "input": [
      "print log.version"
     ],
     "language": "python",
     "metadata": {},
     "outputs": [
      {
       "metadata": {},
       "output_type": "pyout",
       "prompt_number": 5,
       "text": [
        "{'DLM': ' ', 'VERS': 1.2, 'WRAP': False}"
       ]
      }
     ],
     "prompt_number": 5
    },
    {
     "cell_type": "code",
     "collapsed": false,
     "input": [
      "print log.well"
     ],
     "language": "python",
     "metadata": {},
     "outputs": [
      {
       "metadata": {},
       "output_type": "pyout",
       "prompt_number": 6,
       "text": [
        "{'COMP': 'ANY OIL COMPANY LTD.',\n",
        " 'CTRY': None,\n",
        " 'DATE': '25-DEC-1988',\n",
        " 'FLD': 'EDAM',\n",
        " 'LOC': 'A9-16-49-20W3M',\n",
        " 'NULL': -999.25,\n",
        " 'PROV': 'SASKATCHEWAN',\n",
        " 'SRVC': 'ANY LOGGING COMPANY LTD.',\n",
        " 'STEP': -0.125,\n",
        " 'STEP.UNIT': 'M',\n",
        " 'STOP': 1660.0,\n",
        " 'STOP.UNIT': 'M',\n",
        " 'STRT': 1670.0,\n",
        " 'STRT.UNIT': 'M',\n",
        " 'UWI': '100091604920W300',\n",
        " 'WELL': 'ANY ET AL OIL WELL #12'}"
       ]
      }
     ],
     "prompt_number": 6
    },
    {
     "cell_type": "code",
     "collapsed": false,
     "input": [],
     "language": "python",
     "metadata": {},
     "outputs": [],
     "prompt_number": 6
    },
    {
     "cell_type": "code",
     "collapsed": false,
     "input": [],
     "language": "python",
     "metadata": {},
     "outputs": []
    }
   ],
   "metadata": {}
  }
 ]
}