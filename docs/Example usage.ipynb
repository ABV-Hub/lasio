{
 "metadata": {
  "name": "",
  "signature": "sha256:cca0055ed7009d41c98ee3b30d0b454e39f4344a784bbfe66c16dc818a85975d"
 },
 "nbformat": 3,
 "nbformat_minor": 0,
 "worksheets": [
  {
   "cells": [
    {
     "cell_type": "heading",
     "level": 1,
     "metadata": {},
     "source": [
      "LAS Reader"
     ]
    },
    {
     "cell_type": "markdown",
     "metadata": {},
     "source": [
      "``las_reader`` is a Python package to read in Log ASCII Standard (LAS) files, used in geophysical logging. \n",
      "The file format is specified by the Canadian Well Logging Society. The package only works for versions 1.2 and 2.0 so far."
     ]
    },
    {
     "cell_type": "heading",
     "level": 2,
     "metadata": {},
     "source": [
      "Reading in data"
     ]
    },
    {
     "cell_type": "markdown",
     "metadata": {},
     "source": [
      "The ``las_reader.read()`` function accepts a filename, file-like object, or URL as an argument and returns a ``Las`` object:"
     ]
    },
    {
     "cell_type": "code",
     "collapsed": false,
     "input": [
      "import las_reader\n",
      "l = las_reader.read('https://raw.githubusercontent.com/kinverarity1/las-reader'\n",
      "                    '/master/standards/examples/1.2/sample_curve_api.las')\n",
      "type(l)"
     ],
     "language": "python",
     "metadata": {},
     "outputs": [
      {
       "metadata": {},
       "output_type": "pyout",
       "prompt_number": 1,
       "text": [
        "las_reader.las.Las"
       ]
      }
     ],
     "prompt_number": 1
    },
    {
     "cell_type": "heading",
     "level": 2,
     "metadata": {},
     "source": [
      "Curve data"
     ]
    },
    {
     "cell_type": "markdown",
     "metadata": {},
     "source": [
      "Curves are available as ``numpy.ndarray`` objects as items in the ``Las`` object itself:"
     ]
    },
    {
     "cell_type": "code",
     "collapsed": false,
     "input": [
      "l.keys()"
     ],
     "language": "python",
     "metadata": {},
     "outputs": [
      {
       "metadata": {},
       "output_type": "pyout",
       "prompt_number": 2,
       "text": [
        "['DEPTH', 'RHOB', 'NPHI', 'MSFL', 'SFLA', 'ILM', 'ILD', 'SP']"
       ]
      }
     ],
     "prompt_number": 2
    },
    {
     "cell_type": "code",
     "collapsed": false,
     "input": [
      "l['RHOB']"
     ],
     "language": "python",
     "metadata": {},
     "outputs": [
      {
       "metadata": {},
       "output_type": "pyout",
       "prompt_number": 3,
       "text": [
        "array([    nan,  123.45,  123.45])"
       ]
      }
     ],
     "prompt_number": 3
    },
    {
     "cell_type": "markdown",
     "metadata": {},
     "source": [
      "You can also access curves by their index:"
     ]
    },
    {
     "cell_type": "code",
     "collapsed": false,
     "input": [
      "print id(l['NPHI'])\n",
      "print id(l[3])"
     ],
     "language": "python",
     "metadata": {},
     "outputs": [
      {
       "output_type": "stream",
       "stream": "stdout",
       "text": [
        "48203616\n",
        "48203664\n"
       ]
      }
     ],
     "prompt_number": 4
    },
    {
     "cell_type": "code",
     "collapsed": false,
     "input": [
      "print id(l['ILM'])\n",
      "print id(l[-2])"
     ],
     "language": "python",
     "metadata": {},
     "outputs": [
      {
       "output_type": "stream",
       "stream": "stdout",
       "text": [
        "48203760\n",
        "48203808\n"
       ]
      }
     ],
     "prompt_number": 5
    },
    {
     "cell_type": "markdown",
     "metadata": {},
     "source": [
      "All the curves are stored as a two-dimensional ``ndarray`` under the ``data`` attribute:"
     ]
    },
    {
     "cell_type": "code",
     "collapsed": false,
     "input": [
      "l.data.shape"
     ],
     "language": "python",
     "metadata": {},
     "outputs": [
      {
       "metadata": {},
       "output_type": "pyout",
       "prompt_number": 6,
       "text": [
        "(3, 8)"
       ]
      }
     ],
     "prompt_number": 6
    },
    {
     "cell_type": "heading",
     "level": 2,
     "metadata": {},
     "source": [
      "Header information"
     ]
    },
    {
     "cell_type": "markdown",
     "metadata": {},
     "source": [
      "Metadata from the LAS file's header is stored in an ``OrderedDictionary`` attribute, one for each section (``version``, ``well``, ``curves``, and ``params``). ``OrderedDictionary`` objects are just what they sound like: very similar to a normal Python dictionary.\n",
      "\n",
      "Each entry in the header sections is a kind of custom Python object which depends on the section of the LAS header in which it occurs: either a ``Metadata``, ``Curve``, or ``Parameter``. All these are very similar though; they inherited from the ``las_reader.recordtype`` class, which is a *mutable named tuple*. It sounds way more complex than it is:"
     ]
    },
    {
     "cell_type": "code",
     "collapsed": false,
     "input": [
      "m = las_reader.las.Metadata(unit='m/sec', value=3 * 10 ** 5, descr='The speed of light')\n",
      "m.value = 3 * 10 ** 8\n",
      "m.unit = 'm/s'\n",
      "print m"
     ],
     "language": "python",
     "metadata": {},
     "outputs": [
      {
       "output_type": "stream",
       "stream": "stdout",
       "text": [
        "Metadata(unit='m/s', value=300000000, descr='The speed of light')\n"
       ]
      }
     ],
     "prompt_number": 19
    },
    {
     "cell_type": "markdown",
     "metadata": {},
     "source": [
      "In order from top to bottom as they usually are in LAS files, the section attributes are:"
     ]
    },
    {
     "cell_type": "code",
     "collapsed": false,
     "input": [
      "l.version"
     ],
     "language": "python",
     "metadata": {},
     "outputs": [
      {
       "metadata": {},
       "output_type": "pyout",
       "prompt_number": 7,
       "text": [
        "{'VERS': Metadata(unit=None, value=1.2, descr='CWLS LOG ASCII STANDARD -VERSION 1.2'),\n",
        " 'WRAP': Metadata(unit=None, value='NO', descr='ONE LINE PER DEPTH STEP')}"
       ]
      }
     ],
     "prompt_number": 7
    },
    {
     "cell_type": "code",
     "collapsed": false,
     "input": [
      "l.version['VERS'].value"
     ],
     "language": "python",
     "metadata": {},
     "outputs": [
      {
       "metadata": {},
       "output_type": "pyout",
       "prompt_number": 8,
       "text": [
        "1.2"
       ]
      }
     ],
     "prompt_number": 8
    },
    {
     "cell_type": "code",
     "collapsed": false,
     "input": [
      "l.well"
     ],
     "language": "python",
     "metadata": {},
     "outputs": [
      {
       "metadata": {},
       "output_type": "pyout",
       "prompt_number": 9,
       "text": [
        "{'STRT': Metadata(unit='M', value=1670.0, descr=''),\n",
        " 'STOP': Metadata(unit='M', value=1660.0, descr=''),\n",
        " 'STEP': Metadata(unit='M', value=-0.125, descr=''),\n",
        " 'NULL': Metadata(unit=None, value=-999.25, descr=''),\n",
        " 'COMP': Metadata(unit=None, value='ANY OIL COMPANY LTD.', descr='COMPANY'),\n",
        " 'WELL': Metadata(unit=None, value='ANY ET AL OIL WELL #12', descr='WELL'),\n",
        " 'FLD': Metadata(unit=None, value='EDAM', descr='FIELD'),\n",
        " 'LOC': Metadata(unit=None, value='A9-16-49-20W3M', descr='LOCATION'),\n",
        " 'PROV': Metadata(unit=None, value='SASKATCHEWAN', descr='PROVINCE'),\n",
        " 'SRVC': Metadata(unit=None, value='ANY LOGGING COMPANY LTD.', descr='SERVICE COMPANY'),\n",
        " 'DATE': Metadata(unit=None, value='25-DEC-1988', descr='LOG DATE'),\n",
        " 'UWI': Metadata(unit=None, value='100091604920W300', descr='UNIQUE WELL ID')}"
       ]
      }
     ],
     "prompt_number": 9
    },
    {
     "cell_type": "markdown",
     "metadata": {},
     "source": [
      "A simpler way of viewing this is to use the special ``_d`` attribute of each section's dictionary, but note that any changes to this dictionary do not have any effect:"
     ]
    },
    {
     "cell_type": "code",
     "collapsed": false,
     "input": [
      "l.well._d"
     ],
     "language": "python",
     "metadata": {},
     "outputs": [
      {
       "metadata": {},
       "output_type": "pyout",
       "prompt_number": 11,
       "text": [
        "{'COMP': 'ANY OIL COMPANY LTD.',\n",
        " 'DATE': '25-DEC-1988',\n",
        " 'FLD': 'EDAM',\n",
        " 'LOC': 'A9-16-49-20W3M',\n",
        " 'NULL': -999.25,\n",
        " 'PROV': 'SASKATCHEWAN',\n",
        " 'SRVC': 'ANY LOGGING COMPANY LTD.',\n",
        " 'STEP': -0.125,\n",
        " 'STOP': 1660.0,\n",
        " 'STRT': 1670.0,\n",
        " 'UWI': '100091604920W300',\n",
        " 'WELL': 'ANY ET AL OIL WELL #12'}"
       ]
      }
     ],
     "prompt_number": 11
    },
    {
     "cell_type": "code",
     "collapsed": false,
     "input": [
      "l.well._d['SRVC'] = 'My logging company.'\n",
      "l.well._d"
     ],
     "language": "python",
     "metadata": {},
     "outputs": [
      {
       "metadata": {},
       "output_type": "pyout",
       "prompt_number": 13,
       "text": [
        "{'COMP': 'ANY OIL COMPANY LTD.',\n",
        " 'DATE': '25-DEC-1988',\n",
        " 'FLD': 'EDAM',\n",
        " 'LOC': 'A9-16-49-20W3M',\n",
        " 'NULL': -999.25,\n",
        " 'PROV': 'SASKATCHEWAN',\n",
        " 'SRVC': 'ANY LOGGING COMPANY LTD.',\n",
        " 'STEP': -0.125,\n",
        " 'STOP': 1660.0,\n",
        " 'STRT': 1670.0,\n",
        " 'UWI': '100091604920W300',\n",
        " 'WELL': 'ANY ET AL OIL WELL #12'}"
       ]
      }
     ],
     "prompt_number": 13
    },
    {
     "cell_type": "markdown",
     "metadata": {},
     "source": [
      "Instead you have to edit the ``Metadata`` object explicitly (for now):"
     ]
    },
    {
     "cell_type": "code",
     "collapsed": false,
     "input": [
      "l.well['SRVC'].value = 'My logging company (2nd try)'\n",
      "l.well._d"
     ],
     "language": "python",
     "metadata": {},
     "outputs": [
      {
       "metadata": {},
       "output_type": "pyout",
       "prompt_number": 14,
       "text": [
        "{'COMP': 'ANY OIL COMPANY LTD.',\n",
        " 'DATE': '25-DEC-1988',\n",
        " 'FLD': 'EDAM',\n",
        " 'LOC': 'A9-16-49-20W3M',\n",
        " 'NULL': -999.25,\n",
        " 'PROV': 'SASKATCHEWAN',\n",
        " 'SRVC': 'My logging company (2nd try)',\n",
        " 'STEP': -0.125,\n",
        " 'STOP': 1660.0,\n",
        " 'STRT': 1670.0,\n",
        " 'UWI': '100091604920W300',\n",
        " 'WELL': 'ANY ET AL OIL WELL #12'}"
       ]
      }
     ],
     "prompt_number": 14
    },
    {
     "cell_type": "markdown",
     "metadata": {},
     "source": [
      "Success! The other sections have slightly different classes for records:"
     ]
    },
    {
     "cell_type": "code",
     "collapsed": false,
     "input": [
      "l.curves"
     ],
     "language": "python",
     "metadata": {},
     "outputs": [
      {
       "metadata": {},
       "output_type": "pyout",
       "prompt_number": 11,
       "text": [
        "{'DEPTH': Curve(unit='M', API_code='', descr='1       DEPTH'),\n",
        " 'RHOB': Curve(unit='K/M3', API_code='7 350 02 00', descr='2       BULK DENSITY'),\n",
        " 'NPHI': Curve(unit='VOL/VOL', API_code='7 890 00 00', descr='3       NEUTRON POROSITY - SANDSTONE'),\n",
        " 'MSFL': Curve(unit='OHMM', API_code='7 220 01 00', descr='4       Rxo RESISTIVITY'),\n",
        " 'SFLA': Curve(unit='OHMM', API_code='7 222 01 00', descr='5       SHALLOW RESISTIVITY'),\n",
        " 'ILM': Curve(unit='OHMM', API_code='7 120 44 00', descr='6       MEDIUM RESISTIVITY'),\n",
        " 'ILD': Curve(unit='OHMM', API_code='7 120 46 00', descr='7       DEEP RESISTIVITY'),\n",
        " 'SP': Curve(unit='MV', API_code='7 010 01 00', descr='8       SPONTANEOUS POTENTIAL')}"
       ]
      }
     ],
     "prompt_number": 11
    },
    {
     "cell_type": "code",
     "collapsed": false,
     "input": [
      "l.curves._d"
     ],
     "language": "python",
     "metadata": {},
     "outputs": [
      {
       "metadata": {},
       "output_type": "pyout",
       "prompt_number": 12,
       "text": [
        "{'DEPTH': '1       DEPTH',\n",
        " 'ILD': '7       DEEP RESISTIVITY',\n",
        " 'ILM': '6       MEDIUM RESISTIVITY',\n",
        " 'MSFL': '4       Rxo RESISTIVITY',\n",
        " 'NPHI': '3       NEUTRON POROSITY - SANDSTONE',\n",
        " 'RHOB': '2       BULK DENSITY',\n",
        " 'SFLA': '5       SHALLOW RESISTIVITY',\n",
        " 'SP': '8       SPONTANEOUS POTENTIAL'}"
       ]
      }
     ],
     "prompt_number": 12
    },
    {
     "cell_type": "code",
     "collapsed": false,
     "input": [
      "l.params"
     ],
     "language": "python",
     "metadata": {},
     "outputs": [
      {
       "metadata": {},
       "output_type": "pyout",
       "prompt_number": 13,
       "text": [
        "{'BHT': Parameter(unit='DEGC', value=35.5, descr='BOTTOM HOLE TEMPERATURE'),\n",
        " 'BS': Parameter(unit='MM', value=200.0, descr='BIT SIZE'),\n",
        " 'FD': Parameter(unit='K/M3', value=1000.0, descr='FLUID DENSITY'),\n",
        " 'MATR': Parameter(unit=None, value=0.0, descr='NEUTRON MATRIX(0=LIME,1=SAND,2=DOLO)'),\n",
        " 'MDEN': Parameter(unit=None, value=2710.0, descr='LOGGING MATRIX DENSITY'),\n",
        " 'RMF': Parameter(unit='OHMM', value=0.216, descr='MUD FILTRATE RESISTIVITY'),\n",
        " 'DFD': Parameter(unit='K/M3', value=1525.0, descr='DRILL FLUID DENSITY')}"
       ]
      }
     ],
     "prompt_number": 13
    },
    {
     "cell_type": "markdown",
     "metadata": {},
     "source": [
      "For convenience there's a special attribute which is an ordinary dictionary that brings together all the metadata in the file. Again, changes to this dictionary have no effect."
     ]
    },
    {
     "cell_type": "code",
     "collapsed": false,
     "input": [
      "l.metadata"
     ],
     "language": "python",
     "metadata": {},
     "outputs": [
      {
       "metadata": {},
       "output_type": "pyout",
       "prompt_number": 14,
       "text": [
        "{'BHT': 35.5,\n",
        " 'BS': 200.0,\n",
        " 'COMP': 'ANY OIL COMPANY LTD.',\n",
        " 'DATE': '25-DEC-1988',\n",
        " 'DFD': 1525.0,\n",
        " 'FD': 1000.0,\n",
        " 'FLD': 'EDAM',\n",
        " 'LOC': 'A9-16-49-20W3M',\n",
        " 'MATR': 0.0,\n",
        " 'MDEN': 2710.0,\n",
        " 'NULL': -999.25,\n",
        " 'PROV': 'SASKATCHEWAN',\n",
        " 'RMF': 0.216,\n",
        " 'SRVC': 'ANY LOGGING COMPANY LTD.',\n",
        " 'STEP': -0.125,\n",
        " 'STOP': 1660.0,\n",
        " 'STRT': 1670.0,\n",
        " 'UWI': '100091604920W300',\n",
        " 'VERS': 1.2,\n",
        " 'WELL': 'ANY ET AL OIL WELL #12',\n",
        " 'WRAP': 'NO'}"
       ]
      }
     ],
     "prompt_number": 14
    },
    {
     "cell_type": "markdown",
     "metadata": {},
     "source": [
      "As per the standard, the ~Other section is free text. I know many companies put LAS-formatted metadata in here; I'll figure out a way to incorporate this soon:"
     ]
    },
    {
     "cell_type": "code",
     "collapsed": false,
     "input": [
      "print l.other"
     ],
     "language": "python",
     "metadata": {},
     "outputs": [
      {
       "output_type": "stream",
       "stream": "stdout",
       "text": [
        "Note: The logging tools became stuck at 625 meters causing the data\n",
        "between 625 meters and 615 meters to be invalid.\n"
       ]
      }
     ],
     "prompt_number": 15
    },
    {
     "cell_type": "markdown",
     "metadata": {},
     "source": [
      "Finally there is some useful information in the ``provenance`` attribute that depends on how you opened the file in the first place:"
     ]
    },
    {
     "cell_type": "code",
     "collapsed": false,
     "input": [
      "l.provenance"
     ],
     "language": "python",
     "metadata": {},
     "outputs": [
      {
       "metadata": {},
       "output_type": "pyout",
       "prompt_number": 16,
       "text": [
        "{'name': 'sample_curve_api.las',\n",
        " 'path': None,\n",
        " 'time_opened': datetime.datetime(2014, 4, 6, 12, 48, 18, 913000),\n",
        " 'url': 'https://raw.githubusercontent.com/kinverarity1/las-reader/master/standards/examples/1.2/sample_curve_api.las'}"
       ]
      }
     ],
     "prompt_number": 16
    },
    {
     "cell_type": "code",
     "collapsed": false,
     "input": [],
     "language": "python",
     "metadata": {},
     "outputs": [],
     "prompt_number": 16
    }
   ],
   "metadata": {}
  }
 ]
}