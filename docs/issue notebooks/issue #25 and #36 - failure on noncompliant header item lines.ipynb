{
 "metadata": {
  "name": "",
  "signature": "sha256:0d6843d331f29c4bc460d0888ab2a16d77e18570df41dac911894bd4e1374a7a"
 },
 "nbformat": 3,
 "nbformat_minor": 0,
 "worksheets": [
  {
   "cells": [
    {
     "cell_type": "code",
     "collapsed": false,
     "input": [
      "import las_reader\n",
      "l = las_reader.read(r\"D:\\study\\2015\\las_kgs_test\\2006_2011\\1043994644.las\")"
     ],
     "language": "python",
     "metadata": {},
     "outputs": [
      {
       "ename": "LASHeaderError",
       "evalue": "Failed in ~C section on line:\n.RILD.Ohm-m                   : DIL Deep ResistivityAttributeError: 'NoneType' object has no attribute 'groupdict'",
       "output_type": "pyerr",
       "traceback": [
        "\u001b[1;31m---------------------------------------------------------------------------\u001b[0m\n\u001b[1;31mLASHeaderError\u001b[0m                            Traceback (most recent call last)",
        "\u001b[1;32m<ipython-input-1-3ddbcd9f35f3>\u001b[0m in \u001b[0;36m<module>\u001b[1;34m()\u001b[0m\n\u001b[0;32m      1\u001b[0m \u001b[1;32mimport\u001b[0m \u001b[0mlas_reader\u001b[0m\u001b[1;33m\u001b[0m\u001b[0m\n\u001b[1;32m----> 2\u001b[1;33m \u001b[0ml\u001b[0m \u001b[1;33m=\u001b[0m \u001b[0mlas_reader\u001b[0m\u001b[1;33m.\u001b[0m\u001b[0mread\u001b[0m\u001b[1;33m(\u001b[0m\u001b[1;34mr\"D:\\study\\2015\\las_kgs_test\\2006_2011\\1043994644.las\"\u001b[0m\u001b[1;33m)\u001b[0m\u001b[1;33m\u001b[0m\u001b[0m\n\u001b[0m",
        "\u001b[1;32md:\\work\\dewnr\\logging_software\\las_reader\\las_reader\\__init__.pyc\u001b[0m in \u001b[0;36mread\u001b[1;34m(file_ref, encoding, autodetect_encoding, autodetect_encoding_chars)\u001b[0m\n\u001b[0;32m     26\u001b[0m     return las.LASFile(file_ref, encoding=encoding,\n\u001b[0;32m     27\u001b[0m                        \u001b[0mautodetect_encoding\u001b[0m\u001b[1;33m=\u001b[0m\u001b[0mautodetect_encoding\u001b[0m\u001b[1;33m,\u001b[0m\u001b[1;33m\u001b[0m\u001b[0m\n\u001b[1;32m---> 28\u001b[1;33m                        autodetect_encoding_chars=autodetect_encoding_chars)\n\u001b[0m",
        "\u001b[1;32md:\\work\\dewnr\\logging_software\\las_reader\\las_reader\\las.py\u001b[0m in \u001b[0;36m__init__\u001b[1;34m(self, file_ref, encoding, autodetect_encoding, autodetect_encoding_chars)\u001b[0m\n\u001b[0;32m    144\u001b[0m             self.read(file_ref, encoding=encoding,\n\u001b[0;32m    145\u001b[0m                       \u001b[0mautodetect_encoding\u001b[0m\u001b[1;33m=\u001b[0m\u001b[0mautodetect_encoding\u001b[0m\u001b[1;33m,\u001b[0m\u001b[1;33m\u001b[0m\u001b[0m\n\u001b[1;32m--> 146\u001b[1;33m                       autodetect_encoding_chars=autodetect_encoding_chars)\n\u001b[0m\u001b[0;32m    147\u001b[0m \u001b[1;33m\u001b[0m\u001b[0m\n\u001b[0;32m    148\u001b[0m     def read(self, file_ref, encoding=None,\n",
        "\u001b[1;32md:\\work\\dewnr\\logging_software\\las_reader\\las_reader\\las.py\u001b[0m in \u001b[0;36mread\u001b[1;34m(self, file_ref, encoding, autodetect_encoding, autodetect_encoding_chars)\u001b[0m\n\u001b[0;32m    189\u001b[0m \u001b[1;33m\u001b[0m\u001b[0m\n\u001b[0;32m    190\u001b[0m         \u001b[0mself\u001b[0m\u001b[1;33m.\u001b[0m\u001b[0mwell\u001b[0m \u001b[1;33m=\u001b[0m \u001b[0mreader\u001b[0m\u001b[1;33m.\u001b[0m\u001b[0mread_section\u001b[0m\u001b[1;33m(\u001b[0m\u001b[1;34m'~W'\u001b[0m\u001b[1;33m)\u001b[0m\u001b[1;33m\u001b[0m\u001b[0m\n\u001b[1;32m--> 191\u001b[1;33m         \u001b[0mself\u001b[0m\u001b[1;33m.\u001b[0m\u001b[0mcurves\u001b[0m \u001b[1;33m=\u001b[0m \u001b[0mreader\u001b[0m\u001b[1;33m.\u001b[0m\u001b[0mread_list_section\u001b[0m\u001b[1;33m(\u001b[0m\u001b[1;34m'~C'\u001b[0m\u001b[1;33m)\u001b[0m\u001b[1;33m\u001b[0m\u001b[0m\n\u001b[0m\u001b[0;32m    192\u001b[0m         \u001b[0mself\u001b[0m\u001b[1;33m.\u001b[0m\u001b[0mparams\u001b[0m \u001b[1;33m=\u001b[0m \u001b[0mreader\u001b[0m\u001b[1;33m.\u001b[0m\u001b[0mread_section\u001b[0m\u001b[1;33m(\u001b[0m\u001b[1;34m'~P'\u001b[0m\u001b[1;33m)\u001b[0m\u001b[1;33m\u001b[0m\u001b[0m\n\u001b[0;32m    193\u001b[0m         \u001b[0mself\u001b[0m\u001b[1;33m.\u001b[0m\u001b[0mother\u001b[0m \u001b[1;33m=\u001b[0m \u001b[0mreader\u001b[0m\u001b[1;33m.\u001b[0m\u001b[0mread_raw_text\u001b[0m\u001b[1;33m(\u001b[0m\u001b[1;34m'~O'\u001b[0m\u001b[1;33m)\u001b[0m\u001b[1;33m\u001b[0m\u001b[0m\n",
        "\u001b[1;32md:\\work\\dewnr\\logging_software\\las_reader\\las_reader\\las.py\u001b[0m in \u001b[0;36mread_list_section\u001b[1;34m(self, section_name)\u001b[0m\n\u001b[0;32m    470\u001b[0m                 raise LASHeaderError(\"Failed in %s section on line:\\n%s%s\" % (\n\u001b[0;32m    471\u001b[0m                     \u001b[0msection_name\u001b[0m\u001b[1;33m,\u001b[0m \u001b[0mline\u001b[0m\u001b[1;33m,\u001b[0m\u001b[1;33m\u001b[0m\u001b[0m\n\u001b[1;32m--> 472\u001b[1;33m                     traceback.format_exc().splitlines()[-1]))\n\u001b[0m\u001b[0;32m    473\u001b[0m             \u001b[1;32melse\u001b[0m\u001b[1;33m:\u001b[0m\u001b[1;33m\u001b[0m\u001b[0m\n\u001b[0;32m    474\u001b[0m                 \u001b[0ml\u001b[0m\u001b[1;33m.\u001b[0m\u001b[0mappend\u001b[0m\u001b[1;33m(\u001b[0m\u001b[0mparser\u001b[0m\u001b[1;33m(\u001b[0m\u001b[1;33m**\u001b[0m\u001b[0mvalues\u001b[0m\u001b[1;33m)\u001b[0m\u001b[1;33m)\u001b[0m\u001b[1;33m\u001b[0m\u001b[0m\n",
        "\u001b[1;31mLASHeaderError\u001b[0m: Failed in ~C section on line:\n.RILD.Ohm-m                   : DIL Deep ResistivityAttributeError: 'NoneType' object has no attribute 'groupdict'"
       ]
      }
     ],
     "prompt_number": 1
    },
    {
     "cell_type": "markdown",
     "metadata": {},
     "source": [
      "Implementing fix..."
     ]
    },
    {
     "cell_type": "code",
     "collapsed": false,
     "input": [
      "import las_reader\n",
      "l = las_reader.read(r\"D:\\study\\2015\\las_kgs_test\\2006_2011\\1043994644.las\")"
     ],
     "language": "python",
     "metadata": {},
     "outputs": [],
     "prompt_number": 1
    },
    {
     "cell_type": "code",
     "collapsed": false,
     "input": [
      "l.well"
     ],
     "language": "python",
     "metadata": {},
     "outputs": [
      {
       "metadata": {},
       "output_type": "pyout",
       "prompt_number": 2,
       "text": [
        "{'STRT': HeaderItem(mnemonic='STRT', unit='FT', value=0.0, descr=''),\n",
        " 'STOP': HeaderItem(mnemonic='STOP', unit='FT', value=4598.0, descr=''),\n",
        " 'STEP': HeaderItem(mnemonic='STEP', unit='FT', value=0.5, descr=''),\n",
        " 'NULL': HeaderItem(mnemonic='NULL', unit='', value=-999.25, descr=''),\n",
        " 'COMP': HeaderItem(mnemonic='COMP', unit='', value='PIONEER EXPLORATION, LLC.', descr='COMPANY'),\n",
        " 'WELL': HeaderItem(mnemonic='WELL', unit='', value='GREEN #2', descr='WELL'),\n",
        " 'FLD': HeaderItem(mnemonic='FLD', unit='', value='SPIVEY-GRABS BASIL', descr='FIELD'),\n",
        " 'LOC': HeaderItem(mnemonic='LOC', unit='', value=\"890' FSL & 1650' FEL\", descr='LOCATION'),\n",
        " 'CNTY': HeaderItem(mnemonic='CNTY', unit='', value='HARPER', descr='COUNTY'),\n",
        " 'SRVC': HeaderItem(mnemonic='SRVC', unit='', value='SUPERIOR WELL SERVICES INC.', descr='SERVICE COMPANY'),\n",
        " 'DATE': HeaderItem(mnemonic='DATE', unit='', value='Mon Apr 05 13-48-54 2010', descr='LOG DATE'),\n",
        " 'UWI': HeaderItem(mnemonic='UWI', unit='', value='', descr='UNIQUE WELL ID'),\n",
        " 'STAT': HeaderItem(mnemonic='STAT', unit='', value='KANSAS', descr='STATE'),\n",
        " 'SECT': HeaderItem(mnemonic='SECT', unit='', value=29, descr='SECTION'),\n",
        " 'TOWN': HeaderItem(mnemonic='TOWN', unit='', value='31S', descr='TOWNSHIP'),\n",
        " 'RANG': HeaderItem(mnemonic='RANG', unit='', value='9W', descr='RANGE'),\n",
        " 'API': HeaderItem(mnemonic='API', unit='', value='15-077-21678', descr='API#'),\n",
        " 'OS': HeaderItem(mnemonic='OS', unit='', value='CDL/CNL--MICRO', descr='OTHER SERVICES'),\n",
        " 'PDAT': HeaderItem(mnemonic='PDAT', unit='FT', value='GROUND LEVEL', descr='PERMANENT DATUM'),\n",
        " 'EEL': HeaderItem(mnemonic='EEL', unit='FT', value=\"1660'\", descr='ELEVATION'),\n",
        " 'LMF': HeaderItem(mnemonic='LMF', unit='FT', value=\"KELLY BUSHING 10' A.G.L.\", descr='LOG MEASURED FROM'),\n",
        " 'DMF': HeaderItem(mnemonic='DMF', unit='FT', value='KELLY BUSHING', descr='DRILLING MEASURED FROM'),\n",
        " 'EKB': HeaderItem(mnemonic='EKB', unit='FT', value=1670, descr='KB'),\n",
        " 'EDF': HeaderItem(mnemonic='EDF', unit='FT', value='', descr='DF'),\n",
        " 'EGL': HeaderItem(mnemonic='EGL', unit='FT', value=1660, descr='GL'),\n",
        " 'DATE1': HeaderItem(mnemonic='DATE1', unit='', value='4-5-10', descr='DATE1'),\n",
        " 'RUN1': HeaderItem(mnemonic='RUN1', unit='', value='ONE', descr='RUN NUMBER'),\n",
        " 'TDD1': HeaderItem(mnemonic='TDD1', unit='FT', value=4600, descr='DEPTH DRILLER'),\n",
        " 'TDL1': HeaderItem(mnemonic='TDL1', unit='FT', value=4600, descr='DEPTH LOGGER'),\n",
        " 'BLI1': HeaderItem(mnemonic='BLI1', unit='FT', value=4598, descr='BOTTOM LOGGED INTERVAL'),\n",
        " 'TLI1': HeaderItem(mnemonic='TLI1', unit='FT', value=0, descr='TOP LOG INTERVAL'),\n",
        " 'CDD1': HeaderItem(mnemonic='CDD1', unit='IN_FT', value=225, descr='CASING DRILLER'),\n",
        " 'CDL1': HeaderItem(mnemonic='CDL1', unit='FT', value=222, descr='CASING LOGGER'),\n",
        " 'BS1': HeaderItem(mnemonic='BS1', unit='IN', value=7.875, descr='BIT SIZE'),\n",
        " 'DFT1': HeaderItem(mnemonic='DFT1', unit='', value='CHEMICAL MUD', descr='TYPE FLUID IN HOLE'),\n",
        " 'DFDV1': HeaderItem(mnemonic='DFDV1', unit='GM/C3_CP', value='9.4  /  50', descr='DENSITY/VISCOSITY'),\n",
        " 'DFPL1': HeaderItem(mnemonic='DFPL1', unit='C3', value='9.0  /  12.0', descr='PH/FLUID LOSS'),\n",
        " 'MSS1': HeaderItem(mnemonic='MSS1', unit='', value='FLOWLINE', descr='SOURCE OF SAMPLE'),\n",
        " 'RMT1': HeaderItem(mnemonic='RMT1', unit='OHHM_DEGF', value='0.65  @  94F', descr='RM@MEASURED TEMP'),\n",
        " 'RMFT1': HeaderItem(mnemonic='RMFT1', unit='OHMM_DEGF', value='0.49  @  94F', descr='RMF@MEASURED TEMP'),\n",
        " 'RMCT1': HeaderItem(mnemonic='RMCT1', unit='OHMM_DEGF', value='0.78  @  94F', descr='RMC@MEASURED TEMP'),\n",
        " 'RMFS1': HeaderItem(mnemonic='RMFS1', unit='', value='MEASURED', descr='SOURCE OF RMF/RMC'),\n",
        " 'RMBT1': HeaderItem(mnemonic='RMBT1', unit='OHMM_DEGF', value='.500  @  121F', descr='RM@BHT'),\n",
        " 'TCS1': HeaderItem(mnemonic='TCS1', unit='', value='3 HOURS', descr='TIME CIRCULATION STOPPED'),\n",
        " 'TLOB1': HeaderItem(mnemonic='TLOB1', unit='', value=8, descr='30 A.M.: TIME LOGGER ON BOTTOM'),\n",
        " 'BHT1': HeaderItem(mnemonic='BHT1', unit='DEGF', value='121F', descr='MAXIMUM RECORDED TEMPERATURE'),\n",
        " 'LUN1': HeaderItem(mnemonic='LUN1', unit='', value=860, descr='EQUIPMENT NUMBER'),\n",
        " 'LUL1': HeaderItem(mnemonic='LUL1', unit='', value='HAYS, KS.', descr='LOCATION'),\n",
        " 'ENGI1': HeaderItem(mnemonic='ENGI1', unit='', value='RUPP', descr='RECORDED BY'),\n",
        " 'WITN1': HeaderItem(mnemonic='WITN1', unit='', value='PAT DEENIHAN', descr='WITNESSED BY')}"
       ]
      }
     ],
     "prompt_number": 2
    },
    {
     "cell_type": "code",
     "collapsed": false,
     "input": [
      "l.curves"
     ],
     "language": "python",
     "metadata": {},
     "outputs": [
      {
       "metadata": {},
       "output_type": "pyout",
       "prompt_number": 5,
       "text": [
        "[Curve(mnemonic='DEPT', unit='FT', value='0 000 00 00', descr='Depth', data=array([  0.00000000e+00,   5.00000000e-01,   1.00000000e+00, ...,\n",
        "          4.59700000e+03,   4.59750000e+03,   4.59800000e+03])),\n",
        " Curve(mnemonic='RILD[0]', unit='Ohm-m', value='', descr='DIL Deep Resistivity', data=array([  3.3192,   0.7585,   1.6338, ...,  50.6924,  51.8272,  52.0517])),\n",
        " Curve(mnemonic='RILM[0]', unit='Ohm-m', value='', descr='DIL Medium Resistivity', data=array([     nan,      nan,      nan, ...,  45.6886,  45.7489,  45.6162])),\n",
        " Curve(mnemonic='CNPOR', unit='pu', value='', descr='CN Selected Porosity', data=array([ nan,  nan,  nan, ...,  nan,  nan,  nan])),\n",
        " Curve(mnemonic='DCAL', unit='in', value='', descr='CDL Caliper', data=array([ nan,  nan,  nan, ...,  nan,  nan,  nan])),\n",
        " Curve(mnemonic='DPOR', unit='pu', value='', descr='CDL Density Porosity', data=array([ nan,  nan,  nan, ...,  nan,  nan,  nan])),\n",
        " Curve(mnemonic='GR', unit='GAPI', value='', descr='Gamma Ray', data=array([ 459.383 ,  541.8128,  575.702 , ...,       nan,       nan,\n",
        "              nan])),\n",
        " Curve(mnemonic='RHOB', unit='g/cc', value='', descr='CDL Bulk Density', data=array([ nan,  nan,  nan, ...,  nan,  nan,  nan])),\n",
        " Curve(mnemonic='RHOC', unit='g/cc', value='', descr='CDL Density Correction', data=array([ nan,  nan,  nan, ...,  nan,  nan,  nan])),\n",
        " Curve(mnemonic='RILD[1]', unit='Ohm-m', value='', descr='DIL Deep Resistivity', data=array([ 3.3192,  0.7585,  1.6338, ...,     nan,     nan,     nan])),\n",
        " Curve(mnemonic='RILM[1]', unit='Ohm-m', value='', descr='DIL Medium Resistivity', data=array([ nan,  nan,  nan, ...,  nan,  nan,  nan])),\n",
        " Curve(mnemonic='RLL3', unit='Ohm-m', value='', descr='DIL Shallow Resistivity', data=array([ 2491.8916,  1561.9694,  1501.3595, ...,    74.3964,    71.299 ,\n",
        "           64.0987])),\n",
        " Curve(mnemonic='RxoRt', unit='', value='', descr='Rxo / Rt', data=array([-258.7947, -298.2363, -266.6964, ...,       nan,       nan,\n",
        "              nan])),\n",
        " Curve(mnemonic='SP', unit='mV', value='', descr='DIL Spontaneous Potential', data=array([ 163.6365,  161.5511,  159.8085, ...,       nan,       nan,\n",
        "              nan])),\n",
        " Curve(mnemonic='MEL15', unit='Ohm-m', value='', descr='MICRO 1.5', data=array([     nan,      nan,      nan, ...,  20.988 ,  20.3274,      nan])),\n",
        " Curve(mnemonic='MEL20', unit='Ohm-m', value='', descr='MICRO 2.0', data=array([     nan,      nan,      nan, ...,  17.2183,  17.2208,      nan])),\n",
        " Curve(mnemonic='MELCAL', unit='in', value='', descr='MICRO CALIPER', data=array([    nan,     nan,     nan, ...,  7.7173,  7.7306,  7.7328]))]"
       ]
      }
     ],
     "prompt_number": 5
    },
    {
     "cell_type": "code",
     "collapsed": false,
     "input": [],
     "language": "python",
     "metadata": {},
     "outputs": []
    }
   ],
   "metadata": {}
  }
 ]
}