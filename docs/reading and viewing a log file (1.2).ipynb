{
 "metadata": {
  "name": ""
 },
 "nbformat": 3,
 "nbformat_minor": 0,
 "worksheets": [
  {
   "cells": [
    {
     "cell_type": "heading",
     "level": 1,
     "metadata": {},
     "source": [
      "reading and viewing a log file (1.2)"
     ]
    },
    {
     "cell_type": "code",
     "collapsed": false,
     "input": [
      "import las_reader"
     ],
     "language": "python",
     "metadata": {},
     "outputs": [],
     "prompt_number": 1
    },
    {
     "cell_type": "markdown",
     "metadata": {},
     "source": [
      "Read in the log file by initializing a ``LASFile`` object with a filename, URL, file-like object, or string:"
     ]
    },
    {
     "cell_type": "code",
     "collapsed": false,
     "input": [
      "log = las_reader.LASFile('https://raw.github.com/kinverarity1/las-reader/master/standards/examples/1.2/sample_curve_api.las')"
     ],
     "language": "python",
     "metadata": {},
     "outputs": [],
     "prompt_number": 2
    },
    {
     "cell_type": "markdown",
     "metadata": {},
     "source": [
      "The ``LASFile`` object will carry some of the originating information in its ``provenance`` attribute:"
     ]
    },
    {
     "cell_type": "code",
     "collapsed": false,
     "input": [
      "log.provenance"
     ],
     "language": "python",
     "metadata": {},
     "outputs": [
      {
       "metadata": {},
       "output_type": "pyout",
       "prompt_number": 3,
       "text": [
        "{'name': 'sample_curve_api.las',\n",
        " 'path': None,\n",
        " 'time_opened': datetime.datetime(2013, 12, 25, 16, 18, 53, 573000),\n",
        " 'url': 'https://raw.github.com/kinverarity1/las-reader/master/standards/examples/1.2/sample_curve_api.las'}"
       ]
      }
     ],
     "prompt_number": 3
    },
    {
     "cell_type": "markdown",
     "metadata": {},
     "source": [
      "Internally the sections of the LAS file are parsed by a ``LASFileReader`` instance and stored in their raw form under ``log.sections``:"
     ]
    },
    {
     "cell_type": "code",
     "collapsed": false,
     "input": [
      "from pprint import pprint\n",
      "pprint(log.sections)"
     ],
     "language": "python",
     "metadata": {},
     "outputs": [
      {
       "output_type": "stream",
       "stream": "stdout",
       "text": [
        "{'~A': {},\n",
        " '~C': {'DEPTH': {'data': '',\n",
        "                  'descr': '1       DEPTH',\n",
        "                  'name': 'DEPTH',\n",
        "                  'unit': 'M'},\n",
        "        'ILD': {'data': '7 120 46 00',\n",
        "                'descr': '7       DEEP RESISTIVITY',\n",
        "                'name': 'ILD',\n",
        "                'unit': 'OHMM'},\n",
        "        'ILM': {'data': '7 120 44 00',\n",
        "                'descr': '6       MEDIUM RESISTIVITY',\n",
        "                'name': 'ILM',\n",
        "                'unit': 'OHMM'},\n",
        "        'MSFL': {'data': '7 220 01 00',\n",
        "                 'descr': '4       Rxo RESISTIVITY',\n",
        "                 'name': 'MSFL',\n",
        "                 'unit': 'OHMM'},\n",
        "        'NPHI': {'data': '7 890 00 00',\n",
        "                 'descr': '3       NEUTRON POROSITY - SANDSTONE',\n",
        "                 'name': 'NPHI',\n",
        "                 'unit': 'VOL/VOL'},\n",
        "        'RHOB': {'data': '7 350 02 00',\n",
        "                 'descr': '2       BULK DENSITY',\n",
        "                 'name': 'RHOB',\n",
        "                 'unit': 'K/M3'},\n",
        "        'SFLA': {'data': '7 222 01 00',\n",
        "                 'descr': '5       SHALLOW RESISTIVITY',\n",
        "                 'name': 'SFLA',\n",
        "                 'unit': 'OHMM'},\n",
        "        'SP': {'data': '7 010 01 00',\n",
        "               'descr': '8       SPONTANEOUS POTENTIAL',\n",
        "               'name': 'SP',\n",
        "               'unit': 'MV'}},\n",
        " '~O': ['Note: The logging tools became stuck at 625 meters causing the data',\n",
        "        'between 625 meters and 615 meters to be invalid.'],\n",
        " '~P': {'BHT': {'data': '35.5000',\n",
        "                'descr': 'BOTTOM HOLE TEMPERATURE',\n",
        "                'name': 'BHT',\n",
        "                'unit': 'DEGC'},\n",
        "        'BS': {'data': '200.0000',\n",
        "               'descr': 'BIT SIZE',\n",
        "               'name': 'BS',\n",
        "               'unit': 'MM'},\n",
        "        'DFD': {'data': '1525.0000',\n",
        "                'descr': 'DRILL FLUID DENSITY',\n",
        "                'name': 'DFD',\n",
        "                'unit': 'K/M3'},\n",
        "        'FD': {'data': '1000.0000',\n",
        "               'descr': 'FLUID DENSITY',\n",
        "               'name': 'FD',\n",
        "               'unit': 'K/M3'},\n",
        "        'MATR': {'data': '0.0000',\n",
        "                 'descr': 'NEUTRON MATRIX(0=LIME,1=SAND,2=DOLO)',\n",
        "                 'name': 'MATR',\n",
        "                 'unit': None},\n",
        "        'MDEN': {'data': '2710.0000',\n",
        "                 'descr': 'LOGGING MATRIX DENSITY',\n",
        "                 'name': 'MDEN',\n",
        "                 'unit': None},\n",
        "        'RMF': {'data': '0.2160',\n",
        "                'descr': 'MUD FILTRATE RESISTIVITY',\n",
        "                'name': 'RMF',\n",
        "                'unit': 'OHMM'}},\n",
        " '~V': {'DLM': {'data': 'SPACE'},\n",
        "        'VERS': {'data': '1.2',\n",
        "                 'descr': 'CWLS LOG ASCII STANDARD -VERSION 1.2',\n",
        "                 'name': 'VERS',\n",
        "                 'unit': None},\n",
        "        'WRAP': {'data': 'NO',\n",
        "                 'descr': 'ONE LINE PER DEPTH STEP',\n",
        "                 'name': 'WRAP',\n",
        "                 'unit': None}},\n",
        " '~W': {'COMP': {'data': 'COMPANY',\n",
        "                 'descr': 'ANY OIL COMPANY LTD.',\n",
        "                 'name': 'COMP',\n",
        "                 'unit': None},\n",
        "        'DATE': {'data': 'LOG DATE',\n",
        "                 'descr': '25-DEC-1988',\n",
        "                 'name': 'DATE',\n",
        "                 'unit': None},\n",
        "        'FLD': {'data': 'FIELD',\n",
        "                'descr': 'EDAM',\n",
        "                'name': 'FLD',\n",
        "                'unit': None},\n",
        "        'LOC': {'data': 'LOCATION',\n",
        "                'descr': 'A9-16-49-20W3M',\n",
        "                'name': 'LOC',\n",
        "                'unit': None},\n",
        "        'NULL': {'data': '-999.2500',\n",
        "                 'descr': '',\n",
        "                 'name': 'NULL',\n",
        "                 'unit': None},\n",
        "        'PROV': {'data': 'PROVINCE',\n",
        "                 'descr': 'SASKATCHEWAN',\n",
        "                 'name': 'PROV',\n",
        "                 'unit': None},\n",
        "        'SRVC': {'data': 'SERVICE COMPANY',\n",
        "                 'descr': 'ANY LOGGING COMPANY LTD.',\n",
        "                 'name': 'SRVC',\n",
        "                 'unit': None},\n",
        "        'STEP': {'data': '-0.1250', 'descr': '', 'name': 'STEP', 'unit': 'M'},\n",
        "        'STOP': {'data': '1660.000000',\n",
        "                 'descr': '',\n",
        "                 'name': 'STOP',\n",
        "                 'unit': 'M'},\n",
        "        'STRT': {'data': '1670.000000',\n",
        "                 'descr': '',\n",
        "                 'name': 'STRT',\n",
        "                 'unit': 'M'},\n",
        "        'UWI': {'data': 'UNIQUE WELL ID',\n",
        "                'descr': '100091604920W300',\n",
        "                'name': 'UWI',\n",
        "                'unit': None},\n",
        "        'WELL': {'data': 'WELL',\n",
        "                 'descr': 'ANY ET AL OIL WELL #12',\n",
        "                 'name': 'WELL',\n",
        "                 'unit': None}}}\n"
       ]
      }
     ],
     "prompt_number": 4
    },
    {
     "cell_type": "markdown",
     "metadata": {},
     "source": [
      "You can access these directly, but the ``LASFile`` object also provides mediated access through various attributes (like converting numbers to floats or integers, or parsing dates):"
     ]
    },
    {
     "cell_type": "code",
     "collapsed": false,
     "input": [
      "log.version"
     ],
     "language": "python",
     "metadata": {},
     "outputs": [
      {
       "metadata": {},
       "output_type": "pyout",
       "prompt_number": 5,
       "text": [
        "1.2"
       ]
      }
     ],
     "prompt_number": 5
    },
    {
     "cell_type": "code",
     "collapsed": false,
     "input": [
      "log.wrap"
     ],
     "language": "python",
     "metadata": {},
     "outputs": [
      {
       "metadata": {},
       "output_type": "pyout",
       "prompt_number": 6,
       "text": [
        "False"
       ]
      }
     ],
     "prompt_number": 6
    },
    {
     "cell_type": "code",
     "collapsed": false,
     "input": [
      "log.delimiter"
     ],
     "language": "python",
     "metadata": {},
     "outputs": [
      {
       "metadata": {},
       "output_type": "pyout",
       "prompt_number": 7,
       "text": [
        "' '"
       ]
      }
     ],
     "prompt_number": 7
    },
    {
     "cell_type": "code",
     "collapsed": false,
     "input": [],
     "language": "python",
     "metadata": {},
     "outputs": []
    }
   ],
   "metadata": {}
  }
 ]
}