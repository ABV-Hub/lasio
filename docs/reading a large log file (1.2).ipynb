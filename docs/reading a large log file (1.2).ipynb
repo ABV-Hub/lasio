{
 "metadata": {
  "name": ""
 },
 "nbformat": 3,
 "nbformat_minor": 0,
 "worksheets": [
  {
   "cells": [
    {
     "cell_type": "heading",
     "level": 1,
     "metadata": {},
     "source": [
      "reading a large log file (1.2)"
     ]
    },
    {
     "cell_type": "code",
     "collapsed": false,
     "input": [
      "import las_reader\n",
      "import time"
     ],
     "language": "python",
     "metadata": {},
     "outputs": [],
     "prompt_number": 1
    },
    {
     "cell_type": "code",
     "collapsed": false,
     "input": [
      "start = time.time()\n",
      "log = las_reader.LASFile('https://raw.github.com/kinverarity1/las-reader/master/standards/examples/1.2/sample_big.las')\n",
      "print 'Elapsed time: %.5f sec' % (time.time() - start)"
     ],
     "language": "python",
     "metadata": {},
     "outputs": [
      {
       "output_type": "stream",
       "stream": "stdout",
       "text": [
        "Elapsed time: 5.22400 sec\n"
       ]
      }
     ],
     "prompt_number": 2
    },
    {
     "cell_type": "code",
     "collapsed": false,
     "input": [
      "log.sections['~A'].shape"
     ],
     "language": "python",
     "metadata": {},
     "outputs": [
      {
       "metadata": {},
       "output_type": "pyout",
       "prompt_number": 4,
       "text": [
        "(29897, 8)"
       ]
      }
     ],
     "prompt_number": 4
    },
    {
     "cell_type": "code",
     "collapsed": false,
     "input": [
      "log.data"
     ],
     "language": "python",
     "metadata": {},
     "outputs": [
      {
       "html": [
        "<pre>\n",
        "&lt;class 'pandas.core.frame.DataFrame'&gt;\n",
        "Index: 29897 entries, 1670.0 to 1669.875\n",
        "Data columns (total 8 columns):\n",
        "DEPT    29897  non-null values\n",
        "DT      29897  non-null values\n",
        "ILD     29897  non-null values\n",
        "ILM     29897  non-null values\n",
        "NPHI    29897  non-null values\n",
        "RHOB    29897  non-null values\n",
        "SFLA    29897  non-null values\n",
        "SFLU    29897  non-null values\n",
        "dtypes: float64(8)\n",
        "</pre>"
       ],
       "metadata": {},
       "output_type": "pyout",
       "prompt_number": 7,
       "text": [
        "<class 'pandas.core.frame.DataFrame'>\n",
        "Index: 29897 entries, 1670.0 to 1669.875\n",
        "Data columns (total 8 columns):\n",
        "DEPT    29897  non-null values\n",
        "DT      29897  non-null values\n",
        "ILD     29897  non-null values\n",
        "ILM     29897  non-null values\n",
        "NPHI    29897  non-null values\n",
        "RHOB    29897  non-null values\n",
        "SFLA    29897  non-null values\n",
        "SFLU    29897  non-null values\n",
        "dtypes: float64(8)"
       ]
      }
     ],
     "prompt_number": 7
    },
    {
     "cell_type": "code",
     "collapsed": false,
     "input": [],
     "language": "python",
     "metadata": {},
     "outputs": []
    }
   ],
   "metadata": {}
  }
 ]
}