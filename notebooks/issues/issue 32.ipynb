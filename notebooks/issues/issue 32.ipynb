{
 "metadata": {
  "name": "",
  "signature": "sha256:57c2cb2156ecb50cb55870704ee3999128c60560eafddb9681312197b96a8d7e"
 },
 "nbformat": 3,
 "nbformat_minor": 0,
 "worksheets": [
  {
   "cells": [
    {
     "cell_type": "code",
     "collapsed": false,
     "input": [
      "import requests\n",
      "import las_reader\n",
      "print(las_reader.__version__)"
     ],
     "language": "python",
     "metadata": {},
     "outputs": [
      {
       "output_type": "stream",
       "stream": "stdout",
       "text": [
        "0.4\n"
       ]
      }
     ],
     "prompt_number": 1
    },
    {
     "cell_type": "code",
     "collapsed": false,
     "input": [
      "lastxt = requests.get(\"http://www.kgs.ku.edu/software/PfEFFER-java/HELP/New_Session/12345a.las\").text"
     ],
     "language": "python",
     "metadata": {},
     "outputs": [],
     "prompt_number": 2
    },
    {
     "cell_type": "code",
     "collapsed": false,
     "input": [
      "l = las_reader.read(lastxt)"
     ],
     "language": "python",
     "metadata": {},
     "outputs": [],
     "prompt_number": 3
    },
    {
     "cell_type": "code",
     "collapsed": false,
     "input": [
      "l.version"
     ],
     "language": "python",
     "metadata": {},
     "outputs": [
      {
       "metadata": {},
       "output_type": "pyout",
       "prompt_number": 4,
       "text": [
        "{'VERS': Metadata(mnemonic=u'VERS', unit=u'', value=2.0, descr=u'CWLS LOG ASCII STANDARD - VERSION 2.0'),\n",
        " 'WRAP': Metadata(mnemonic=u'WRAP', unit=u'', value=u'NO', descr=u'One line per depth step')}"
       ]
      }
     ],
     "prompt_number": 4
    },
    {
     "cell_type": "code",
     "collapsed": false,
     "input": [
      "with open(\"12345a_v2.las\", mode=\"w\") as f:\n",
      "    l.write(f, 2)"
     ],
     "language": "python",
     "metadata": {},
     "outputs": [],
     "prompt_number": 6
    },
    {
     "cell_type": "code",
     "collapsed": false,
     "input": [],
     "language": "python",
     "metadata": {},
     "outputs": []
    }
   ],
   "metadata": {}
  }
 ]
}