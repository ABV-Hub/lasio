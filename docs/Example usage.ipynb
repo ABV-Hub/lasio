{
 "metadata": {
  "name": "",
  "signature": "sha256:c0274cf78ce72e6ca8b3c4337426d7f35a296d4dbcea1085454661af76beaa0e"
 },
 "nbformat": 3,
 "nbformat_minor": 0,
 "worksheets": [
  {
   "cells": [
    {
     "cell_type": "heading",
     "level": 1,
     "metadata": {},
     "source": [
      "LAS Reader"
     ]
    },
    {
     "cell_type": "markdown",
     "metadata": {},
     "source": [
      "``las_reader`` is a Python package to read in Log ASCII Standard (LAS) files, used in geophysical logging. \n",
      "The file format is specified by the Canadian Well Logging Society. The package only works for versions 1.2 and 2.0 so far."
     ]
    },
    {
     "cell_type": "heading",
     "level": 2,
     "metadata": {},
     "source": [
      "Reading in data"
     ]
    },
    {
     "cell_type": "markdown",
     "metadata": {},
     "source": [
      "The ``las_reader.read()`` function accepts a filename, file-like object, or URL as an argument and returns a ``Las`` object:"
     ]
    },
    {
     "cell_type": "code",
     "collapsed": false,
     "input": [
      "import sys; sys.path.append(\"..\")\n",
      "import las_reader\n",
      "l = las_reader.read('https://raw.githubusercontent.com/kinverarity1/las-reader'\n",
      "                    '/master/standards/examples/1.2/sample.las')\n",
      "type(l)"
     ],
     "language": "python",
     "metadata": {},
     "outputs": [
      {
       "metadata": {},
       "output_type": "pyout",
       "prompt_number": 1,
       "text": [
        "las_reader.las.Las"
       ]
      }
     ],
     "prompt_number": 1
    },
    {
     "cell_type": "code",
     "collapsed": false,
     "input": [
      "print l._text"
     ],
     "language": "python",
     "metadata": {},
     "outputs": [
      {
       "output_type": "stream",
       "stream": "stdout",
       "text": [
        "~VERSION INFORMATION\r\n",
        " VERS.                  1.2:   CWLS LOG ASCII STANDARD -VERSION 1.2\r\n",
        " WRAP.                  NO:   ONE LINE PER DEPTH STEP\r\n",
        "~WELL INFORMATION BLOCK\r\n",
        "#MNEM.UNIT       DATA TYPE    INFORMATION\r\n",
        "#---------    -------------   ------------------------------\r\n",
        " STRT.M        1670.000000:\r\n",
        " STOP.M        1660.000000:\r\n",
        " STEP.M            -0.1250:\r\n",
        " NULL.           -999.2500:\r\n",
        " COMP.             COMPANY:   # ANY OIL COMPANY LTD.\r\n",
        " WELL.                WELL:   ANY ET AL OIL WELL #12\r\n",
        " FLD .               FIELD:   EDAM\r\n",
        " LOC .            LOCATION:   A9-16-49-20W3M\r\n",
        " PROV.            PROVINCE:   SASKATCHEWAN\r\n",
        " SRVC.     SERVICE COMPANY:   ANY LOGGING COMPANY LTD.\r\n",
        " DATE.            LOG DATE:   25-DEC-1988\r\n",
        " UWI .      UNIQUE WELL ID:   100091604920W300\r\n",
        "~CURVE INFORMATION\r\n",
        "#MNEM.UNIT      API CODE      CURVE DESCRIPTION\r\n",
        "#---------    -------------   ------------------------------\r\n",
        " DEPT.M                      :  1  DEPTH\r\n",
        " DT  .US/M     \t\t     :  2  SONIC TRANSIT TIME\r\n",
        " RHOB.K/M3                   :  3  BULK DENSITY\r\n",
        " NPHI.V/V                    :  4   NEUTRON POROSITY\r\n",
        " SFLU.OHMM                   :  5  RXO RESISTIVITY\r\n",
        " SFLA.OHMM                   :  6  SHALLOW RESISTIVITY\r\n",
        " ILM .OHMM                   :  7  MEDIUM RESISTIVITY\r\n",
        " ILD .OHMM                   :  8  DEEP RESISTIVITY\r\n",
        "~PARAMETER INFORMATION\r\n",
        "#MNEM.UNIT        VALUE       DESCRIPTION\r\n",
        "#---------    -------------   ------------------------------\r\n",
        " BHT .DEGC         35.5000:   BOTTOM HOLE TEMPERATURE\r\n",
        " BS  .MM          200.0000:   BIT SIZE\r\n",
        " FD  .K/M3       1000.0000:   FLUID DENSITY\r\n",
        " MATR.              0.0000:   NEUTRON MATRIX(0=LIME,1=SAND,2=DOLO)\r\n",
        " MDEN.           2710.0000:   LOGGING MATRIX DENSITY\r\n",
        " RMF .OHMM          0.2160:   MUD FILTRATE RESISTIVITY\r\n",
        " DFD .K/M3       1525.0000:   DRILL FLUID DENSITY\r\n",
        "~Other\r\n",
        "     Note: The logging tools became stuck at 625 meters causing the data\r\n",
        "\t   between 625 meters and 615 meters to be invalid.\r\n",
        "~A  DEPTH     DT       RHOB     NPHI     SFLU     SFLA      ILM      ILD\r\n",
        "1670.000   123.450 2550.000    0.450  123.450  123.450  110.200  105.600\r\n",
        "1669.875   123.450 2550.000    0.450  123.450  123.450  110.200  105.600\r\n",
        "1669.750   123.450 2550.000    0.450  123.450  123.450  110.200  105.600\r\n",
        "\n"
       ]
      }
     ],
     "prompt_number": 2
    },
    {
     "cell_type": "heading",
     "level": 2,
     "metadata": {},
     "source": [
      "Curve data"
     ]
    },
    {
     "cell_type": "markdown",
     "metadata": {},
     "source": [
      "Curves are available as ``numpy.ndarray`` objects as items in the ``Las`` object itself:"
     ]
    },
    {
     "cell_type": "code",
     "collapsed": false,
     "input": [
      "l.keys()"
     ],
     "language": "python",
     "metadata": {},
     "outputs": [
      {
       "metadata": {},
       "output_type": "pyout",
       "prompt_number": 3,
       "text": [
        "['DEPT', 'DT', 'RHOB', 'NPHI', 'SFLU', 'SFLA', 'ILM', 'ILD']"
       ]
      }
     ],
     "prompt_number": 3
    },
    {
     "cell_type": "code",
     "collapsed": false,
     "input": [
      "l['RHOB']"
     ],
     "language": "python",
     "metadata": {},
     "outputs": [
      {
       "metadata": {},
       "output_type": "pyout",
       "prompt_number": 4,
       "text": [
        "array([ 2550.,  2550.,  2550.])"
       ]
      }
     ],
     "prompt_number": 4
    },
    {
     "cell_type": "markdown",
     "metadata": {},
     "source": [
      "You can also access curves by index (remembering that the first index is zero but the first curve is the depth):"
     ]
    },
    {
     "cell_type": "code",
     "collapsed": false,
     "input": [
      "print l['NPHI']\n",
      "print l[3]"
     ],
     "language": "python",
     "metadata": {},
     "outputs": [
      {
       "output_type": "stream",
       "stream": "stdout",
       "text": [
        "[ 0.45  0.45  0.45]\n",
        "[ 0.45  0.45  0.45]\n"
       ]
      }
     ],
     "prompt_number": 5
    },
    {
     "cell_type": "code",
     "collapsed": false,
     "input": [
      "print l['ILM']\n",
      "print l[-2]"
     ],
     "language": "python",
     "metadata": {},
     "outputs": [
      {
       "output_type": "stream",
       "stream": "stdout",
       "text": [
        "[ 110.2  110.2  110.2]\n",
        "[ 110.2  110.2  110.2]\n"
       ]
      }
     ],
     "prompt_number": 6
    },
    {
     "cell_type": "markdown",
     "metadata": {},
     "source": [
      "All the curves are stored as a two-dimensional ``ndarray`` under the ``data`` attribute:"
     ]
    },
    {
     "cell_type": "code",
     "collapsed": false,
     "input": [
      "l.data"
     ],
     "language": "python",
     "metadata": {},
     "outputs": [
      {
       "metadata": {},
       "output_type": "pyout",
       "prompt_number": 7,
       "text": [
        "array([[  1.67000000e+03,   1.23450000e+02,   2.55000000e+03,\n",
        "          4.50000000e-01,   1.23450000e+02,   1.23450000e+02,\n",
        "          1.10200000e+02,   1.05600000e+02],\n",
        "       [  1.66987500e+03,   1.23450000e+02,   2.55000000e+03,\n",
        "          4.50000000e-01,   1.23450000e+02,   1.23450000e+02,\n",
        "          1.10200000e+02,   1.05600000e+02],\n",
        "       [  1.66975000e+03,   1.23450000e+02,   2.55000000e+03,\n",
        "          4.50000000e-01,   1.23450000e+02,   1.23450000e+02,\n",
        "          1.10200000e+02,   1.05600000e+02]])"
       ]
      }
     ],
     "prompt_number": 7
    },
    {
     "cell_type": "heading",
     "level": 2,
     "metadata": {},
     "source": [
      "Header information"
     ]
    },
    {
     "cell_type": "markdown",
     "metadata": {},
     "source": [
      "Metadata from the LAS file's header is stored in an ``OrderedDictionary`` attribute, one for each section (``version``, ``well``, ``curves``, and ``params``). ``OrderedDictionary`` objects are just what they sound like: very similar to a normal Python dictionary.\n",
      "\n",
      "Each entry in the header sections is a kind of custom Python object which depends on the section of the LAS header in which it occurs: either a ``Metadata``, ``Curve``, or ``Parameter``. All these are very similar though; they inherited from the ``las_reader.recordtype`` class, which is a *mutable named tuple*. It sounds way more complex than it is:"
     ]
    },
    {
     "cell_type": "code",
     "collapsed": false,
     "input": [
      "m = las_reader.las.Metadata(mnemonic=\"SPEED\", unit='something?', value=1.5, descr='The speed of light')\n",
      "m.value = 3 * 10 ** 8\n",
      "m.unit = 'm/s'\n",
      "print m"
     ],
     "language": "python",
     "metadata": {},
     "outputs": [
      {
       "output_type": "stream",
       "stream": "stdout",
       "text": [
        "Metadata(mnemonic='SPEED', unit='m/s', value=300000000, descr='The speed of light')\n"
       ]
      }
     ],
     "prompt_number": 8
    },
    {
     "cell_type": "markdown",
     "metadata": {},
     "source": [
      "In order from top to bottom as they usually are in LAS files, the section attributes are:"
     ]
    },
    {
     "cell_type": "code",
     "collapsed": false,
     "input": [
      "l.version"
     ],
     "language": "python",
     "metadata": {},
     "outputs": [
      {
       "metadata": {},
       "output_type": "pyout",
       "prompt_number": 9,
       "text": [
        "{'VERS': Metadata(mnemonic='VERS', unit='', value=1.2, descr='CWLS LOG ASCII STANDARD -VERSION 1.2'),\n",
        " 'WRAP': Metadata(mnemonic='WRAP', unit='', value='NO', descr='ONE LINE PER DEPTH STEP')}"
       ]
      }
     ],
     "prompt_number": 9
    },
    {
     "cell_type": "code",
     "collapsed": false,
     "input": [
      "l.version['VERS'].value"
     ],
     "language": "python",
     "metadata": {},
     "outputs": [
      {
       "metadata": {},
       "output_type": "pyout",
       "prompt_number": 10,
       "text": [
        "1.2"
       ]
      }
     ],
     "prompt_number": 10
    },
    {
     "cell_type": "code",
     "collapsed": false,
     "input": [
      "l.well"
     ],
     "language": "python",
     "metadata": {},
     "outputs": [
      {
       "metadata": {},
       "output_type": "pyout",
       "prompt_number": 11,
       "text": [
        "{'STRT': Metadata(mnemonic='STRT', unit='M', value=1670.0, descr=''),\n",
        " 'STOP': Metadata(mnemonic='STOP', unit='M', value=1660.0, descr=''),\n",
        " 'STEP': Metadata(mnemonic='STEP', unit='M', value=-0.125, descr=''),\n",
        " 'NULL': Metadata(mnemonic='NULL', unit='', value=-999.25, descr=''),\n",
        " 'COMP': Metadata(mnemonic='COMP', unit='', value='# ANY OIL COMPANY LTD.', descr='COMPANY'),\n",
        " 'WELL': Metadata(mnemonic='WELL', unit='', value='ANY ET AL OIL WELL #12', descr='WELL'),\n",
        " 'FLD': Metadata(mnemonic='FLD', unit='', value='EDAM', descr='FIELD'),\n",
        " 'LOC': Metadata(mnemonic='LOC', unit='', value='A9-16-49-20W3M', descr='LOCATION'),\n",
        " 'PROV': Metadata(mnemonic='PROV', unit='', value='SASKATCHEWAN', descr='PROVINCE'),\n",
        " 'SRVC': Metadata(mnemonic='SRVC', unit='', value='ANY LOGGING COMPANY LTD.', descr='SERVICE COMPANY'),\n",
        " 'DATE': Metadata(mnemonic='DATE', unit='', value='25-DEC-1988', descr='LOG DATE'),\n",
        " 'UWI': Metadata(mnemonic='UWI', unit='', value='100091604920W300', descr='UNIQUE WELL ID')}"
       ]
      }
     ],
     "prompt_number": 11
    },
    {
     "cell_type": "markdown",
     "metadata": {},
     "source": [
      "A simpler way of viewing this is to use the special ``_d`` attribute of each section's dictionary, but note that any changes to this dictionary do not have any effect:"
     ]
    },
    {
     "cell_type": "code",
     "collapsed": false,
     "input": [
      "l.well._d"
     ],
     "language": "python",
     "metadata": {},
     "outputs": [
      {
       "metadata": {},
       "output_type": "pyout",
       "prompt_number": 12,
       "text": [
        "{'COMP': '# ANY OIL COMPANY LTD.',\n",
        " 'DATE': '25-DEC-1988',\n",
        " 'FLD': 'EDAM',\n",
        " 'LOC': 'A9-16-49-20W3M',\n",
        " 'NULL': -999.25,\n",
        " 'PROV': 'SASKATCHEWAN',\n",
        " 'SRVC': 'ANY LOGGING COMPANY LTD.',\n",
        " 'STEP': -0.125,\n",
        " 'STOP': 1660.0,\n",
        " 'STRT': 1670.0,\n",
        " 'UWI': '100091604920W300',\n",
        " 'WELL': 'ANY ET AL OIL WELL #12'}"
       ]
      }
     ],
     "prompt_number": 12
    },
    {
     "cell_type": "markdown",
     "metadata": {},
     "source": [
      "To change metadata information you have to edit the ``Metadata`` object's particular field explicitly:"
     ]
    },
    {
     "cell_type": "code",
     "collapsed": false,
     "input": [
      "l.well['SRVC'].value = \"My logging company -- not anyone's\"\n",
      "l.well._d"
     ],
     "language": "python",
     "metadata": {},
     "outputs": [
      {
       "metadata": {},
       "output_type": "pyout",
       "prompt_number": 13,
       "text": [
        "{'COMP': '# ANY OIL COMPANY LTD.',\n",
        " 'DATE': '25-DEC-1988',\n",
        " 'FLD': 'EDAM',\n",
        " 'LOC': 'A9-16-49-20W3M',\n",
        " 'NULL': -999.25,\n",
        " 'PROV': 'SASKATCHEWAN',\n",
        " 'SRVC': \"My logging company -- not anyone's\",\n",
        " 'STEP': -0.125,\n",
        " 'STOP': 1660.0,\n",
        " 'STRT': 1670.0,\n",
        " 'UWI': '100091604920W300',\n",
        " 'WELL': 'ANY ET AL OIL WELL #12'}"
       ]
      }
     ],
     "prompt_number": 13
    },
    {
     "cell_type": "markdown",
     "metadata": {},
     "source": [
      "The other sections have slightly different classes for records:"
     ]
    },
    {
     "cell_type": "code",
     "collapsed": false,
     "input": [
      "l.params"
     ],
     "language": "python",
     "metadata": {},
     "outputs": [
      {
       "metadata": {},
       "output_type": "pyout",
       "prompt_number": 14,
       "text": [
        "{'BHT': Parameter(mnemonic='BHT', unit='DEGC', value=35.5, descr='BOTTOM HOLE TEMPERATURE'),\n",
        " 'BS': Parameter(mnemonic='BS', unit='MM', value=200.0, descr='BIT SIZE'),\n",
        " 'FD': Parameter(mnemonic='FD', unit='K/M3', value=1000.0, descr='FLUID DENSITY'),\n",
        " 'MATR': Parameter(mnemonic='MATR', unit='', value=0.0, descr='NEUTRON MATRIX(0=LIME,1=SAND,2=DOLO)'),\n",
        " 'MDEN': Parameter(mnemonic='MDEN', unit='', value=2710.0, descr='LOGGING MATRIX DENSITY'),\n",
        " 'RMF': Parameter(mnemonic='RMF', unit='OHMM', value=0.216, descr='MUD FILTRATE RESISTIVITY'),\n",
        " 'DFD': Parameter(mnemonic='DFD', unit='K/M3', value=1525.0, descr='DRILL FLUID DENSITY')}"
       ]
      }
     ],
     "prompt_number": 14
    },
    {
     "cell_type": "markdown",
     "metadata": {},
     "source": [
      "For convenience there's a special attribute which is an ordinary dictionary that brings together all the metadata in the file. Again, changes to this dictionary have no effect."
     ]
    },
    {
     "cell_type": "code",
     "collapsed": false,
     "input": [
      "l.metadata"
     ],
     "language": "python",
     "metadata": {},
     "outputs": [
      {
       "metadata": {},
       "output_type": "pyout",
       "prompt_number": 15,
       "text": [
        "{'BHT': 35.5,\n",
        " 'BS': 200.0,\n",
        " 'COMP': '# ANY OIL COMPANY LTD.',\n",
        " 'DATE': '25-DEC-1988',\n",
        " 'DFD': 1525.0,\n",
        " 'FD': 1000.0,\n",
        " 'FLD': 'EDAM',\n",
        " 'LOC': 'A9-16-49-20W3M',\n",
        " 'MATR': 0.0,\n",
        " 'MDEN': 2710.0,\n",
        " 'NULL': -999.25,\n",
        " 'PROV': 'SASKATCHEWAN',\n",
        " 'RMF': 0.216,\n",
        " 'SRVC': \"My logging company -- not anyone's\",\n",
        " 'STEP': -0.125,\n",
        " 'STOP': 1660.0,\n",
        " 'STRT': 1670.0,\n",
        " 'UWI': '100091604920W300',\n",
        " 'VERS': 1.2,\n",
        " 'WELL': 'ANY ET AL OIL WELL #12',\n",
        " 'WRAP': 'NO'}"
       ]
      }
     ],
     "prompt_number": 15
    },
    {
     "cell_type": "markdown",
     "metadata": {},
     "source": [
      "As per the standard, the ~Other section is free text. I know many companies put LAS-formatted metadata in here, but this isn't parsed yet."
     ]
    },
    {
     "cell_type": "code",
     "collapsed": false,
     "input": [
      "print l.other"
     ],
     "language": "python",
     "metadata": {},
     "outputs": [
      {
       "output_type": "stream",
       "stream": "stdout",
       "text": [
        "Note: The logging tools became stuck at 625 meters causing the data\n",
        "between 625 meters and 615 meters to be invalid.\n"
       ]
      }
     ],
     "prompt_number": 16
    },
    {
     "cell_type": "markdown",
     "metadata": {},
     "source": [
      "Finally there is some useful information in the ``provenance`` attribute that depends on how you opened the file in the first place:"
     ]
    },
    {
     "cell_type": "code",
     "collapsed": false,
     "input": [
      "l.provenance"
     ],
     "language": "python",
     "metadata": {},
     "outputs": [
      {
       "metadata": {},
       "output_type": "pyout",
       "prompt_number": 17,
       "text": [
        "{'name': 'sample.las',\n",
        " 'path': None,\n",
        " 'time_opened': datetime.datetime(2014, 12, 14, 16, 17, 26, 103000),\n",
        " 'url': 'https://raw.githubusercontent.com/kinverarity1/las-reader/master/standards/examples/1.2/sample.las'}"
       ]
      }
     ],
     "prompt_number": 17
    },
    {
     "cell_type": "heading",
     "level": 2,
     "metadata": {},
     "source": [
      "Curves (more detail)"
     ]
    },
    {
     "cell_type": "markdown",
     "metadata": {},
     "source": [
      "The curve definitions in the ~Curve section are stored as Curve objects (just like the Metadata and Parameter objects above). However Curve objects have the data itself as an additional ``.data`` attribute:"
     ]
    },
    {
     "cell_type": "code",
     "collapsed": false,
     "input": [
      "l.curves"
     ],
     "language": "python",
     "metadata": {},
     "outputs": [
      {
       "metadata": {},
       "output_type": "pyout",
       "prompt_number": 18,
       "text": [
        "[Curve(mnemonic='DEPT', unit='M', API_code='', descr='1  DEPTH', data=array([ 1670.   ,  1669.875,  1669.75 ]), name='DEPT'),\n",
        " Curve(mnemonic='DT', unit='US/M', API_code='', descr='2  SONIC TRANSIT TIME', data=array([ 123.45,  123.45,  123.45]), name='DT'),\n",
        " Curve(mnemonic='RHOB', unit='K/M3', API_code='', descr='3  BULK DENSITY', data=array([ 2550.,  2550.,  2550.]), name='RHOB'),\n",
        " Curve(mnemonic='NPHI', unit='V/V', API_code='', descr='4   NEUTRON POROSITY', data=array([ 0.45,  0.45,  0.45]), name='NPHI'),\n",
        " Curve(mnemonic='SFLU', unit='OHMM', API_code='', descr='5  RXO RESISTIVITY', data=array([ 123.45,  123.45,  123.45]), name='SFLU'),\n",
        " Curve(mnemonic='SFLA', unit='OHMM', API_code='', descr='6  SHALLOW RESISTIVITY', data=array([ 123.45,  123.45,  123.45]), name='SFLA'),\n",
        " Curve(mnemonic='ILM', unit='OHMM', API_code='', descr='7  MEDIUM RESISTIVITY', data=array([ 110.2,  110.2,  110.2]), name='ILM'),\n",
        " Curve(mnemonic='ILD', unit='OHMM', API_code='', descr='8  DEEP RESISTIVITY', data=array([ 105.6,  105.6,  105.6]), name='ILD')]"
       ]
      }
     ],
     "prompt_number": 18
    },
    {
     "cell_type": "code",
     "collapsed": false,
     "input": [
      "rhob = l.get_curve_name(\"RHOB\")\n",
      "print rhob"
     ],
     "language": "python",
     "metadata": {},
     "outputs": [
      {
       "output_type": "stream",
       "stream": "stdout",
       "text": [
        "Curve(mnemonic='RHOB', unit='K/M3', API_code='', descr='3  BULK DENSITY', data=array([ 2550.,  2550.,  2550.]), name='RHOB')\n"
       ]
      }
     ],
     "prompt_number": 19
    },
    {
     "cell_type": "code",
     "collapsed": false,
     "input": [
      "print rhob.data"
     ],
     "language": "python",
     "metadata": {},
     "outputs": [
      {
       "output_type": "stream",
       "stream": "stdout",
       "text": [
        "[ 2550.  2550.  2550.]\n"
       ]
      }
     ],
     "prompt_number": 20
    },
    {
     "cell_type": "markdown",
     "metadata": {},
     "source": [
      "Also, the index of the LAS file can be accessed directly by the ``.index`` attribute:"
     ]
    },
    {
     "cell_type": "code",
     "collapsed": false,
     "input": [
      "print l[\"DEPT\"]\n",
      "print l.index"
     ],
     "language": "python",
     "metadata": {},
     "outputs": [
      {
       "output_type": "stream",
       "stream": "stdout",
       "text": [
        "[ 1670.     1669.875  1669.75 ]\n",
        "[ 1670.     1669.875  1669.75 ]\n"
       ]
      }
     ],
     "prompt_number": 21
    },
    {
     "cell_type": "code",
     "collapsed": false,
     "input": [
      "import matplotlib.pyplot as plt\n",
      "import matplotlib.gridspec as gridspec\n",
      "%matplotlib inline\n",
      "\n",
      "l2 = las_reader.read(\"GT1457B.LAS\")\n",
      "fig = plt.figure(figsize=(18, 5))\n",
      "gs = gridspec.GridSpec(1, len(l2.curves)-1, wspace=0.2)\n",
      "for i, curve in enumerate(l2.curves[1:]):\n",
      "    if i > 0:\n",
      "        shareax = ax\n",
      "    else:\n",
      "        shareax = False\n",
      "    ax = fig.add_subplot(gs[i], sharey=None)\n",
      "    ax.plot(curve.data, l2.index)\n",
      "    ax.set_title(curve.mnemonic)\n",
      "    if i > 0:\n",
      "        ax.set_yticklabels([])\n",
      "    ax.set_ylim(*ax.get_ylim()[::-1])\n",
      "    ax.set_xticklabels([\"%.0f\" % xi if xi in ax.get_xlim() else \"\" for xi in ax.get_xticks()], rotation=30)"
     ],
     "language": "python",
     "metadata": {},
     "outputs": [
      {
       "metadata": {},
       "output_type": "display_data",
       "png": "[encoded data removed]",
       "text": [
        "<matplotlib.figure.Figure at 0xa873978>"
       ]
      }
     ],
     "prompt_number": 51
    },
    {
     "cell_type": "code",
     "collapsed": false,
     "input": [
      "print l2._text"
     ],
     "language": "python",
     "metadata": {},
     "outputs": [
      {
       "output_type": "stream",
       "stream": "stdout",
       "text": [
        "~Version Information\n",
        "VERS.    1.20:   CWLS log ASCII Standard - version 1.20\n",
        "WRAP.      NO:   one line per depth step\n",
        "~Well Information\n",
        "#MNEM.UNIT     Data Type     Information\n",
        "#_________     _________     ________________________\n",
        " STRT.M           30.000:\n",
        " STOP.M           53.700:\n",
        " STEP.M            0.050:\n",
        " NULL.              -0.0:\n",
        " COMP.           COMPANY: \n",
        " WELL.              WELL: GT14571\n",
        " FLD.              FIELD: \n",
        " LOC.           LOCATION:  \n",
        " CNTY.            COUNTY:  \n",
        " STAT.             STATE: \n",
        " CTRY.           COUNTRY: \n",
        " SRVC.   SERVICE COMPANY: \n",
        " DATE.          LOG DATE: 07/05/2014\n",
        " UWI.     UNIQUE WELL ID: unknown\n",
        "~Curve Information\n",
        "#MNEM.UNIT       Curve  Information\n",
        "#_________       _____  ___________________\n",
        " DEPT.M        :    1   DEPTH\n",
        " DNCP.cps      :    2   DNCPS\n",
        " DFCP.cps      :    3   DFCPS\n",
        " GCPS.cps      :    4   GCPS\n",
        " DENF.cps      :    5   DENS_F\n",
        " DENN.cps      :    6   DENS_N\n",
        " GAMM.cps      :    7   GAMMA\n",
        "~Parameter Information\n",
        "~Other Information\n",
        "~A Depth      DNCP      DFCP      GCPS      DENF      DENN      GAMM\n",
        "   30.05      -0.0      -0.0      -0.0      -0.0      -0.0 -2163.978\n",
        "   30.10      -0.0      -0.0      -0.0      -0.0      -0.0 -2163.978\n",
        "   30.15      -0.0      -0.0      -0.0      -0.0      -0.0 -2163.978\n",
        "   30.20      -0.0      -0.0      -0.0      -0.0      -0.0 -2163.978\n",
        "   30.25      -0.0      -0.0      -0.0      -0.0      -0.0 -2163.978\n",
        "   30.30      -0.0      -0.0      -0.0      -0.0      -0.0 -2163.978\n",
        "   30.35      -0.0      -0.0      -0.0      -0.0      -0.0 -2163.978\n",
        "   30.40      -0.0      -0.0      -0.0      -0.0      -0.0 -2163.978\n",
        "   30.45      -0.0      -0.0      -0.0      -0.0      -0.0 -2163.978\n",
        "   30.50      -0.0      -0.0      -0.0      -0.0      -0.0 -2163.978\n",
        "   30.55      -0.0      -0.0      -0.0      -0.0      -0.0 -2163.978\n",
        "   30.60      -0.0      -0.0      -0.0      -0.0      -0.0 -2163.978\n",
        "   30.65      -0.0      -0.0      -0.0      -0.0      -0.0 -2163.978\n",
        "   30.70      -0.0      -0.0      -0.0      -0.0      -0.0 -2163.978\n",
        "   30.75      -0.0      -0.0      -0.0      -0.0      -0.0 -2163.978\n",
        "   30.80      -0.0      -0.0      -0.0      -0.0      -0.0 -2163.978\n",
        "   30.85      -0.0      -0.0      -0.0      -0.0      -0.0 -2163.978\n",
        "   30.90      -0.0      -0.0      -0.0      -0.0      -0.0 -2163.978\n",
        "   30.95      -0.0      -0.0      -0.0      -0.0      -0.0 -2163.978\n",
        "   31.00      -0.0      -0.0      -0.0      -0.0      -0.0 -2163.978\n",
        "   31.05      -0.0      -0.0      -0.0      -0.0      -0.0 -2163.978\n",
        "   31.10      -0.0      -0.0      -0.0      -0.0      -0.0 -2163.978\n",
        "   31.15      -0.0      -0.0      -0.0      -0.0      -0.0 -2163.978\n",
        "   31.20      -0.0      -0.0      -0.0      -0.0      -0.0 -2163.978\n",
        "   31.25      -0.0      -0.0      -0.0      -0.0      -0.0 -2163.978\n",
        "   31.30      -0.0      -0.0      -0.0      -0.0      -0.0 -2163.978\n",
        "   31.35      -0.0      -0.0      -0.0      -0.0      -0.0 -2163.978\n",
        "   31.40      -0.0      -0.0      -0.0      -0.0      -0.0 -2163.978\n",
        "   31.45      -0.0      -0.0      -0.0      -0.0      -0.0 -2163.978\n",
        "   31.50      -0.0      -0.0      -0.0      -0.0      -0.0 -2163.978\n",
        "   31.55      -0.0      -0.0      -0.0      -0.0      -0.0 -2163.978\n",
        "   31.60      -0.0      -0.0      -0.0      -0.0      -0.0 -2163.978\n",
        "   31.65      -0.0      -0.0      -0.0      -0.0      -0.0 -2163.978\n",
        "   31.70      -0.0      -0.0      -0.0      -0.0      -0.0 -2163.978\n",
        "   31.75      -0.0      -0.0      -0.0      -0.0      -0.0 -2163.978\n",
        "   31.80      -0.0      -0.0      -0.0      -0.0      -0.0 -2163.978\n",
        "   31.85      -0.0      -0.0      -0.0      -0.0      -0.0 -2163.978\n",
        "   31.90      -0.0      -0.0      -0.0      -0.0      -0.0 -2163.978\n",
        "   31.95      -0.0      -0.0      -0.0      -0.0      -0.0 -2163.978\n",
        "   32.00      -0.0      -0.0      -0.0      -0.0      -0.0 -2163.978\n",
        "   32.05      -0.0      -0.0      -0.0      -0.0      -0.0 -2163.978\n",
        "   32.10      -0.0      -0.0      -0.0      -0.0      -0.0 -2163.978\n",
        "   32.15      -0.0      -0.0      -0.0      -0.0      -0.0 -2163.978\n",
        "   32.20      -0.0      -0.0      -0.0      -0.0      -0.0 -2163.978\n",
        "   32.25      -0.0      -0.0      -0.0      -0.0      -0.0 -2163.978\n",
        "   32.30      -0.0      -0.0      -0.0      -0.0      -0.0 -2163.978\n",
        "   32.35      -0.0      -0.0      -0.0      -0.0      -0.0 -2163.978\n",
        "   32.40      -0.0      -0.0      -0.0      -0.0      -0.0 -2163.978\n",
        "   32.45      -0.0      -0.0      -0.0      -0.0      -0.0 -2163.978\n",
        "   32.50      -0.0      -0.0      -0.0      -0.0      -0.0 -2163.978\n",
        "   32.55      -0.0      -0.0      -0.0      -0.0      -0.0 -2163.978\n",
        "   32.60      -0.0      -0.0      -0.0      -0.0      -0.0 -2163.978\n",
        "   32.65      -0.0      -0.0      -0.0      -0.0      -0.0 -2163.978\n",
        "   32.70      -0.0      -0.0      -0.0      -0.0      -0.0 -2163.978\n",
        "   32.75      -0.0      -0.0      -0.0      -0.0      -0.0 -2163.978\n",
        "   32.80      -0.0      -0.0      -0.0      -0.0      -0.0 -2163.978\n",
        "   32.85      -0.0      -0.0      -0.0      -0.0      -0.0 -2163.978\n",
        "   32.90      -0.0      -0.0      -0.0      -0.0      -0.0 -2163.978\n",
        "   32.95      -0.0      -0.0      -0.0      -0.0      -0.0 -2163.978\n",
        "   33.00      -0.0      -0.0      -0.0      -0.0      -0.0 -2163.978\n",
        "   33.05      -0.0      -0.0      -0.0      -0.0      -0.0 -2163.978\n",
        "   33.10      -0.0      -0.0      -0.0      -0.0      -0.0 -2163.978\n",
        "   33.15      -0.0      -0.0      -0.0      -0.0      -0.0 -2163.978\n",
        "   33.20      -0.0      -0.0      -0.0      -0.0      -0.0 -2163.978\n",
        "   33.25      -0.0      -0.0      -0.0      -0.0      -0.0 -2163.978\n",
        "   33.30      -0.0      -0.0      -0.0      -0.0      -0.0 -2163.978\n",
        "   33.35      -0.0      -0.0      -0.0      -0.0      -0.0 -2163.978\n",
        "   33.40      -0.0      -0.0      -0.0      -0.0      -0.0 -2163.978\n",
        "   33.45      -0.0      -0.0      -0.0      -0.0      -0.0 -2163.978\n",
        "   33.50      -0.0      -0.0      -0.0      -0.0      -0.0 -2163.978\n",
        "   33.55      -0.0      -0.0      -0.0      -0.0      -0.0 -2163.978\n",
        "   33.60      -0.0      -0.0      -0.0      -0.0      -0.0 -2163.978\n",
        "   33.65      -0.0      -0.0      -0.0      -0.0      -0.0 -2163.978\n",
        "   33.70      -0.0      -0.0      -0.0      -0.0      -0.0 -2163.978\n",
        "   33.75      -0.0      -0.0      -0.0      -0.0      -0.0 -2163.978\n",
        "   33.80      -0.0      -0.0      -0.0      -0.0      -0.0 -2163.978\n",
        "   33.85      -0.0      -0.0      -0.0      -0.0      -0.0 -2163.978\n",
        "   33.90      -0.0      -0.0      -0.0      -0.0      -0.0 -2163.978\n",
        "   33.95      -0.0      -0.0      -0.0      -0.0      -0.0 -2163.978\n",
        "   34.00      -0.0      -0.0      -0.0      -0.0      -0.0 -2163.978\n",
        "   34.05      -0.0      -0.0      -0.0      -0.0      -0.0 -2163.978\n",
        "   34.10      -0.0      -0.0      -0.0      -0.0      -0.0 -2163.978\n",
        "   34.15      -0.0      -0.0      -0.0      -0.0      -0.0 -2163.978\n",
        "   34.20      -0.0      -0.0      -0.0      -0.0      -0.0 -2163.978\n",
        "   34.25      -0.0      -0.0      -0.0      -0.0      -0.0 -2163.978\n",
        "   34.30      -0.0      -0.0      -0.0      -0.0      -0.0 -2163.978\n",
        "   34.35      -0.0      -0.0      -0.0      -0.0      -0.0 -2163.978\n",
        "   34.40      -0.0      -0.0      -0.0      -0.0      -0.0 -2163.978\n",
        "   34.45      -0.0      -0.0      -0.0      -0.0      -0.0 -2163.978\n",
        "   34.50      -0.0      -0.0      -0.0      -0.0      -0.0 -2163.978\n",
        "   34.55      -0.0      -0.0      -0.0      -0.0      -0.0 -2163.978\n",
        "   34.60      -0.0      -0.0      -0.0      -0.0      -0.0 -2163.978\n",
        "   34.65      -0.0      -0.0      -0.0      -0.0      -0.0 -2163.978\n",
        "   34.70      -0.0      -0.0      -0.0      -0.0      -0.0 -2163.978\n",
        "   34.75      -0.0      -0.0      -0.0      -0.0      -0.0 -2163.978\n",
        "   34.80      -0.0      -0.0      -0.0      -0.0      -0.0 -2163.978\n",
        "   34.85      -0.0      -0.0      -0.0      -0.0      -0.0 -2163.978\n",
        "   34.90      -0.0      -0.0      -0.0      -0.0      -0.0 -2163.978\n",
        "   34.95      -0.0      -0.0      -0.0      -0.0      -0.0 -2163.978\n",
        "   35.00      -0.0      -0.0      -0.0      -0.0      -0.0 -2163.978\n",
        "   35.05      -0.0      -0.0    18.000      -0.0      -0.0    38.952\n",
        "   35.10      -0.0      -0.0    26.000      -0.0      -0.0    56.264\n",
        "   35.15      -0.0      -0.0    24.000      -0.0      -0.0    51.936\n",
        "   35.20      -0.0      -0.0    17.000      -0.0      -0.0    36.788\n",
        "   35.25      -0.0      -0.0    23.000      -0.0      -0.0    49.772\n",
        "   35.30      -0.0      -0.0    33.000      -0.0      -0.0    71.412\n",
        "   35.35      -0.0      -0.0    25.000      -0.0      -0.0    54.100\n",
        "   35.40      -0.0      -0.0    33.000      -0.0      -0.0    71.412\n",
        "   35.45      -0.0      -0.0    20.000      -0.0      -0.0    43.280\n",
        "   35.50      -0.0      -0.0    22.000      -0.0      -0.0    47.608\n",
        "   35.55      -0.0      -0.0    28.000      -0.0      -0.0    60.592\n",
        "   35.60      -0.0      -0.0    22.000      -0.0      -0.0    47.608\n",
        "   35.65      -0.0      -0.0    27.000      -0.0      -0.0    58.428\n",
        "   35.70      -0.0      -0.0    23.000      -0.0      -0.0    49.772\n",
        "   35.75      -0.0      -0.0    23.000      -0.0      -0.0    49.772\n",
        "   35.80      -0.0      -0.0    28.000      -0.0      -0.0    60.592\n",
        "   35.85      -0.0      -0.0    21.000      -0.0      -0.0    45.444\n",
        "   35.90      -0.0      -0.0    20.000      -0.0      -0.0    43.280\n",
        "   35.95      -0.0      -0.0    25.000      -0.0      -0.0    54.100\n",
        "   36.00      -0.0      -0.0    30.000      -0.0      -0.0    64.920\n",
        "   36.05      -0.0      -0.0    26.000      -0.0      -0.0    56.264\n",
        "   36.10      -0.0      -0.0    30.000      -0.0      -0.0    64.920\n",
        "   36.15      -0.0      -0.0    27.000      -0.0      -0.0    58.428\n",
        "   36.20      -0.0      -0.0    22.000      -0.0      -0.0    47.608\n",
        "   36.25      -0.0      -0.0    24.000      -0.0      -0.0    51.936\n",
        "   36.30      -0.0      -0.0    19.000      -0.0      -0.0    41.116\n",
        "   36.35      -0.0      -0.0    26.000      -0.0      -0.0    56.264\n",
        "   36.40      -0.0      -0.0    29.000      -0.0      -0.0    62.756\n",
        "   36.45      -0.0      -0.0    17.000      -0.0      -0.0    36.788\n",
        "   36.50      -0.0      -0.0    19.000      -0.0      -0.0    41.116\n",
        "   36.55      -0.0      -0.0    32.000      -0.0      -0.0    69.248\n",
        "   36.60      -0.0      -0.0    28.000      -0.0      -0.0    60.592\n",
        "   36.65      -0.0      -0.0    27.000      -0.0      -0.0    58.428\n",
        "   36.70      -0.0      -0.0    25.000      -0.0      -0.0    54.100\n",
        "   36.75      -0.0      -0.0    34.000      -0.0      -0.0    73.576\n",
        "   36.80      -0.0      -0.0    28.000      -0.0      -0.0    60.592\n",
        "   36.85      -0.0      -0.0    30.000      -0.0      -0.0    64.920\n",
        "   36.90      -0.0      -0.0    35.000      -0.0      -0.0    75.740\n",
        "   36.95 11939.000      -0.0    31.000  2393.000      -0.0    67.084\n",
        "   37.00 12149.000      -0.0    22.000  2346.000      -0.0    47.608\n",
        "   37.05 12085.000      -0.0    31.000  2313.000      -0.0    67.084\n",
        "   37.10 12181.000      -0.0    20.000  2479.000      -0.0    43.280\n",
        "   37.15 12338.000  2393.000    29.000  2429.000 11939.000    62.756\n",
        "   37.20 12180.000  2346.000    32.000  2429.000 12149.000    69.248\n",
        "   37.25 12027.000  2313.000    27.000  2491.000 12085.000    58.428\n",
        "   37.30 12272.000  2479.000    37.000  2453.000 12181.000    80.068\n",
        "   37.35 12356.000  2429.000    33.000  2511.000 12338.000    71.412\n",
        "   37.40 12398.000  2429.000    23.000  2421.000 12180.000    49.772\n",
        "   37.45 12121.000  2491.000    28.000  2482.000 12027.000    60.592\n",
        "   37.50 12275.000  2453.000    18.000  2494.000 12272.000    38.952\n",
        "   37.55 12305.000  2511.000    23.000  2449.000 12356.000    49.772\n",
        "   37.60 12115.000  2421.000    26.000  2541.000 12398.000    56.264\n",
        "   37.65 12236.000  2482.000    30.000  2499.000 12121.000    64.920\n",
        "   37.70 12382.000  2494.000    24.000  2520.000 12275.000    51.936\n",
        "   37.75 12264.000  2449.000    19.000  2384.000 12305.000    41.116\n",
        "   37.80 12246.000  2541.000    16.000  2533.000 12115.000    34.624\n",
        "   37.85 12285.000  2499.000    30.000  2490.000 12236.000    64.920\n",
        "   37.90 12347.000  2520.000    21.000  2470.000 12382.000    45.444\n",
        "   37.95 12531.000  2384.000    26.000  2410.000 12264.000    56.264\n",
        "   38.00 12581.000  2533.000    22.000  2512.000 12246.000    47.608\n",
        "   38.05 12534.000  2490.000    21.000  2446.000 12285.000    45.444\n",
        "   38.10 12574.000  2470.000    22.000  2471.000 12347.000    47.608\n",
        "   38.15 12147.000  2410.000    16.000  2581.000 12531.000    34.624\n",
        "   38.20 12216.000  2512.000    23.000  2614.000 12581.000    49.772\n",
        "   38.25 12455.000  2446.000    26.000  2468.000 12534.000    56.264\n",
        "   38.30 12566.000  2471.000    26.000  2492.000 12574.000    56.264\n",
        "   38.35 12503.000  2581.000    21.000  2566.000 12147.000    45.444\n",
        "   38.40 12783.000  2614.000    21.000  2609.000 12216.000    45.444\n",
        "   38.45 12960.000  2468.000    31.000  2654.000 12455.000    67.084\n",
        "   38.50 12778.000  2492.000    33.000  2540.000 12566.000    71.412\n",
        "   38.55 12808.000  2566.000    26.000  2654.000 12503.000    56.264\n",
        "   38.60 12624.000  2609.000    21.000  2646.000 12783.000    45.444\n",
        "   38.65 12681.000  2654.000    27.000  2602.000 12960.000    58.428\n",
        "   38.70 12769.000  2540.000    28.000  2579.000 12778.000    60.592\n",
        "   38.75 12527.000  2654.000    35.000  2613.000 12808.000    75.740\n",
        "   38.80 12496.000  2646.000    30.000  2635.000 12624.000    64.920\n",
        "   38.85 12347.000  2602.000    21.000  2581.000 12681.000    45.444\n",
        "   38.90 12412.000  2579.000    33.000  2579.000 12769.000    71.412\n",
        "   38.95 12466.000  2613.000    34.000  2572.000 12527.000    73.576\n",
        "   39.00 12397.000  2635.000    22.000  2552.000 12496.000    47.608\n",
        "   39.05 12469.000  2581.000    33.000  2519.000 12347.000    71.412\n",
        "   39.10 12413.000  2579.000    21.000  2682.000 12412.000    45.444\n",
        "   39.15 12667.000  2572.000    23.000  2585.000 12466.000    49.772\n",
        "   39.20 12511.000  2552.000    24.000  2633.000 12397.000    51.936\n",
        "   39.25 12657.000  2519.000    23.000  2677.000 12469.000    49.772\n",
        "   39.30 12519.000  2682.000    25.000  2636.000 12413.000    54.100\n",
        "   39.35 12602.000  2585.000    20.000  2585.000 12667.000    43.280\n",
        "   39.40 12519.000  2633.000    26.000  2617.000 12511.000    56.264\n",
        "   39.45 12475.000  2677.000    28.000  2613.000 12657.000    60.592\n",
        "   39.50 12608.000  2636.000    20.000  2666.000 12519.000    43.280\n",
        "   39.55 12566.000  2585.000    21.000  2603.000 12602.000    45.444\n",
        "   39.60 12554.000  2617.000    27.000  2622.000 12519.000    58.428\n",
        "   39.65 12462.000  2613.000    30.000  2612.000 12475.000    64.920\n",
        "   39.70 12362.000  2666.000    31.000  2540.000 12608.000    67.084\n",
        "   39.75 12359.000  2603.000    27.000  2594.000 12566.000    58.428\n",
        "   39.80 11949.000  2622.000    27.000  2536.000 12554.000    58.428\n",
        "   39.85 12057.000  2612.000    38.000  2482.000 12462.000    82.232\n",
        "   39.90 11941.000  2540.000    17.000  2453.000 12362.000    36.788\n",
        "   39.95 12055.000  2594.000    23.000  2445.000 12359.000    49.772\n",
        "   40.00 11891.000  2536.000    21.000  2385.000 11949.000    45.444\n",
        "   40.05 12215.000  2482.000    27.000  2485.000 12057.000    58.428\n",
        "   40.10 12261.000  2453.000    18.000  2481.000 11941.000    38.952\n",
        "   40.15 12275.000  2445.000    21.000  2546.000 12055.000    45.444\n",
        "   40.20 12374.000  2385.000    27.000  2492.000 11891.000    58.428\n",
        "   40.25 12365.000  2485.000    27.000  2442.000 12215.000    58.428\n",
        "   40.30 12084.000  2481.000    25.000  2481.000 12261.000    54.100\n",
        "   40.35 12279.000  2546.000    22.000  2492.000 12275.000    47.608\n",
        "   40.40 12246.000  2492.000    22.000  2443.000 12374.000    47.608\n",
        "   40.45 12144.000  2442.000    20.000  2345.000 12365.000    43.280\n",
        "   40.50 12397.000  2481.000    24.000  2477.000 12084.000    51.936\n",
        "   40.55 12128.000  2492.000    25.000  2427.000 12279.000    54.100\n",
        "   40.60 11909.000  2443.000    22.000  2381.000 12246.000    47.608\n",
        "   40.65 11839.000  2345.000    28.000  2401.000 12144.000    60.592\n",
        "   40.70 11830.000  2477.000    19.000  2424.000 12397.000    41.116\n",
        "   40.75 11923.000  2427.000    27.000  2370.000 12128.000    58.428\n",
        "   40.80 12124.000  2381.000    26.000  2460.000 11909.000    56.264\n",
        "   40.85 12371.000  2401.000    28.000  2548.000 11839.000    60.592\n",
        "   40.90 12370.000  2424.000    17.000  2544.000 11830.000    36.788\n",
        "   40.95 12322.000  2370.000    24.000  2526.000 11923.000    51.936\n",
        "   41.00 12579.000  2460.000    25.000  2578.000 12124.000    54.100\n",
        "   41.05 12611.000  2548.000    10.000  2555.000 12371.000    21.640\n",
        "   41.10 12487.000  2544.000    24.000  2556.000 12370.000    51.936\n",
        "   41.15 12680.000  2526.000    21.000  2532.000 12322.000    45.444\n",
        "   41.20 12673.000  2578.000    20.000  2465.000 12579.000    43.280\n",
        "   41.25 12622.000  2555.000    22.000  2483.000 12611.000    47.608\n",
        "   41.30 12546.000  2556.000    26.000  2541.000 12487.000    56.264\n",
        "   41.35 12315.000  2532.000    25.000  2602.000 12680.000    54.100\n",
        "   41.40 12466.000  2465.000    29.000  2448.000 12673.000    62.756\n",
        "   41.45 11981.000  2483.000    31.000  2400.000 12622.000    67.084\n",
        "   41.50 11958.000  2541.000    30.000  2469.000 12546.000    64.920\n",
        "   41.55 12053.000  2602.000    27.000  2423.000 12315.000    58.428\n",
        "   41.60 12022.000  2448.000    22.000  2311.000 12466.000    47.608\n",
        "   41.65 12082.000  2400.000    25.000  2431.000 11981.000    54.100\n",
        "   41.70 12493.000  2469.000    38.000  2526.000 11958.000    82.232\n",
        "   41.75 12828.000  2423.000    26.000  2621.000 12053.000    56.264\n",
        "   41.80 13329.000  2311.000    22.000  2652.000 12022.000    47.608\n",
        "   41.85 13574.000  2431.000    22.000  2766.000 12082.000    47.608\n",
        "   41.90 13945.000  2526.000    30.000  2771.000 12493.000    64.920\n",
        "   41.95 14206.000  2621.000    30.000  2815.000 12828.000    64.920\n",
        "   42.00 14142.000  2652.000    29.000  2842.000 13329.000    62.756\n",
        "   42.05 14537.000  2766.000    28.000  2880.000 13574.000    60.592\n",
        "   42.10 14116.000  2771.000    22.000  2764.000 13945.000    47.608\n",
        "   42.15 13230.000  2815.000    20.000  2699.000 14206.000    43.280\n",
        "   42.20 11236.000  2842.000    27.000  2334.000 14142.000    58.428\n",
        "   42.25  9474.000  2880.000    31.000  2039.000 14537.000    67.084\n",
        "   42.30  7929.000  2764.000    17.000  1687.000 14116.000    36.788\n",
        "   42.35  6755.000  2699.000    21.000  1537.000 13230.000    45.444\n",
        "   42.40  6619.000  2334.000    34.000  1447.000 11236.000    73.576\n",
        "   42.45  5844.000  2039.000    35.000  1425.000  9474.000    75.740\n",
        "   42.50  6252.000  1687.000    44.000  1270.000  7929.000    95.216\n",
        "   42.55  6879.000  1537.000    74.000  1188.000  6755.000   160.136\n",
        "   42.60  7913.000  1447.000    83.000  1207.000  6619.000   179.612\n",
        "   42.65  9498.000  1425.000   119.000  1245.000  5844.000   257.516\n",
        "   42.70 11297.000  1270.000   111.000  1402.000  6252.000   240.204\n",
        "   42.75 12202.000  1188.000   134.000  1555.000  6879.000   289.976\n",
        "   42.80 12523.000  1207.000   209.000  1844.000  7913.000   452.276\n",
        "   42.85 12143.000  1245.000   397.000  1876.000  9498.000   859.108\n",
        "   42.90 11429.000  1402.000   738.000  2069.000 11297.000  1597.032\n",
        "   42.95 10942.000  1555.000  1061.000  2109.000 12202.000  2296.004\n",
        "   43.00 10374.000  1844.000  1673.000  2060.000 12523.000  3620.372\n",
        "   43.05  9970.000  1876.000  2375.000  1937.000 12143.000  5139.500\n",
        "   43.10  9655.000  2069.000  3216.000  1882.000 11429.000  6959.424\n",
        "   43.15  9448.000  2109.000  3621.000  1765.000 10942.000  7835.844\n",
        "   43.20  9157.000  2060.000  4827.000  1797.000 10374.000 10445.628\n",
        "   43.25  9139.000  1937.000  5928.000  1979.000  9970.000 12828.192\n",
        "   43.30  9215.000  1882.000  6939.000  2117.000  9655.000 15015.996\n",
        "   43.35  9413.000  1765.000  7269.000  2636.000  9448.000 15730.116\n",
        "   43.40  9497.000  1797.000  7493.000  3174.000  9157.000 16214.852\n",
        "   43.45  9930.000  1979.000  7558.000  3826.000  9139.000 16355.512\n",
        "   43.50 10177.000  2117.000  7667.000  4754.000  9215.000 16591.388\n",
        "   43.55  9955.000  2636.000  8404.000  5681.000  9413.000 18186.256\n",
        "   43.60 10284.000  3174.000  8679.000  6830.000  9497.000 18781.356\n",
        "   43.65 10229.000  3826.000  8770.000  7674.000  9930.000 18978.280\n",
        "   43.70 10115.000  4754.000  8754.000  8257.000 10177.000 18943.656\n",
        "   43.75 10342.000  5681.000  8681.000  8477.000  9955.000 18785.684\n",
        "   43.80 10342.000  6830.000  8646.000  8477.000 10284.000 18709.944\n",
        "   43.85 10578.000  7674.000  8476.000  8601.000 10229.000 18342.064\n",
        "   43.90 10866.000  8257.000  8535.000  8838.000 10115.000 18469.740\n",
        "   43.95 10995.000  8477.000  8127.000  9479.000 10342.000 17586.828\n",
        "   44.00 11101.000  8477.000  7134.000  9661.000 10342.000 15437.976\n",
        "   44.05 11599.000  8601.000  4792.000  9763.000 10578.000 10369.888\n",
        "   44.10 11870.000  8838.000  2383.000  9797.000 10866.000  5156.812\n",
        "   44.15 12373.000  9479.000  1128.000  9719.000 10995.000  2440.992\n",
        "   44.20 12431.000  9661.000   580.000  9779.000 11101.000  1255.120\n",
        "   44.25 11472.000  9763.000   378.000  9677.000 11599.000   817.992\n",
        "   44.30 10406.000  9797.000   260.000  9235.000 11870.000   562.640\n",
        "   44.35  9986.000  9719.000   201.000  8711.000 12373.000   434.964\n",
        "   44.40  9897.000  9779.000   110.000  7930.000 12431.000   238.040\n",
        "   44.45  9437.000  9677.000    83.000  5436.000 11472.000   179.612\n",
        "   44.50  9054.000  9235.000    45.000  3250.000 10406.000    97.380\n",
        "   44.55  9010.000  8711.000    34.000  2474.000  9986.000    73.576\n",
        "   44.60  8913.000  7930.000    23.000  1938.000  9897.000    49.772\n",
        "   44.65  8965.000  5436.000    15.000  1779.000  9437.000    32.460\n",
        "   44.70  8809.000  3250.000    17.000  1705.000  9054.000    36.788\n",
        "   44.75  8875.000  2474.000    10.000  1528.000  9010.000    21.640\n",
        "   44.80  9108.000  1938.000    13.000  1467.000  8913.000    28.132\n",
        "   44.85  8889.000  1779.000    14.000  1394.000  8965.000    30.296\n",
        "   44.90  9080.000  1705.000     9.000  1340.000  8809.000    19.476\n",
        "   44.95  8951.000  1528.000    11.000  1333.000  8875.000    23.804\n",
        "   45.00  8907.000  1467.000    13.000  1392.000  9108.000    28.132\n",
        "   45.05  9031.000  1394.000    10.000  1461.000  8889.000    21.640\n",
        "   45.10  8940.000  1340.000    11.000  1412.000  9080.000    23.804\n",
        "   45.15  9222.000  1333.000     9.000  1340.000  8951.000    19.476\n",
        "   45.20  9400.000  1392.000    11.000  1409.000  8907.000    23.804\n",
        "   45.25  9180.000  1461.000     9.000  1424.000  9031.000    19.476\n",
        "   45.30  9640.000  1412.000    14.000  1476.000  8940.000    30.296\n",
        "   45.35  9540.000  1340.000    11.000  1502.000  9222.000    23.804\n",
        "   45.40  9788.000  1409.000    10.000  1546.000  9400.000    21.640\n",
        "   45.45  9817.000  1424.000    13.000  1567.000  9180.000    28.132\n",
        "   45.50  9794.000  1476.000     6.000  1594.000  9640.000    12.984\n",
        "   45.55  9811.000  1502.000    10.000  1517.000  9540.000    21.640\n",
        "   45.60  9898.000  1546.000    14.000  1622.000  9788.000    30.296\n",
        "   45.65  9862.000  1567.000    10.000  1509.000  9817.000    21.640\n",
        "   45.70  9772.000  1594.000    10.000  1552.000  9794.000    21.640\n",
        "   45.75  9753.000  1517.000    16.000  1644.000  9811.000    34.624\n",
        "   45.80  9841.000  1622.000    11.000  1681.000  9898.000    23.804\n",
        "   45.85  9939.000  1509.000    24.000  1706.000  9862.000    51.936\n",
        "   45.90 10113.000  1552.000    18.000  1595.000  9772.000    38.952\n",
        "   45.95 10230.000  1644.000    16.000  1721.000  9753.000    34.624\n",
        "   46.00 10607.000  1681.000    19.000  1679.000  9841.000    41.116\n",
        "   46.05 10977.000  1706.000    11.000  1763.000  9939.000    23.804\n",
        "   46.10 11221.000  1595.000    17.000  1913.000 10113.000    36.788\n",
        "   46.15 11940.000  1721.000    16.000  1937.000 10230.000    34.624\n",
        "   46.20 12296.000  1679.000     9.000  2061.000 10607.000    19.476\n",
        "   46.25 11972.000  1763.000    16.000  2043.000 10977.000    34.624\n",
        "   46.30 11064.000  1913.000     8.000  1913.000 11221.000    17.312\n",
        "   46.35  9884.000  1937.000    10.000  1736.000 11940.000    21.640\n",
        "   46.40  9558.000  2061.000     8.000  1665.000 12296.000    17.312\n",
        "   46.45  8796.000  2043.000    17.000  1429.000 11972.000    36.788\n",
        "   46.50  8021.000  1913.000    10.000  1447.000 11064.000    21.640\n",
        "   46.55  7103.000  1736.000    10.000  1366.000  9884.000    21.640\n",
        "   46.60  6060.000  1665.000     8.000  1237.000  9558.000    17.312\n",
        "   46.65  5354.000  1429.000     8.000  1167.000  8796.000    17.312\n",
        "   46.70  5323.000  1447.000    12.000  1071.000  8021.000    25.968\n",
        "   46.75  5685.000  1366.000     9.000  1069.000  7103.000    19.476\n",
        "   46.80  6413.000  1237.000     8.000  1019.000  6060.000    17.312\n",
        "   46.85  6954.000  1167.000    12.000  1047.000  5354.000    25.968\n",
        "   46.90  7551.000  1071.000    15.000  1082.000  5323.000    32.460\n",
        "   46.95  8104.000  1069.000    15.000  1188.000  5685.000    32.460\n",
        "   47.00  8563.000  1019.000    12.000  1242.000  6413.000    25.968\n",
        "   47.05  9812.000  1047.000     8.000  1245.000  6954.000    17.312\n",
        "   47.10 11420.000  1082.000    13.000  1455.000  7551.000    28.132\n",
        "   47.15 12546.000  1188.000    11.000  1575.000  8104.000    23.804\n",
        "   47.20 12511.000  1242.000    21.000  1758.000  8563.000    45.444\n",
        "   47.25 12557.000  1245.000    15.000  2017.000  9812.000    32.460\n",
        "   47.30 12542.000  1455.000    21.000  2269.000 11420.000    45.444\n",
        "   47.35 12487.000  1575.000    17.000  2399.000 12546.000    36.788\n",
        "   47.40 12668.000  1758.000    12.000  2482.000 12511.000    25.968\n",
        "   47.45 12877.000  2017.000    20.000  2482.000 12557.000    43.280\n",
        "   47.50 12928.000  2269.000    18.000  2484.000 12542.000    38.952\n",
        "   47.55 12895.000  2399.000    20.000  2511.000 12487.000    43.280\n",
        "   47.60 12966.000  2482.000    22.000  2476.000 12668.000    47.608\n",
        "   47.65 13144.000  2482.000    13.000  2492.000 12877.000    28.132\n",
        "   47.70 13393.000  2484.000    20.000  2547.000 12928.000    43.280\n",
        "   47.75 13440.000  2511.000    17.000  2623.000 12895.000    36.788\n",
        "   47.80 13247.000  2476.000    15.000  2583.000 12966.000    32.460\n",
        "   47.85 13469.000  2492.000     9.000  2663.000 13144.000    19.476\n",
        "   47.90 13345.000  2547.000    12.000  2795.000 13393.000    25.968\n",
        "   47.95 13737.000  2623.000    13.000  2842.000 13440.000    28.132\n",
        "   48.00 15383.000  2583.000    22.000  3144.000 13247.000    47.608\n",
        "   48.05 16529.000  2663.000    15.000  3438.000 13469.000    32.460\n",
        "   48.10 17129.000  2795.000    12.000  3533.000 13345.000    25.968\n",
        "   48.15 17649.000  2842.000    10.000  3702.000 13737.000    21.640\n",
        "   48.20 17994.000  3144.000    14.000  3719.000 15383.000    30.296\n",
        "   48.25 18309.000  3438.000    15.000  3772.000 16529.000    32.460\n",
        "   48.30 18099.000  3533.000    13.000  3898.000 17129.000    28.132\n",
        "   48.35 16830.000  3702.000    16.000  4009.000 17649.000    34.624\n",
        "   48.40 15575.000  3719.000    14.000  4067.000 17994.000    30.296\n",
        "   48.45 15885.000  3772.000    21.000  4138.000 18309.000    45.444\n",
        "   48.50 15439.000  3898.000    40.000  3881.000 18099.000    86.560\n",
        "   48.55 14347.000  4009.000    67.000  3339.000 16830.000   144.988\n",
        "   48.60 13060.000  4067.000   144.000  2980.000 15575.000   311.616\n",
        "   48.65 11939.000  4138.000   334.000  2666.000 15885.000   722.776\n",
        "   48.70 11628.000  3881.000   908.000  2489.000 15439.000  1964.912\n",
        "   48.75 11102.000  3339.000  1210.000  2419.000 14347.000  2618.440\n",
        "   48.80  9981.000  2980.000  1585.000  2295.000 13060.000  3429.940\n",
        "   48.85  8112.000  2666.000  1661.000  2105.000 11939.000  3594.404\n",
        "   48.90  7137.000  2489.000  1682.000  2139.000 11628.000  3639.848\n",
        "   48.95  7177.000  2419.000  1563.000  2057.000 11102.000  3382.332\n",
        "   49.00  7634.000  2295.000  1535.000  2068.000  9981.000  3321.740\n",
        "   49.05  8383.000  2105.000  1562.000  2095.000  8112.000  3380.168\n",
        "   49.10  8967.000  2139.000  1379.000  2508.000  7137.000  2984.156\n",
        "   49.15  9904.000  2057.000   824.000  3015.000  7177.000  1783.136\n",
        "   49.20 10815.000  2068.000   314.000  3194.000  7634.000   679.496\n",
        "   49.25 12512.000  2095.000   208.000  3515.000  8383.000   450.112\n",
        "   49.30 14487.000  2508.000   167.000  3651.000  8967.000   361.388\n",
        "   49.35 15558.000  3015.000   159.000  3956.000  9904.000   344.076\n",
        "   49.40 16338.000  3194.000   114.000  4303.000 10815.000   246.696\n",
        "   49.45 16441.000  3515.000   102.000  4631.000 12512.000   220.728\n",
        "   49.50 16717.000  3651.000   119.000  5013.000 14487.000   257.516\n",
        "   49.55 17081.000  3956.000   132.000  5069.000 15558.000   285.648\n",
        "   49.60 17280.000  4303.000   124.000  4705.000 16338.000   268.336\n",
        "   49.65 15984.000  4631.000   126.000  4469.000 16441.000   272.664\n",
        "   49.70 14861.000  5013.000   129.000  4031.000 16717.000   279.156\n",
        "   49.75 13845.000  5069.000   140.000  3665.000 17081.000   302.960\n",
        "   49.80 12597.000  4705.000   130.000  3243.000 17280.000   281.320\n",
        "   49.85 11930.000  4469.000   146.000  3168.000 15984.000   315.944\n",
        "   49.90 11384.000  4031.000   161.000  2889.000 14861.000   348.404\n",
        "   49.95 11105.000  3665.000   137.000  2694.000 13845.000   296.468\n",
        "   50.00 10790.000  3243.000   120.000  2552.000 12597.000   259.680\n",
        "   50.05 11168.000  3168.000   131.000  2369.000 11930.000   283.484\n",
        "   50.10 11337.000  2889.000   128.000  2324.000 11384.000   276.992\n",
        "   50.15 11984.000  2694.000   141.000  2274.000 11105.000   305.124\n",
        "   50.20 12286.000  2552.000   136.000  2207.000 10790.000   294.304\n",
        "   50.25 12613.000  2369.000   128.000  2201.000 11168.000   276.992\n",
        "   50.30 12334.000  2324.000   118.000  2324.000 11337.000   255.352\n",
        "   50.35 12176.000  2274.000   147.000  2288.000 11984.000   318.108\n",
        "   50.40 11564.000  2207.000   123.000  2341.000 12286.000   266.172\n",
        "   50.45 11239.000  2201.000   131.000  2365.000 12613.000   283.484\n",
        "   50.50 10903.000  2324.000   111.000  2304.000 12334.000   240.204\n",
        "   50.55 10385.000  2288.000   117.000  2237.000 12176.000   253.188\n",
        "   50.60 10222.000  2341.000   121.000  2014.000 11564.000   261.844\n",
        "   50.65  9675.000  2365.000   135.000  1978.000 11239.000   292.140\n",
        "   50.70  9109.000  2304.000   126.000  1944.000 10903.000   272.664\n",
        "   50.75  8837.000  2237.000   179.000  1846.000 10385.000   387.356\n",
        "   50.80  8558.000  2014.000   286.000  1658.000 10222.000   618.904\n",
        "   50.85  8068.000  1978.000   668.000  1567.000  9675.000  1445.552\n",
        "   50.90  7696.000  1944.000  1426.000  1429.000  9109.000  3085.864\n",
        "   50.95  7164.000  1846.000  1824.000  1514.000  8837.000  3947.136\n",
        "   51.00  6549.000  1658.000  1909.000  1396.000  8558.000  4131.076\n",
        "   51.05  5536.000  1567.000  2016.000  1340.000  8068.000  4362.624\n",
        "   51.10  5472.000  1429.000  1995.000  1305.000  7696.000  4317.180\n",
        "   51.15  5628.000  1514.000  1955.000  1206.000  7164.000  4230.620\n",
        "   51.20  5640.000  1396.000  2010.000  1342.000  6549.000  4349.640\n",
        "   51.25  5574.000  1340.000  1996.000  1901.000  5536.000  4319.344\n",
        "   51.30  5586.000  1305.000  1966.000  2285.000  5472.000  4254.424\n",
        "   51.35  5663.000  1206.000  1887.000  2548.000  5628.000  4083.468\n",
        "   51.40  5867.000  1342.000  2013.000  2737.000  5640.000  4356.132\n",
        "   51.45  5857.000  1901.000  1991.000  2695.000  5574.000  4308.524\n",
        "   51.50  6033.000  2285.000  1860.000  2759.000  5586.000  4025.040\n",
        "   51.55  5978.000  2548.000  1497.000  2733.000  5663.000  3239.508\n",
        "   51.60  6276.000  2737.000     0.000  2735.000  5867.000     0.000\n",
        "   51.65  6493.000  2695.000      -0.0  2723.000  5857.000 -2163.978\n",
        "   51.70  6135.000  2759.000      -0.0  2787.000  6033.000 -2163.978\n",
        "   51.75  5891.000  2733.000      -0.0  2671.000  5978.000 -2163.978\n",
        "   51.80  5647.000  2735.000      -0.0  2806.000  6276.000 -2163.978\n",
        "   51.85  5145.000  2723.000      -0.0  2592.000  6493.000 -2163.978\n",
        "   51.90  4584.000  2787.000      -0.0  2270.000  6135.000 -2163.978\n",
        "   51.95  4191.000  2671.000      -0.0  1590.000  5891.000 -2163.978\n",
        "   52.00  3977.000  2806.000      -0.0  1095.000  5647.000 -2163.978\n",
        "   52.05  3845.000  2592.000      -0.0   781.000  5145.000 -2163.978\n",
        "   52.10  3532.000  2270.000      -0.0   629.000  4584.000 -2163.978\n",
        "   52.15  3451.000  1590.000      -0.0   610.000  4191.000 -2163.978\n",
        "   52.20  3315.000  1095.000      -0.0   532.000  3977.000 -2163.978\n",
        "   52.25  3294.000   781.000      -0.0   483.000  3845.000 -2163.978\n",
        "   52.30  3379.000   629.000      -0.0   464.000  3532.000 -2163.978\n",
        "   52.35  3301.000   610.000      -0.0   467.000  3451.000 -2163.978\n",
        "   52.40  3423.000   532.000      -0.0   475.000  3315.000 -2163.978\n",
        "   52.45  3582.000   483.000      -0.0   468.000  3294.000 -2163.978\n",
        "   52.50  3534.000   464.000      -0.0   447.000  3379.000 -2163.978\n",
        "   52.55  3493.000   467.000      -0.0   481.000  3301.000 -2163.978\n",
        "   52.60  3591.000   475.000      -0.0   488.000  3423.000 -2163.978\n",
        "   52.65  3494.000   468.000      -0.0   500.000  3582.000 -2163.978\n",
        "   52.70  3656.000   447.000      -0.0   451.000  3534.000 -2163.978\n",
        "   52.75  3729.000   481.000      -0.0   522.000  3493.000 -2163.978\n",
        "   52.80  3865.000   488.000      -0.0   520.000  3591.000 -2163.978\n",
        "   52.85  4336.000   500.000      -0.0   614.000  3494.000 -2163.978\n",
        "   52.90  4872.000   451.000      -0.0   666.000  3656.000 -2163.978\n",
        "   52.95  5147.000   522.000      -0.0   726.000  3729.000 -2163.978\n",
        "   53.00  5591.000   520.000      -0.0   674.000  3865.000 -2163.978\n",
        "   53.05  6501.000   614.000      -0.0   838.000  4336.000 -2163.978\n",
        "   53.10  7841.000   666.000      -0.0   895.000  4872.000 -2163.978\n",
        "   53.15  9318.000   726.000      -0.0   952.000  5147.000 -2163.978\n",
        "   53.20  9810.000   674.000      -0.0  1115.000  5591.000 -2163.978\n",
        "   53.25 10007.000   838.000      -0.0  1178.000  6501.000 -2163.978\n",
        "   53.30 10556.000   895.000      -0.0  1400.000  7841.000 -2163.978\n",
        "   53.35 10849.000   952.000      -0.0  1497.000  9318.000 -2163.978\n",
        "   53.40 10780.000  1115.000      -0.0  1730.000  9810.000 -2163.978\n",
        "   53.45 10855.000  1178.000      -0.0  1724.000 10007.000 -2163.978\n",
        "   53.50      -0.0  1400.000      -0.0      -0.0 10556.000 -2163.978\n",
        "   53.55      -0.0  1497.000      -0.0      -0.0 10849.000 -2163.978\n",
        "   53.60      -0.0  1730.000      -0.0      -0.0 10780.000 -2163.978\n",
        "   53.65      -0.0  1724.000      -0.0      -0.0 10855.000 -2163.978\n",
        "   53.70      -0.0  1791.000      -0.0      -0.0 10794.000 -2163.978\n",
        "\n"
       ]
      }
     ],
     "prompt_number": 37
    },
    {
     "cell_type": "code",
     "collapsed": false,
     "input": [],
     "language": "python",
     "metadata": {},
     "outputs": []
    }
   ],
   "metadata": {}
  }
 ]
}