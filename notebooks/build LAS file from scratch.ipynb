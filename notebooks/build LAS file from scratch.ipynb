{
 "cells": [
  {
   "cell_type": "markdown",
   "metadata": {},
   "source": [
    "# Building a LAS file from scratch\n",
    "\n",
    "This example shows:\n",
    "\n",
    "- Creating a pretend/synthetic data curve that we'll call \"SYNTH\", including some null values\n",
    "- Creating an empty LASFile object with a default header\n",
    "- Adding some information to the header\n",
    "- Adding the synthetic data to the LASFile object\n",
    "- Writing it to disk as both a LAS version 1.2 and 2.0 file\n",
    "- Re-loading the file and checking that the null values are interpreted correctly"
   ]
  },
  {
   "cell_type": "code",
   "execution_count": 1,
   "metadata": {
    "collapsed": false
   },
   "outputs": [
    {
     "name": "stdout",
     "output_type": "stream",
     "text": [
      "0.5.2\n"
     ]
    }
   ],
   "source": [
    "import lasio\n",
    "\n",
    "print(lasio.__version__)\n",
    "\n",
    "import datetime\n",
    "import numpy\n",
    "import os\n",
    "import matplotlib.pyplot as plt\n",
    "%matplotlib inline"
   ]
  },
  {
   "cell_type": "markdown",
   "metadata": {},
   "source": [
    "### Step 1\n",
    "\n",
    "Create some synthetic data, and make some of the values in the middle null values (``numpy.nan`` specifically). Note that of course every curve in a LAS file is recorded against a reference/index, either depth or time, so we create that array too."
   ]
  },
  {
   "cell_type": "code",
   "execution_count": 3,
   "metadata": {
    "collapsed": false
   },
   "outputs": [],
   "source": [
    "depths = numpy.arange(10, 50, 0.5)\n",
    "synth = numpy.log10(depths) * 10 + numpy.random.random(len(depths))\n",
    "synth[15:25] = numpy.nan   # Add some null values in the middle"
   ]
  },
  {
   "cell_type": "code",
   "execution_count": 4,
   "metadata": {
    "collapsed": false
   },
   "outputs": [
    {
     "data": {
      "text/plain": [
       "[<matplotlib.lines.Line2D at 0xb07aa4cc>]"
      ]
     },
     "execution_count": 4,
     "metadata": {},
     "output_type": "execute_result"
    },
    {
     "data": {
      "image/png": "[encoded data removed]",
      "text/plain": [
       "<matplotlib.figure.Figure at 0xb4dc078c>"
      ]
     },
     "metadata": {},
     "output_type": "display_data"
    }
   ],
   "source": [
    "plt.plot(depths, synth)"
   ]
  },
  {
   "cell_type": "markdown",
   "metadata": {},
   "source": [
    "### Step 2\n",
    "\n",
    "Create an empty LASFile object and review its header section"
   ]
  },
  {
   "cell_type": "code",
   "execution_count": 6,
   "metadata": {
    "collapsed": false
   },
   "outputs": [],
   "source": [
    "l = lasio.LASFile()"
   ]
  },
  {
   "cell_type": "code",
   "execution_count": 7,
   "metadata": {
    "collapsed": false
   },
   "outputs": [
    {
     "data": {
      "text/plain": [
       "{'~V': {'VERS': HeaderItem(mnemonic='VERS', unit='', value=2.0, descr='CWLS log ASCII Standard -VERSION 2.0'),\n",
       " 'WRAP': HeaderItem(mnemonic='WRAP', unit='', value='NO', descr='One line per depth step'),\n",
       " 'DLM': HeaderItem(mnemonic='DLM', unit='', value='SPACE', descr='Column Data Section Delimiter')},\n",
       " '~W': {'STRT': HeaderItem(mnemonic='STRT', unit='m', value=nan, descr='START DEPTH'),\n",
       " 'STOP': HeaderItem(mnemonic='STOP', unit='m', value=nan, descr='STOP DEPTH'),\n",
       " 'STEP': HeaderItem(mnemonic='STEP', unit='m', value=nan, descr='STEP'),\n",
       " 'NULL': HeaderItem(mnemonic='NULL', unit='', value=-9999.25, descr='NULL VALUE'),\n",
       " 'COMP': HeaderItem(mnemonic='COMP', unit='', value='', descr='COMPANY'),\n",
       " 'WELL': HeaderItem(mnemonic='WELL', unit='', value='', descr='WELL'),\n",
       " 'FLD': HeaderItem(mnemonic='FLD', unit='', value='', descr='FIELD'),\n",
       " 'LOC': HeaderItem(mnemonic='LOC', unit='', value='', descr='LOCATION'),\n",
       " 'PROV': HeaderItem(mnemonic='PROV', unit='', value='', descr='PROVINCE'),\n",
       " 'CNTY': HeaderItem(mnemonic='CNTY', unit='', value='', descr='COUNTY'),\n",
       " 'STAT': HeaderItem(mnemonic='STAT', unit='', value='', descr='STATE'),\n",
       " 'CTRY': HeaderItem(mnemonic='CTRY', unit='', value='', descr='COUNTRY'),\n",
       " 'SRVC': HeaderItem(mnemonic='SRVC', unit='', value='', descr='SERVICE COMPANY'),\n",
       " 'DATE': HeaderItem(mnemonic='DATE', unit='', value='', descr='DATE'),\n",
       " 'UWI': HeaderItem(mnemonic='UWI', unit='', value='', descr='UNIQUE WELL ID'),\n",
       " 'API': HeaderItem(mnemonic='API', unit='', value='', descr='API NUMBER')},\n",
       " '~C': [],\n",
       " '~P': {},\n",
       " '~O': }"
      ]
     },
     "execution_count": 7,
     "metadata": {},
     "output_type": "execute_result"
    }
   ],
   "source": [
    "l.header"
   ]
  },
  {
   "cell_type": "markdown",
   "metadata": {},
   "source": [
    "Let's add some information to the header: \n",
    "\n",
    "- the date\n",
    "- the operator (in the ~P section)\n",
    "- a description of the file in the ~O (Other) section."
   ]
  },
  {
   "cell_type": "markdown",
   "metadata": {},
   "source": [
    "First, let's change the date.\n",
    "\n",
    "Note that when changing the value of a ``HeaderItem`` like the ``well[\"DATE\"]`` object above, you must be careful to change the ``value`` attribute rather than the ``HeaderItem`` itself. (This will be made easier in the future.)"
   ]
  },
  {
   "cell_type": "code",
   "execution_count": 8,
   "metadata": {
    "collapsed": false
   },
   "outputs": [],
   "source": [
    "l.well[\"DATE\"].value = str(datetime.datetime.today())"
   ]
  },
  {
   "cell_type": "markdown",
   "metadata": {},
   "source": [
    "Next, let's make a new item in the ~Parameters section for the operator. To do this we need to make a new ``HeaderItem``:"
   ]
  },
  {
   "cell_type": "code",
   "execution_count": 10,
   "metadata": {
    "collapsed": false
   },
   "outputs": [],
   "source": [
    "# HeaderItem = namedlist(\"HeaderItem\", [\"mnemonic\", \"unit\", \"value\", \"descr\"])\n",
    "l.params[\"ENGI\"] = lasio.HeaderItem(\"ENGI\", \"\", \"kinverarity@hotmail.com\", \"Creator of this file...\")"
   ]
  },
  {
   "cell_type": "markdown",
   "metadata": {},
   "source": [
    "And finally, add some free text to the ~Other section:"
   ]
  },
  {
   "cell_type": "code",
   "execution_count": 11,
   "metadata": {
    "collapsed": false
   },
   "outputs": [],
   "source": [
    "l.other = \"Example of how to create a LAS file from scratch using las_reader\""
   ]
  },
  {
   "cell_type": "markdown",
   "metadata": {},
   "source": [
    "## Step 3\n",
    "\n",
    "Add the curves to the LAS file using the ``add_curve`` method:"
   ]
  },
  {
   "cell_type": "code",
   "execution_count": 12,
   "metadata": {
    "collapsed": false
   },
   "outputs": [],
   "source": [
    "l.add_curve(\"DEPT\", depths, unit=\"m\")\n",
    "l.add_curve(\"SYNTH\", synth, descr=\"Synthetic data\")"
   ]
  },
  {
   "cell_type": "markdown",
   "metadata": {},
   "source": [
    "## Step 4\n",
    "\n",
    "Now let's write out two files: one according to the LAS file specification version 1.2, and one according to 2.0. Note that by default an empty ``LASFile`` object is version 2.0."
   ]
  },
  {
   "cell_type": "code",
   "execution_count": 16,
   "metadata": {
    "collapsed": false,
    "scrolled": true
   },
   "outputs": [
    {
     "name": "stdout",
     "output_type": "stream",
     "text": [
      "~Version ---------------------------------------------------\n",
      "VERS      .                                     1.2 : CWLS LOG ASCII STANDARD - VERSION 1.2\n",
      "WRAP      .                                      NO : One line per depth step\n",
      "DLM       .                                   SPACE : Column Data Section Delimiter\n",
      "~Well ------------------------------------------------------\n",
      "STRT      .m                                   10.0 : START DEPTH\n",
      "STOP      .m                                   49.5 : STOP DEPTH\n",
      "STEP      .m                                    0.5 : STEP\n",
      "NULL      .                                -9999.25 : NULL VALUE\n",
      "COMP      .                                 COMPANY : \n",
      "WELL      .                                    WELL : \n",
      "FLD       .                                   FIELD : \n",
      "LOC       .                                LOCATION : \n",
      "PROV      .                                PROVINCE : \n",
      "CNTY      .                                  COUNTY : \n",
      "STAT      .                                   STATE : \n",
      "CTRY      .                                 COUNTRY : \n",
      "SRVC      .                         SERVICE COMPANY : \n",
      "DATE      .                                    DATE : 2015-08-05 15:58:26.698038\n",
      "UWI       .                          UNIQUE WELL ID : \n",
      "API       .                              API NUMBER : \n",
      "~Curves ----------------------------------------------------\n",
      "DEPT      .m                                        : \n",
      "SYNTH     .                                         : Synthetic data\n",
      "~Params ----------------------------------------------------\n",
      "ENGI      .                 kinverarity@hotmail.com : Creator of this file...\n",
      "~Other -----------------------------------------------------\n",
      "Example of how to create a LAS file from scratch using las_reader\n",
      "~ASCII -----------------------------------------------------\n",
      "         10     10.431\n",
      "       10.5     10.278\n",
      "         11     11.399\n",
      "       11.5     11.587\n",
      "         12     10.979\n",
      "       12.5     11.079\n",
      "         13     11.876\n",
      "       13.5     12.087\n",
      "         14     11.928\n",
      "       14.5      11.74\n",
      "         15       12.5\n",
      "       15.5     12.207\n",
      "         16     12.108\n",
      "       16.5     12.546\n",
      "         17      12.76\n",
      "       17.5   -9999.25\n",
      "         18   -9999.25\n",
      "       18.5   -9999.25\n",
      "         19   -9999.25\n",
      "       19.5   -9999.25\n",
      "         20   -9999.25\n",
      "       20.5   -9999.25\n",
      "         21   -9999.25\n",
      "       21.5   -9999.25\n",
      "         22   -9999.25\n",
      "       22.5     14.402\n",
      "         23     13.633\n",
      "       23.5     14.263\n",
      "         24     14.789\n",
      "       24.5     14.639\n",
      "         25     14.184\n",
      "       25.5      14.66\n",
      "         26     14.396\n",
      "       26.5     14.696\n",
      "         27     15.297\n",
      "       27.5     14.562\n",
      "         28     14.728\n",
      "       28.5     14.939\n",
      "         29     15.019\n",
      "       29.5     15.616\n",
      "         30     15.124\n",
      "       30.5     14.899\n",
      "         31     14.926\n",
      "       31.5      15.82\n",
      "         32     15.098\n",
      "       32.5     15.636\n",
      "         33      16.18\n",
      "       33.5     15.303\n",
      "         34     15.459\n",
      "       34.5     15.983\n",
      "         35     15.985\n",
      "       35.5     16.484\n",
      "         36     15.984\n",
      "       36.5     15.959\n",
      "         37     16.011\n",
      "       37.5     16.694\n",
      "         38     16.414\n",
      "       38.5     16.374\n",
      "         39     16.381\n",
      "       39.5     16.056\n",
      "         40     16.438\n",
      "       40.5     16.308\n",
      "         41     16.867\n",
      "       41.5      16.71\n",
      "         42     16.385\n",
      "       42.5     16.517\n",
      "         43     16.789\n",
      "       43.5     16.765\n",
      "         44     16.978\n",
      "       44.5     16.687\n",
      "         45     17.163\n",
      "       45.5     16.695\n",
      "         46     17.294\n",
      "       46.5      17.55\n",
      "         47     17.533\n",
      "       47.5     17.056\n",
      "         48     17.782\n",
      "       48.5     17.288\n",
      "         49      17.74\n",
      "       49.5     17.219\n",
      "\n"
     ]
    }
   ],
   "source": [
    "fn = \"scratch_example_v2.las\"\n",
    "if os.path.exists(fn):  # Remove file if it already exists\n",
    "    os.remove(fn)\n",
    "with open(fn, mode=\"w\") as f: # Write LAS file to disk\n",
    "    l.write(f)\n",
    "with open(fn, mode=\"r\") as f: # Show the result... \n",
    "    print(f.read())"
   ]
  },
  {
   "cell_type": "code",
   "execution_count": 17,
   "metadata": {
    "collapsed": false,
    "scrolled": true
   },
   "outputs": [
    {
     "name": "stdout",
     "output_type": "stream",
     "text": [
      "~Version ---------------------------------------------------\n",
      "VERS      .                                     1.2 : CWLS LOG ASCII STANDARD - VERSION 1.2\n",
      "WRAP      .                                      NO : One line per depth step\n",
      "DLM       .                                   SPACE : Column Data Section Delimiter\n",
      "~Well ------------------------------------------------------\n",
      "STRT      .m                                   10.0 : START DEPTH\n",
      "STOP      .m                                   49.5 : STOP DEPTH\n",
      "STEP      .m                                    0.5 : STEP\n",
      "NULL      .                                -9999.25 : NULL VALUE\n",
      "COMP      .                                 COMPANY : \n",
      "WELL      .                                    WELL : \n",
      "FLD       .                                   FIELD : \n",
      "LOC       .                                LOCATION : \n",
      "PROV      .                                PROVINCE : \n",
      "CNTY      .                                  COUNTY : \n",
      "STAT      .                                   STATE : \n",
      "CTRY      .                                 COUNTRY : \n",
      "SRVC      .                         SERVICE COMPANY : \n",
      "DATE      .                                    DATE : 2015-08-05 15:58:26.698038\n",
      "UWI       .                          UNIQUE WELL ID : \n",
      "API       .                              API NUMBER : \n",
      "~Curves ----------------------------------------------------\n",
      "DEPT      .m                                        : \n",
      "SYNTH     .                                         : Synthetic data\n",
      "~Params ----------------------------------------------------\n",
      "ENGI      .                 kinverarity@hotmail.com : Creator of this file...\n",
      "~Other -----------------------------------------------------\n",
      "Example of how to create a LAS file from scratch using las_reader\n",
      "~ASCII -----------------------------------------------------\n",
      "         10     10.431\n",
      "       10.5     10.278\n",
      "         11     11.399\n",
      "       11.5     11.587\n",
      "         12     10.979\n",
      "       12.5     11.079\n",
      "         13     11.876\n",
      "       13.5     12.087\n",
      "         14     11.928\n",
      "       14.5      11.74\n",
      "         15       12.5\n",
      "       15.5     12.207\n",
      "         16     12.108\n",
      "       16.5     12.546\n",
      "         17      12.76\n",
      "       17.5   -9999.25\n",
      "         18   -9999.25\n",
      "       18.5   -9999.25\n",
      "         19   -9999.25\n",
      "       19.5   -9999.25\n",
      "         20   -9999.25\n",
      "       20.5   -9999.25\n",
      "         21   -9999.25\n",
      "       21.5   -9999.25\n",
      "         22   -9999.25\n",
      "       22.5     14.402\n",
      "         23     13.633\n",
      "       23.5     14.263\n",
      "         24     14.789\n",
      "       24.5     14.639\n",
      "         25     14.184\n",
      "       25.5      14.66\n",
      "         26     14.396\n",
      "       26.5     14.696\n",
      "         27     15.297\n",
      "       27.5     14.562\n",
      "         28     14.728\n",
      "       28.5     14.939\n",
      "         29     15.019\n",
      "       29.5     15.616\n",
      "         30     15.124\n",
      "       30.5     14.899\n",
      "         31     14.926\n",
      "       31.5      15.82\n",
      "         32     15.098\n",
      "       32.5     15.636\n",
      "         33      16.18\n",
      "       33.5     15.303\n",
      "         34     15.459\n",
      "       34.5     15.983\n",
      "         35     15.985\n",
      "       35.5     16.484\n",
      "         36     15.984\n",
      "       36.5     15.959\n",
      "         37     16.011\n",
      "       37.5     16.694\n",
      "         38     16.414\n",
      "       38.5     16.374\n",
      "         39     16.381\n",
      "       39.5     16.056\n",
      "         40     16.438\n",
      "       40.5     16.308\n",
      "         41     16.867\n",
      "       41.5      16.71\n",
      "         42     16.385\n",
      "       42.5     16.517\n",
      "         43     16.789\n",
      "       43.5     16.765\n",
      "         44     16.978\n",
      "       44.5     16.687\n",
      "         45     17.163\n",
      "       45.5     16.695\n",
      "         46     17.294\n",
      "       46.5      17.55\n",
      "         47     17.533\n",
      "       47.5     17.056\n",
      "         48     17.782\n",
      "       48.5     17.288\n",
      "         49      17.74\n",
      "       49.5     17.219\n",
      "\n"
     ]
    }
   ],
   "source": [
    "fn2 = \"scratch_example_v1.2.las\"\n",
    "if os.path.exists(fn2):  # Remove file if it already exists\n",
    "    os.remove(fn2)\n",
    "with open(fn2, mode=\"w\") as f: # Write LAS file to disk\n",
    "    l.write(f, version=1.2)\n",
    "with open(fn2, mode=\"r\") as f: # Show the result... \n",
    "    print(f.read())"
   ]
  },
  {
   "cell_type": "markdown",
   "metadata": {},
   "source": [
    "## Step 5\n",
    "\n",
    "And finally let's read in the resulting v1.2 file and see if the data is there correctly..."
   ]
  },
  {
   "cell_type": "code",
   "execution_count": 19,
   "metadata": {
    "collapsed": false
   },
   "outputs": [
    {
     "name": "stdout",
     "output_type": "stream",
     "text": [
      "Reading in scratch_example_v2.las\n",
      "['DEPT', 'SYNTH']\n"
     ]
    }
   ],
   "source": [
    "l_v12 = lasio.read(fn)\n",
    "print(\"Reading in %s\" % fn)\n",
    "print(l_v12.keys())"
   ]
  },
  {
   "cell_type": "code",
   "execution_count": 20,
   "metadata": {
    "collapsed": false
   },
   "outputs": [
    {
     "name": "stdout",
     "output_type": "stream",
     "text": [
      "HeaderItem(mnemonic='DATE', unit='', value='2015-08-05 15:58:26.698038', descr='DATE')\n"
     ]
    },
    {
     "data": {
      "image/png": "[encoded data removed]",
      "text/plain": [
       "<matplotlib.figure.Figure at 0xb05da96c>"
      ]
     },
     "metadata": {},
     "output_type": "display_data"
    }
   ],
   "source": [
    "plt.plot(l_v12[\"DEPT\"], l_v12[\"SYNTH\"])\n",
    "print(l_v12.well[\"DATE\"])"
   ]
  },
  {
   "cell_type": "code",
   "execution_count": 21,
   "metadata": {
    "collapsed": false
   },
   "outputs": [],
   "source": [
    "os.remove(fn)\n",
    "os.remove(fn2)"
   ]
  },
  {
   "cell_type": "code",
   "execution_count": 13,
   "metadata": {
    "collapsed": false
   },
   "outputs": [],
   "source": []
  }
 ],
 "metadata": {
  "kernelspec": {
   "display_name": "Python 2",
   "language": "python",
   "name": "python2"
  },
  "language_info": {
   "codemirror_mode": {
    "name": "ipython",
    "version": 2
   },
   "file_extension": ".py",
   "mimetype": "text/x-python",
   "name": "python",
   "nbconvert_exporter": "python",
   "pygments_lexer": "ipython2",
   "version": "2.7.10"
  }
 },
 "nbformat": 4,
 "nbformat_minor": 0
}
