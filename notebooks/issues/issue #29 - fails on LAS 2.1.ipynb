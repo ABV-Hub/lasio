{
 "metadata": {
  "name": "",
  "signature": "sha256:497f0b4b2f91e3a2d4195f8033a662b828f9a60d1ab268873c2ea987116d4f8b"
 },
 "nbformat": 3,
 "nbformat_minor": 0,
 "worksheets": [
  {
   "cells": [
    {
     "cell_type": "code",
     "collapsed": false,
     "input": [
      "fn = r\"D:\\study\\2015\\las_kgs_test\\LAS Files\\E-E' LAS Files\\Deem\\A_Deem_B.las\""
     ],
     "language": "python",
     "metadata": {},
     "outputs": [],
     "prompt_number": 1
    },
    {
     "cell_type": "code",
     "collapsed": false,
     "input": [
      "import las_reader"
     ],
     "language": "python",
     "metadata": {},
     "outputs": [],
     "prompt_number": 2
    },
    {
     "cell_type": "code",
     "collapsed": false,
     "input": [
      "l = las_reader.read(fn)"
     ],
     "language": "python",
     "metadata": {},
     "outputs": [
      {
       "ename": "KeyError",
       "evalue": "2.1",
       "output_type": "pyerr",
       "traceback": [
        "\u001b[1;31m---------------------------------------------------------------------------\u001b[0m\n\u001b[1;31mKeyError\u001b[0m                                  Traceback (most recent call last)",
        "\u001b[1;32m<ipython-input-3-b18e24cbc97b>\u001b[0m in \u001b[0;36m<module>\u001b[1;34m()\u001b[0m\n\u001b[1;32m----> 1\u001b[1;33m \u001b[0ml\u001b[0m \u001b[1;33m=\u001b[0m \u001b[0mlas_reader\u001b[0m\u001b[1;33m.\u001b[0m\u001b[0mread\u001b[0m\u001b[1;33m(\u001b[0m\u001b[0mfn\u001b[0m\u001b[1;33m)\u001b[0m\u001b[1;33m\u001b[0m\u001b[0m\n\u001b[0m",
        "\u001b[1;32md:\\work\\dewnr\\logging_software\\las_reader\\las_reader\\__init__.pyc\u001b[0m in \u001b[0;36mread\u001b[1;34m(file_ref, encoding, autodetect_encoding, autodetect_encoding_chars)\u001b[0m\n\u001b[0;32m     26\u001b[0m     return las.LASFile(file_ref, encoding=encoding,\n\u001b[0;32m     27\u001b[0m                        \u001b[0mautodetect_encoding\u001b[0m\u001b[1;33m=\u001b[0m\u001b[0mautodetect_encoding\u001b[0m\u001b[1;33m,\u001b[0m\u001b[1;33m\u001b[0m\u001b[0m\n\u001b[1;32m---> 28\u001b[1;33m                        autodetect_encoding_chars=autodetect_encoding_chars)\n\u001b[0m",
        "\u001b[1;32md:\\work\\dewnr\\logging_software\\las_reader\\las_reader\\las.pyc\u001b[0m in \u001b[0;36m__init__\u001b[1;34m(self, file_ref, encoding, autodetect_encoding, autodetect_encoding_chars)\u001b[0m\n\u001b[0;32m    144\u001b[0m             self.read(file_ref, encoding=encoding,\n\u001b[0;32m    145\u001b[0m                       \u001b[0mautodetect_encoding\u001b[0m\u001b[1;33m=\u001b[0m\u001b[0mautodetect_encoding\u001b[0m\u001b[1;33m,\u001b[0m\u001b[1;33m\u001b[0m\u001b[0m\n\u001b[1;32m--> 146\u001b[1;33m                       autodetect_encoding_chars=autodetect_encoding_chars)\n\u001b[0m\u001b[0;32m    147\u001b[0m \u001b[1;33m\u001b[0m\u001b[0m\n\u001b[0;32m    148\u001b[0m     def read(self, file_ref, encoding=None,\n",
        "\u001b[1;32md:\\work\\dewnr\\logging_software\\las_reader\\las_reader\\las.pyc\u001b[0m in \u001b[0;36mread\u001b[1;34m(self, file_ref, encoding, autodetect_encoding, autodetect_encoding_chars)\u001b[0m\n\u001b[0;32m    177\u001b[0m         \u001b[0mreader\u001b[0m\u001b[1;33m.\u001b[0m\u001b[0mwrap\u001b[0m \u001b[1;33m=\u001b[0m \u001b[0mself\u001b[0m\u001b[1;33m.\u001b[0m\u001b[0mversion\u001b[0m\u001b[1;33m[\u001b[0m\u001b[1;34m'WRAP'\u001b[0m\u001b[1;33m]\u001b[0m\u001b[1;33m.\u001b[0m\u001b[0mvalue\u001b[0m \u001b[1;33m==\u001b[0m \u001b[1;34m'YES'\u001b[0m\u001b[1;33m\u001b[0m\u001b[0m\n\u001b[0;32m    178\u001b[0m \u001b[1;33m\u001b[0m\u001b[0m\n\u001b[1;32m--> 179\u001b[1;33m         \u001b[0mself\u001b[0m\u001b[1;33m.\u001b[0m\u001b[0mwell\u001b[0m \u001b[1;33m=\u001b[0m \u001b[0mreader\u001b[0m\u001b[1;33m.\u001b[0m\u001b[0mread_section\u001b[0m\u001b[1;33m(\u001b[0m\u001b[1;34m'~W'\u001b[0m\u001b[1;33m)\u001b[0m\u001b[1;33m\u001b[0m\u001b[0m\n\u001b[0m\u001b[0;32m    180\u001b[0m         \u001b[0mself\u001b[0m\u001b[1;33m.\u001b[0m\u001b[0mcurves\u001b[0m \u001b[1;33m=\u001b[0m \u001b[0mreader\u001b[0m\u001b[1;33m.\u001b[0m\u001b[0mread_list_section\u001b[0m\u001b[1;33m(\u001b[0m\u001b[1;34m'~C'\u001b[0m\u001b[1;33m)\u001b[0m\u001b[1;33m\u001b[0m\u001b[0m\n\u001b[0;32m    181\u001b[0m         \u001b[0mself\u001b[0m\u001b[1;33m.\u001b[0m\u001b[0mparams\u001b[0m \u001b[1;33m=\u001b[0m \u001b[0mreader\u001b[0m\u001b[1;33m.\u001b[0m\u001b[0mread_section\u001b[0m\u001b[1;33m(\u001b[0m\u001b[1;34m'~P'\u001b[0m\u001b[1;33m)\u001b[0m\u001b[1;33m\u001b[0m\u001b[0m\n",
        "\u001b[1;32md:\\work\\dewnr\\logging_software\\las_reader\\las_reader\\las.pyc\u001b[0m in \u001b[0;36mread_section\u001b[1;34m(self, section_name)\u001b[0m\n\u001b[0;32m    437\u001b[0m \u001b[1;33m\u001b[0m\u001b[0m\n\u001b[0;32m    438\u001b[0m     \u001b[1;32mdef\u001b[0m \u001b[0mread_section\u001b[0m\u001b[1;33m(\u001b[0m\u001b[0mself\u001b[0m\u001b[1;33m,\u001b[0m \u001b[0msection_name\u001b[0m\u001b[1;33m)\u001b[0m\u001b[1;33m:\u001b[0m\u001b[1;33m\u001b[0m\u001b[0m\n\u001b[1;32m--> 439\u001b[1;33m         \u001b[0mparser\u001b[0m \u001b[1;33m=\u001b[0m \u001b[0mSectionParser\u001b[0m\u001b[1;33m(\u001b[0m\u001b[0msection_name\u001b[0m\u001b[1;33m,\u001b[0m \u001b[0mversion\u001b[0m\u001b[1;33m=\u001b[0m\u001b[0mself\u001b[0m\u001b[1;33m.\u001b[0m\u001b[0mversion\u001b[0m\u001b[1;33m)\u001b[0m\u001b[1;33m\u001b[0m\u001b[0m\n\u001b[0m\u001b[0;32m    440\u001b[0m         \u001b[0md\u001b[0m \u001b[1;33m=\u001b[0m \u001b[0mOrderedDictionary\u001b[0m\u001b[1;33m(\u001b[0m\u001b[1;33m)\u001b[0m\u001b[1;33m\u001b[0m\u001b[0m\n\u001b[0;32m    441\u001b[0m         \u001b[1;32mfor\u001b[0m \u001b[0mline\u001b[0m \u001b[1;32min\u001b[0m \u001b[0mself\u001b[0m\u001b[1;33m.\u001b[0m\u001b[0miter_section_lines\u001b[0m\u001b[1;33m(\u001b[0m\u001b[0msection_name\u001b[0m\u001b[1;33m)\u001b[0m\u001b[1;33m:\u001b[0m\u001b[1;33m\u001b[0m\u001b[0m\n",
        "\u001b[1;32md:\\work\\dewnr\\logging_software\\las_reader\\las_reader\\las.pyc\u001b[0m in \u001b[0;36m__init__\u001b[1;34m(self, section_name, version)\u001b[0m\n\u001b[0;32m    522\u001b[0m                               \"~P\": \"params\"}[section_name]\n\u001b[0;32m    523\u001b[0m \u001b[1;33m\u001b[0m\u001b[0m\n\u001b[1;32m--> 524\u001b[1;33m         \u001b[0msection_orders\u001b[0m \u001b[1;33m=\u001b[0m \u001b[0mORDER_DEFINITIONS\u001b[0m\u001b[1;33m[\u001b[0m\u001b[0mself\u001b[0m\u001b[1;33m.\u001b[0m\u001b[0mversion\u001b[0m\u001b[1;33m]\u001b[0m\u001b[1;33m[\u001b[0m\u001b[0mself\u001b[0m\u001b[1;33m.\u001b[0m\u001b[0msection_name2\u001b[0m\u001b[1;33m]\u001b[0m\u001b[1;33m\u001b[0m\u001b[0m\n\u001b[0m\u001b[0;32m    525\u001b[0m         \u001b[0mself\u001b[0m\u001b[1;33m.\u001b[0m\u001b[0mdefault_order\u001b[0m \u001b[1;33m=\u001b[0m \u001b[0msection_orders\u001b[0m\u001b[1;33m[\u001b[0m\u001b[1;36m0\u001b[0m\u001b[1;33m]\u001b[0m\u001b[1;33m\u001b[0m\u001b[0m\n\u001b[0;32m    526\u001b[0m         \u001b[0mself\u001b[0m\u001b[1;33m.\u001b[0m\u001b[0morders\u001b[0m \u001b[1;33m=\u001b[0m \u001b[1;33m{\u001b[0m\u001b[1;33m}\u001b[0m\u001b[1;33m\u001b[0m\u001b[0m\n",
        "\u001b[1;31mKeyError\u001b[0m: 2.1"
       ]
      }
     ],
     "prompt_number": 3
    },
    {
     "cell_type": "markdown",
     "metadata": {},
     "source": [
      "After implementing fix..."
     ]
    },
    {
     "cell_type": "code",
     "collapsed": false,
     "input": [
      "import las_reader\n",
      "fn = r\"D:\\study\\2015\\las_kgs_test\\LAS Files\\E-E' LAS Files\\Deem\\A_Deem_B.las\""
     ],
     "language": "python",
     "metadata": {},
     "outputs": [],
     "prompt_number": 1
    },
    {
     "cell_type": "code",
     "collapsed": false,
     "input": [
      "l2 = las_reader.read(fn)"
     ],
     "language": "python",
     "metadata": {},
     "outputs": [
      {
       "output_type": "stream",
       "stream": "stderr",
       "text": [
        "WARNING:las_reader.las:LAS spec version is 2.1 -- neither 1.2 nor 2\n"
       ]
      }
     ],
     "prompt_number": 2
    },
    {
     "cell_type": "code",
     "collapsed": false,
     "input": [
      "l2"
     ],
     "language": "python",
     "metadata": {},
     "outputs": [
      {
       "metadata": {},
       "output_type": "pyout",
       "prompt_number": 3,
       "text": [
        "{'DEPT': [  8800.    8800.5   8801.  ...,  13239.   13239.5  13240. ],\n",
        " 'GR': [ 15.528   15.8458  16.1636 ...,  74.2078  71.4318  67.7284],\n",
        " 'DPHI': [    nan  1.3407  2.8691 ...,  7.0868  8.1158  8.4247],\n",
        " 'DT': [ 51.7633  51.4376  51.5757 ...,  55.3647  55.0382  55.178 ]}"
       ]
      }
     ],
     "prompt_number": 3
    },
    {
     "cell_type": "code",
     "collapsed": false,
     "input": [],
     "language": "python",
     "metadata": {},
     "outputs": []
    }
   ],
   "metadata": {}
  }
 ]
}