{
 "metadata": {
  "name": ""
 },
 "nbformat": 3,
 "nbformat_minor": 0,
 "worksheets": [
  {
   "cells": [
    {
     "cell_type": "heading",
     "level": 1,
     "metadata": {},
     "source": [
      "reading and viewing a log file (1.2)"
     ]
    },
    {
     "cell_type": "code",
     "collapsed": false,
     "input": [
      "import las_reader\n",
      "print las_reader.__version__"
     ],
     "language": "python",
     "metadata": {},
     "outputs": [
      {
       "output_type": "stream",
       "stream": "stdout",
       "text": [
        "unknown\n"
       ]
      }
     ],
     "prompt_number": 1
    },
    {
     "cell_type": "markdown",
     "metadata": {},
     "source": [
      "Read in an example LAS 1.2 file:"
     ]
    },
    {
     "cell_type": "code",
     "collapsed": false,
     "input": [
      "log = las_reader.read('https://raw.github.com/kinverarity1/las-reader/master/standards/examples/1.2/sample_curve_api.las')\n",
      "print type(log)"
     ],
     "language": "python",
     "metadata": {},
     "outputs": [
      {
       "output_type": "stream",
       "stream": "stdout",
       "text": [
        "VERS.                  1.2:   CWLS LOG ASCII STANDARD -VERSION 1.2\n",
        "['VERS', None, '1.2', 'CWLS LOG ASCII STANDARD -VERSION 1.2']\n",
        "WRAP.                  NO:   ONE LINE PER DEPTH STEP\n",
        "['WRAP', None, 'NO', 'ONE LINE PER DEPTH STEP']\n",
        "STRT.M        1670.000000:\n",
        "['STRT', 'M', '1670.000000', '']\n",
        "STOP.M        1660.000000:\n",
        "['STOP', 'M', '1660.000000', '']\n",
        "STEP.M            -0.1250:\n",
        "['STEP', 'M', '-0.1250', '']\n",
        "NULL.           -999.2500:\n",
        "['NULL', None, '-999.2500', '']\n",
        "COMP.             COMPANY:   ANY OIL COMPANY LTD.\n",
        "['COMP', None, 'COMPANY', 'ANY OIL COMPANY LTD.']\n",
        "WELL.                WELL:   ANY ET AL OIL WELL #12\n",
        "['WELL', None, 'WELL', 'ANY ET AL OIL WELL #12']\n",
        "FLD .               FIELD:   EDAM\n",
        "['FLD', None, 'FIELD', 'EDAM']\n",
        "LOC .            LOCATION:   A9-16-49-20W3M\n",
        "['LOC', None, 'LOCATION', 'A9-16-49-20W3M']\n",
        "PROV.            PROVINCE:   SASKATCHEWAN\n",
        "['PROV', None, 'PROVINCE', 'SASKATCHEWAN']\n",
        "SRVC.     SERVICE COMPANY:   ANY LOGGING COMPANY LTD.\n",
        "['SRVC', None, 'SERVICE COMPANY', 'ANY LOGGING COMPANY LTD.']\n",
        "DATE.            LOG DATE:   25-DEC-1988\n",
        "['DATE', None, 'LOG DATE', '25-DEC-1988']\n",
        "UWI .      UNIQUE WELL ID:   100091604920W300\n",
        "['UWI', None, 'UNIQUE WELL ID', '100091604920W300']\n",
        "<class 'las_reader.LASFile'>\n"
       ]
      }
     ],
     "prompt_number": 3
    },
    {
     "cell_type": "markdown",
     "metadata": {},
     "source": [
      "The LASFile object has some provenance information depending on what was read. You can pass the read() function a filename, URL, file-like object, or string."
     ]
    },
    {
     "cell_type": "code",
     "collapsed": false,
     "input": [
      "log.provenance"
     ],
     "language": "python",
     "metadata": {},
     "outputs": [
      {
       "metadata": {},
       "output_type": "pyout",
       "prompt_number": 3,
       "text": [
        "{'name': 'sample_curve_api.las',\n",
        " 'path': None,\n",
        " 'time_opened': datetime.datetime(2013, 12, 24, 21, 45, 53, 708000),\n",
        " 'url': 'https://raw.github.com/kinverarity1/las-reader/master/standards/examples/1.2/sample_curve_api.las'}"
       ]
      }
     ],
     "prompt_number": 3
    },
    {
     "cell_type": "markdown",
     "metadata": {},
     "source": [
      "The version and well sections are present as dictionaries:"
     ]
    },
    {
     "cell_type": "code",
     "collapsed": false,
     "input": [
      "log.version"
     ],
     "language": "python",
     "metadata": {},
     "outputs": [
      {
       "metadata": {},
       "output_type": "pyout",
       "prompt_number": 4,
       "text": [
        "{'DLM': ' ', 'VERS': 1.2, 'WRAP': False}"
       ]
      }
     ],
     "prompt_number": 4
    },
    {
     "cell_type": "code",
     "collapsed": false,
     "input": [
      "log.well"
     ],
     "language": "python",
     "metadata": {},
     "outputs": [
      {
       "metadata": {},
       "output_type": "pyout",
       "prompt_number": 5,
       "text": [
        "{'COMP': 'ANY OIL COMPANY LTD.',\n",
        " 'CTRY': None,\n",
        " 'DATE': '25-DEC-1988',\n",
        " 'FLD': 'EDAM',\n",
        " 'LOC': 'A9-16-49-20W3M',\n",
        " 'NULL': -999.25,\n",
        " 'PROV': 'SASKATCHEWAN',\n",
        " 'SRVC': 'ANY LOGGING COMPANY LTD.',\n",
        " 'STEP': -0.125,\n",
        " 'STEP.UNIT': 'M',\n",
        " 'STOP': 1660.0,\n",
        " 'STOP.UNIT': 'M',\n",
        " 'STRT': 1670.0,\n",
        " 'STRT.UNIT': 'M',\n",
        " 'UWI': '100091604920W300',\n",
        " 'WELL': 'ANY ET AL OIL WELL #12'}"
       ]
      }
     ],
     "prompt_number": 5
    },
    {
     "cell_type": "code",
     "collapsed": false,
     "input": [],
     "language": "python",
     "metadata": {},
     "outputs": []
    }
   ],
   "metadata": {}
  }
 ]
}